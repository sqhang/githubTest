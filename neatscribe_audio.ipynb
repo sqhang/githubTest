{
  "nbformat": 4,
  "nbformat_minor": 0,
  "metadata": {
    "colab": {
      "provenance": [],
      "collapsed_sections": [
        "5af5lSOJudcm",
        "dvKTwmph-Dq3",
        "kXDbFDrOpZiq",
        "JW8D2Mgs5tSZ",
        "sy49coMZD8BV",
        "wd7Ku-9uN4Xg",
        "aEi4mhd5xEPC",
        "WtRuDlPqJ9N7",
        "kIHdWVqi-OEs"
      ],
      "machine_shape": "hm",
      "authorship_tag": "ABX9TyMe6yravxzgibM9VMp6sh86",
      "include_colab_link": true
    },
    "kernelspec": {
      "name": "python3",
      "display_name": "Python 3"
    },
    "language_info": {
      "name": "python"
    },
    "gpuClass": "standard",
    "accelerator": "GPU",
    "widgets": {
      "application/vnd.jupyter.widget-state+json": {
        "5737093906c14592816b5d958b83286b": {
          "model_module": "@jupyter-widgets/controls",
          "model_name": "HBoxModel",
          "model_module_version": "1.5.0",
          "state": {
            "_dom_classes": [],
            "_model_module": "@jupyter-widgets/controls",
            "_model_module_version": "1.5.0",
            "_model_name": "HBoxModel",
            "_view_count": null,
            "_view_module": "@jupyter-widgets/controls",
            "_view_module_version": "1.5.0",
            "_view_name": "HBoxView",
            "box_style": "",
            "children": [
              "IPY_MODEL_0ba902d92a7c4e3a84f1a6d6cfc6a465",
              "IPY_MODEL_4c99a51dc8ee434c9a307c7081b18f07",
              "IPY_MODEL_491ca1402b8c4bddaf41f1963d044fd6"
            ],
            "layout": "IPY_MODEL_84cdc95791ba40d485d32409b8f99740"
          }
        },
        "0ba902d92a7c4e3a84f1a6d6cfc6a465": {
          "model_module": "@jupyter-widgets/controls",
          "model_name": "HTMLModel",
          "model_module_version": "1.5.0",
          "state": {
            "_dom_classes": [],
            "_model_module": "@jupyter-widgets/controls",
            "_model_module_version": "1.5.0",
            "_model_name": "HTMLModel",
            "_view_count": null,
            "_view_module": "@jupyter-widgets/controls",
            "_view_module_version": "1.5.0",
            "_view_name": "HTMLView",
            "description": "",
            "description_tooltip": null,
            "layout": "IPY_MODEL_3e32736da1c44243a7d88d087f72f79f",
            "placeholder": "​",
            "style": "IPY_MODEL_9f1b2be2dc6b480c83f00b0fbe07dd33",
            "value": "Dl Completed...: 100%"
          }
        },
        "4c99a51dc8ee434c9a307c7081b18f07": {
          "model_module": "@jupyter-widgets/controls",
          "model_name": "FloatProgressModel",
          "model_module_version": "1.5.0",
          "state": {
            "_dom_classes": [],
            "_model_module": "@jupyter-widgets/controls",
            "_model_module_version": "1.5.0",
            "_model_name": "FloatProgressModel",
            "_view_count": null,
            "_view_module": "@jupyter-widgets/controls",
            "_view_module_version": "1.5.0",
            "_view_name": "ProgressView",
            "bar_style": "success",
            "description": "",
            "description_tooltip": null,
            "layout": "IPY_MODEL_2c99ea4b8b98411bb31e3ee5f2830ed9",
            "max": 1,
            "min": 0,
            "orientation": "horizontal",
            "style": "IPY_MODEL_4f2a7dd3a18e4d049aa989579afa4f66",
            "value": 1
          }
        },
        "491ca1402b8c4bddaf41f1963d044fd6": {
          "model_module": "@jupyter-widgets/controls",
          "model_name": "HTMLModel",
          "model_module_version": "1.5.0",
          "state": {
            "_dom_classes": [],
            "_model_module": "@jupyter-widgets/controls",
            "_model_module_version": "1.5.0",
            "_model_name": "HTMLModel",
            "_view_count": null,
            "_view_module": "@jupyter-widgets/controls",
            "_view_module_version": "1.5.0",
            "_view_name": "HTMLView",
            "description": "",
            "description_tooltip": null,
            "layout": "IPY_MODEL_d41304fce3f8434a81825d465b8806c2",
            "placeholder": "​",
            "style": "IPY_MODEL_b6439fc046c1477190fd2be5bc821068",
            "value": " 2/2 [00:02&lt;00:00,  1.08s/ url]"
          }
        },
        "84cdc95791ba40d485d32409b8f99740": {
          "model_module": "@jupyter-widgets/base",
          "model_name": "LayoutModel",
          "model_module_version": "1.2.0",
          "state": {
            "_model_module": "@jupyter-widgets/base",
            "_model_module_version": "1.2.0",
            "_model_name": "LayoutModel",
            "_view_count": null,
            "_view_module": "@jupyter-widgets/base",
            "_view_module_version": "1.2.0",
            "_view_name": "LayoutView",
            "align_content": null,
            "align_items": null,
            "align_self": null,
            "border": null,
            "bottom": null,
            "display": null,
            "flex": null,
            "flex_flow": null,
            "grid_area": null,
            "grid_auto_columns": null,
            "grid_auto_flow": null,
            "grid_auto_rows": null,
            "grid_column": null,
            "grid_gap": null,
            "grid_row": null,
            "grid_template_areas": null,
            "grid_template_columns": null,
            "grid_template_rows": null,
            "height": null,
            "justify_content": null,
            "justify_items": null,
            "left": null,
            "margin": null,
            "max_height": null,
            "max_width": null,
            "min_height": null,
            "min_width": null,
            "object_fit": null,
            "object_position": null,
            "order": null,
            "overflow": null,
            "overflow_x": null,
            "overflow_y": null,
            "padding": null,
            "right": null,
            "top": null,
            "visibility": null,
            "width": null
          }
        },
        "3e32736da1c44243a7d88d087f72f79f": {
          "model_module": "@jupyter-widgets/base",
          "model_name": "LayoutModel",
          "model_module_version": "1.2.0",
          "state": {
            "_model_module": "@jupyter-widgets/base",
            "_model_module_version": "1.2.0",
            "_model_name": "LayoutModel",
            "_view_count": null,
            "_view_module": "@jupyter-widgets/base",
            "_view_module_version": "1.2.0",
            "_view_name": "LayoutView",
            "align_content": null,
            "align_items": null,
            "align_self": null,
            "border": null,
            "bottom": null,
            "display": null,
            "flex": null,
            "flex_flow": null,
            "grid_area": null,
            "grid_auto_columns": null,
            "grid_auto_flow": null,
            "grid_auto_rows": null,
            "grid_column": null,
            "grid_gap": null,
            "grid_row": null,
            "grid_template_areas": null,
            "grid_template_columns": null,
            "grid_template_rows": null,
            "height": null,
            "justify_content": null,
            "justify_items": null,
            "left": null,
            "margin": null,
            "max_height": null,
            "max_width": null,
            "min_height": null,
            "min_width": null,
            "object_fit": null,
            "object_position": null,
            "order": null,
            "overflow": null,
            "overflow_x": null,
            "overflow_y": null,
            "padding": null,
            "right": null,
            "top": null,
            "visibility": null,
            "width": null
          }
        },
        "9f1b2be2dc6b480c83f00b0fbe07dd33": {
          "model_module": "@jupyter-widgets/controls",
          "model_name": "DescriptionStyleModel",
          "model_module_version": "1.5.0",
          "state": {
            "_model_module": "@jupyter-widgets/controls",
            "_model_module_version": "1.5.0",
            "_model_name": "DescriptionStyleModel",
            "_view_count": null,
            "_view_module": "@jupyter-widgets/base",
            "_view_module_version": "1.2.0",
            "_view_name": "StyleView",
            "description_width": ""
          }
        },
        "2c99ea4b8b98411bb31e3ee5f2830ed9": {
          "model_module": "@jupyter-widgets/base",
          "model_name": "LayoutModel",
          "model_module_version": "1.2.0",
          "state": {
            "_model_module": "@jupyter-widgets/base",
            "_model_module_version": "1.2.0",
            "_model_name": "LayoutModel",
            "_view_count": null,
            "_view_module": "@jupyter-widgets/base",
            "_view_module_version": "1.2.0",
            "_view_name": "LayoutView",
            "align_content": null,
            "align_items": null,
            "align_self": null,
            "border": null,
            "bottom": null,
            "display": null,
            "flex": null,
            "flex_flow": null,
            "grid_area": null,
            "grid_auto_columns": null,
            "grid_auto_flow": null,
            "grid_auto_rows": null,
            "grid_column": null,
            "grid_gap": null,
            "grid_row": null,
            "grid_template_areas": null,
            "grid_template_columns": null,
            "grid_template_rows": null,
            "height": null,
            "justify_content": null,
            "justify_items": null,
            "left": null,
            "margin": null,
            "max_height": null,
            "max_width": null,
            "min_height": null,
            "min_width": null,
            "object_fit": null,
            "object_position": null,
            "order": null,
            "overflow": null,
            "overflow_x": null,
            "overflow_y": null,
            "padding": null,
            "right": null,
            "top": null,
            "visibility": null,
            "width": "20px"
          }
        },
        "4f2a7dd3a18e4d049aa989579afa4f66": {
          "model_module": "@jupyter-widgets/controls",
          "model_name": "ProgressStyleModel",
          "model_module_version": "1.5.0",
          "state": {
            "_model_module": "@jupyter-widgets/controls",
            "_model_module_version": "1.5.0",
            "_model_name": "ProgressStyleModel",
            "_view_count": null,
            "_view_module": "@jupyter-widgets/base",
            "_view_module_version": "1.2.0",
            "_view_name": "StyleView",
            "bar_color": null,
            "description_width": ""
          }
        },
        "d41304fce3f8434a81825d465b8806c2": {
          "model_module": "@jupyter-widgets/base",
          "model_name": "LayoutModel",
          "model_module_version": "1.2.0",
          "state": {
            "_model_module": "@jupyter-widgets/base",
            "_model_module_version": "1.2.0",
            "_model_name": "LayoutModel",
            "_view_count": null,
            "_view_module": "@jupyter-widgets/base",
            "_view_module_version": "1.2.0",
            "_view_name": "LayoutView",
            "align_content": null,
            "align_items": null,
            "align_self": null,
            "border": null,
            "bottom": null,
            "display": null,
            "flex": null,
            "flex_flow": null,
            "grid_area": null,
            "grid_auto_columns": null,
            "grid_auto_flow": null,
            "grid_auto_rows": null,
            "grid_column": null,
            "grid_gap": null,
            "grid_row": null,
            "grid_template_areas": null,
            "grid_template_columns": null,
            "grid_template_rows": null,
            "height": null,
            "justify_content": null,
            "justify_items": null,
            "left": null,
            "margin": null,
            "max_height": null,
            "max_width": null,
            "min_height": null,
            "min_width": null,
            "object_fit": null,
            "object_position": null,
            "order": null,
            "overflow": null,
            "overflow_x": null,
            "overflow_y": null,
            "padding": null,
            "right": null,
            "top": null,
            "visibility": null,
            "width": null
          }
        },
        "b6439fc046c1477190fd2be5bc821068": {
          "model_module": "@jupyter-widgets/controls",
          "model_name": "DescriptionStyleModel",
          "model_module_version": "1.5.0",
          "state": {
            "_model_module": "@jupyter-widgets/controls",
            "_model_module_version": "1.5.0",
            "_model_name": "DescriptionStyleModel",
            "_view_count": null,
            "_view_module": "@jupyter-widgets/base",
            "_view_module_version": "1.2.0",
            "_view_name": "StyleView",
            "description_width": ""
          }
        },
        "28f78241fe1b470ba71d7bb21022c119": {
          "model_module": "@jupyter-widgets/controls",
          "model_name": "HBoxModel",
          "model_module_version": "1.5.0",
          "state": {
            "_dom_classes": [],
            "_model_module": "@jupyter-widgets/controls",
            "_model_module_version": "1.5.0",
            "_model_name": "HBoxModel",
            "_view_count": null,
            "_view_module": "@jupyter-widgets/controls",
            "_view_module_version": "1.5.0",
            "_view_name": "HBoxView",
            "box_style": "",
            "children": [
              "IPY_MODEL_469c150d141d48b081f4d5232299017b",
              "IPY_MODEL_d3daea09e85e442fae2db5c973e0533e",
              "IPY_MODEL_51fa8f68ae7447c096f4ea67b2b6e936"
            ],
            "layout": "IPY_MODEL_015a9fb129f64589a5c89711283457df"
          }
        },
        "469c150d141d48b081f4d5232299017b": {
          "model_module": "@jupyter-widgets/controls",
          "model_name": "HTMLModel",
          "model_module_version": "1.5.0",
          "state": {
            "_dom_classes": [],
            "_model_module": "@jupyter-widgets/controls",
            "_model_module_version": "1.5.0",
            "_model_name": "HTMLModel",
            "_view_count": null,
            "_view_module": "@jupyter-widgets/controls",
            "_view_module_version": "1.5.0",
            "_view_name": "HTMLView",
            "description": "",
            "description_tooltip": null,
            "layout": "IPY_MODEL_3aff31d8232e45d493580fe2b0608fe1",
            "placeholder": "​",
            "style": "IPY_MODEL_2c35f6e9a72b4d86ac39d9e7cbd641c3",
            "value": "Dl Size...: "
          }
        },
        "d3daea09e85e442fae2db5c973e0533e": {
          "model_module": "@jupyter-widgets/controls",
          "model_name": "FloatProgressModel",
          "model_module_version": "1.5.0",
          "state": {
            "_dom_classes": [],
            "_model_module": "@jupyter-widgets/controls",
            "_model_module_version": "1.5.0",
            "_model_name": "FloatProgressModel",
            "_view_count": null,
            "_view_module": "@jupyter-widgets/controls",
            "_view_module_version": "1.5.0",
            "_view_name": "ProgressView",
            "bar_style": "success",
            "description": "",
            "description_tooltip": null,
            "layout": "IPY_MODEL_08bd5083110a4fdb869020f807189dab",
            "max": 1,
            "min": 0,
            "orientation": "horizontal",
            "style": "IPY_MODEL_43e79c31d66d49e8941d09213a9e6d97",
            "value": 1
          }
        },
        "51fa8f68ae7447c096f4ea67b2b6e936": {
          "model_module": "@jupyter-widgets/controls",
          "model_name": "HTMLModel",
          "model_module_version": "1.5.0",
          "state": {
            "_dom_classes": [],
            "_model_module": "@jupyter-widgets/controls",
            "_model_module_version": "1.5.0",
            "_model_name": "HTMLModel",
            "_view_count": null,
            "_view_module": "@jupyter-widgets/controls",
            "_view_module_version": "1.5.0",
            "_view_name": "HTMLView",
            "description": "",
            "description_tooltip": null,
            "layout": "IPY_MODEL_97ed4bc6398d46bba6204a61448e84ac",
            "placeholder": "​",
            "style": "IPY_MODEL_a84c69c505a44256af5f3f50e86ba0d5",
            "value": " 32/? [00:02&lt;00:00, 21.16 MiB/s]"
          }
        },
        "015a9fb129f64589a5c89711283457df": {
          "model_module": "@jupyter-widgets/base",
          "model_name": "LayoutModel",
          "model_module_version": "1.2.0",
          "state": {
            "_model_module": "@jupyter-widgets/base",
            "_model_module_version": "1.2.0",
            "_model_name": "LayoutModel",
            "_view_count": null,
            "_view_module": "@jupyter-widgets/base",
            "_view_module_version": "1.2.0",
            "_view_name": "LayoutView",
            "align_content": null,
            "align_items": null,
            "align_self": null,
            "border": null,
            "bottom": null,
            "display": null,
            "flex": null,
            "flex_flow": null,
            "grid_area": null,
            "grid_auto_columns": null,
            "grid_auto_flow": null,
            "grid_auto_rows": null,
            "grid_column": null,
            "grid_gap": null,
            "grid_row": null,
            "grid_template_areas": null,
            "grid_template_columns": null,
            "grid_template_rows": null,
            "height": null,
            "justify_content": null,
            "justify_items": null,
            "left": null,
            "margin": null,
            "max_height": null,
            "max_width": null,
            "min_height": null,
            "min_width": null,
            "object_fit": null,
            "object_position": null,
            "order": null,
            "overflow": null,
            "overflow_x": null,
            "overflow_y": null,
            "padding": null,
            "right": null,
            "top": null,
            "visibility": null,
            "width": null
          }
        },
        "3aff31d8232e45d493580fe2b0608fe1": {
          "model_module": "@jupyter-widgets/base",
          "model_name": "LayoutModel",
          "model_module_version": "1.2.0",
          "state": {
            "_model_module": "@jupyter-widgets/base",
            "_model_module_version": "1.2.0",
            "_model_name": "LayoutModel",
            "_view_count": null,
            "_view_module": "@jupyter-widgets/base",
            "_view_module_version": "1.2.0",
            "_view_name": "LayoutView",
            "align_content": null,
            "align_items": null,
            "align_self": null,
            "border": null,
            "bottom": null,
            "display": null,
            "flex": null,
            "flex_flow": null,
            "grid_area": null,
            "grid_auto_columns": null,
            "grid_auto_flow": null,
            "grid_auto_rows": null,
            "grid_column": null,
            "grid_gap": null,
            "grid_row": null,
            "grid_template_areas": null,
            "grid_template_columns": null,
            "grid_template_rows": null,
            "height": null,
            "justify_content": null,
            "justify_items": null,
            "left": null,
            "margin": null,
            "max_height": null,
            "max_width": null,
            "min_height": null,
            "min_width": null,
            "object_fit": null,
            "object_position": null,
            "order": null,
            "overflow": null,
            "overflow_x": null,
            "overflow_y": null,
            "padding": null,
            "right": null,
            "top": null,
            "visibility": null,
            "width": null
          }
        },
        "2c35f6e9a72b4d86ac39d9e7cbd641c3": {
          "model_module": "@jupyter-widgets/controls",
          "model_name": "DescriptionStyleModel",
          "model_module_version": "1.5.0",
          "state": {
            "_model_module": "@jupyter-widgets/controls",
            "_model_module_version": "1.5.0",
            "_model_name": "DescriptionStyleModel",
            "_view_count": null,
            "_view_module": "@jupyter-widgets/base",
            "_view_module_version": "1.2.0",
            "_view_name": "StyleView",
            "description_width": ""
          }
        },
        "08bd5083110a4fdb869020f807189dab": {
          "model_module": "@jupyter-widgets/base",
          "model_name": "LayoutModel",
          "model_module_version": "1.2.0",
          "state": {
            "_model_module": "@jupyter-widgets/base",
            "_model_module_version": "1.2.0",
            "_model_name": "LayoutModel",
            "_view_count": null,
            "_view_module": "@jupyter-widgets/base",
            "_view_module_version": "1.2.0",
            "_view_name": "LayoutView",
            "align_content": null,
            "align_items": null,
            "align_self": null,
            "border": null,
            "bottom": null,
            "display": null,
            "flex": null,
            "flex_flow": null,
            "grid_area": null,
            "grid_auto_columns": null,
            "grid_auto_flow": null,
            "grid_auto_rows": null,
            "grid_column": null,
            "grid_gap": null,
            "grid_row": null,
            "grid_template_areas": null,
            "grid_template_columns": null,
            "grid_template_rows": null,
            "height": null,
            "justify_content": null,
            "justify_items": null,
            "left": null,
            "margin": null,
            "max_height": null,
            "max_width": null,
            "min_height": null,
            "min_width": null,
            "object_fit": null,
            "object_position": null,
            "order": null,
            "overflow": null,
            "overflow_x": null,
            "overflow_y": null,
            "padding": null,
            "right": null,
            "top": null,
            "visibility": null,
            "width": "20px"
          }
        },
        "43e79c31d66d49e8941d09213a9e6d97": {
          "model_module": "@jupyter-widgets/controls",
          "model_name": "ProgressStyleModel",
          "model_module_version": "1.5.0",
          "state": {
            "_model_module": "@jupyter-widgets/controls",
            "_model_module_version": "1.5.0",
            "_model_name": "ProgressStyleModel",
            "_view_count": null,
            "_view_module": "@jupyter-widgets/base",
            "_view_module_version": "1.2.0",
            "_view_name": "StyleView",
            "bar_color": null,
            "description_width": ""
          }
        },
        "97ed4bc6398d46bba6204a61448e84ac": {
          "model_module": "@jupyter-widgets/base",
          "model_name": "LayoutModel",
          "model_module_version": "1.2.0",
          "state": {
            "_model_module": "@jupyter-widgets/base",
            "_model_module_version": "1.2.0",
            "_model_name": "LayoutModel",
            "_view_count": null,
            "_view_module": "@jupyter-widgets/base",
            "_view_module_version": "1.2.0",
            "_view_name": "LayoutView",
            "align_content": null,
            "align_items": null,
            "align_self": null,
            "border": null,
            "bottom": null,
            "display": null,
            "flex": null,
            "flex_flow": null,
            "grid_area": null,
            "grid_auto_columns": null,
            "grid_auto_flow": null,
            "grid_auto_rows": null,
            "grid_column": null,
            "grid_gap": null,
            "grid_row": null,
            "grid_template_areas": null,
            "grid_template_columns": null,
            "grid_template_rows": null,
            "height": null,
            "justify_content": null,
            "justify_items": null,
            "left": null,
            "margin": null,
            "max_height": null,
            "max_width": null,
            "min_height": null,
            "min_width": null,
            "object_fit": null,
            "object_position": null,
            "order": null,
            "overflow": null,
            "overflow_x": null,
            "overflow_y": null,
            "padding": null,
            "right": null,
            "top": null,
            "visibility": null,
            "width": null
          }
        },
        "a84c69c505a44256af5f3f50e86ba0d5": {
          "model_module": "@jupyter-widgets/controls",
          "model_name": "DescriptionStyleModel",
          "model_module_version": "1.5.0",
          "state": {
            "_model_module": "@jupyter-widgets/controls",
            "_model_module_version": "1.5.0",
            "_model_name": "DescriptionStyleModel",
            "_view_count": null,
            "_view_module": "@jupyter-widgets/base",
            "_view_module_version": "1.2.0",
            "_view_name": "StyleView",
            "description_width": ""
          }
        },
        "9a2371f4ffa34d67b9e6b9f224a678b2": {
          "model_module": "@jupyter-widgets/controls",
          "model_name": "HBoxModel",
          "model_module_version": "1.5.0",
          "state": {
            "_dom_classes": [],
            "_model_module": "@jupyter-widgets/controls",
            "_model_module_version": "1.5.0",
            "_model_name": "HBoxModel",
            "_view_count": null,
            "_view_module": "@jupyter-widgets/controls",
            "_view_module_version": "1.5.0",
            "_view_name": "HBoxView",
            "box_style": "",
            "children": [
              "IPY_MODEL_4d97673be3f04641852d236a8c70cbfc",
              "IPY_MODEL_ef027ab4dfe34b6998bb7757dc612cdc",
              "IPY_MODEL_fdfe425033a94b7983c9e12c95b6ee6b"
            ],
            "layout": "IPY_MODEL_1e965446830d45cc90683be73a4ed0fd"
          }
        },
        "4d97673be3f04641852d236a8c70cbfc": {
          "model_module": "@jupyter-widgets/controls",
          "model_name": "HTMLModel",
          "model_module_version": "1.5.0",
          "state": {
            "_dom_classes": [],
            "_model_module": "@jupyter-widgets/controls",
            "_model_module_version": "1.5.0",
            "_model_name": "HTMLModel",
            "_view_count": null,
            "_view_module": "@jupyter-widgets/controls",
            "_view_module_version": "1.5.0",
            "_view_name": "HTMLView",
            "description": "",
            "description_tooltip": null,
            "layout": "IPY_MODEL_162abe10bf154508a8cc631409cfe436",
            "placeholder": "​",
            "style": "IPY_MODEL_aeca2257b11f45549690978bbf2f868b",
            "value": "Extraction completed...: "
          }
        },
        "ef027ab4dfe34b6998bb7757dc612cdc": {
          "model_module": "@jupyter-widgets/controls",
          "model_name": "FloatProgressModel",
          "model_module_version": "1.5.0",
          "state": {
            "_dom_classes": [],
            "_model_module": "@jupyter-widgets/controls",
            "_model_module_version": "1.5.0",
            "_model_name": "FloatProgressModel",
            "_view_count": null,
            "_view_module": "@jupyter-widgets/controls",
            "_view_module_version": "1.5.0",
            "_view_name": "ProgressView",
            "bar_style": "success",
            "description": "",
            "description_tooltip": null,
            "layout": "IPY_MODEL_0f4524a36240479a80cb7dc7efd9690e",
            "max": 1,
            "min": 0,
            "orientation": "horizontal",
            "style": "IPY_MODEL_9789ac86e32e4a75a78c6aba8001931a",
            "value": 0
          }
        },
        "fdfe425033a94b7983c9e12c95b6ee6b": {
          "model_module": "@jupyter-widgets/controls",
          "model_name": "HTMLModel",
          "model_module_version": "1.5.0",
          "state": {
            "_dom_classes": [],
            "_model_module": "@jupyter-widgets/controls",
            "_model_module_version": "1.5.0",
            "_model_name": "HTMLModel",
            "_view_count": null,
            "_view_module": "@jupyter-widgets/controls",
            "_view_module_version": "1.5.0",
            "_view_name": "HTMLView",
            "description": "",
            "description_tooltip": null,
            "layout": "IPY_MODEL_272341e989e34c97ba57eadd1f9daf5a",
            "placeholder": "​",
            "style": "IPY_MODEL_c784496a9b0f4950b722b52657cad564",
            "value": " 0/0 [00:02&lt;?, ? file/s]"
          }
        },
        "1e965446830d45cc90683be73a4ed0fd": {
          "model_module": "@jupyter-widgets/base",
          "model_name": "LayoutModel",
          "model_module_version": "1.2.0",
          "state": {
            "_model_module": "@jupyter-widgets/base",
            "_model_module_version": "1.2.0",
            "_model_name": "LayoutModel",
            "_view_count": null,
            "_view_module": "@jupyter-widgets/base",
            "_view_module_version": "1.2.0",
            "_view_name": "LayoutView",
            "align_content": null,
            "align_items": null,
            "align_self": null,
            "border": null,
            "bottom": null,
            "display": null,
            "flex": null,
            "flex_flow": null,
            "grid_area": null,
            "grid_auto_columns": null,
            "grid_auto_flow": null,
            "grid_auto_rows": null,
            "grid_column": null,
            "grid_gap": null,
            "grid_row": null,
            "grid_template_areas": null,
            "grid_template_columns": null,
            "grid_template_rows": null,
            "height": null,
            "justify_content": null,
            "justify_items": null,
            "left": null,
            "margin": null,
            "max_height": null,
            "max_width": null,
            "min_height": null,
            "min_width": null,
            "object_fit": null,
            "object_position": null,
            "order": null,
            "overflow": null,
            "overflow_x": null,
            "overflow_y": null,
            "padding": null,
            "right": null,
            "top": null,
            "visibility": null,
            "width": null
          }
        },
        "162abe10bf154508a8cc631409cfe436": {
          "model_module": "@jupyter-widgets/base",
          "model_name": "LayoutModel",
          "model_module_version": "1.2.0",
          "state": {
            "_model_module": "@jupyter-widgets/base",
            "_model_module_version": "1.2.0",
            "_model_name": "LayoutModel",
            "_view_count": null,
            "_view_module": "@jupyter-widgets/base",
            "_view_module_version": "1.2.0",
            "_view_name": "LayoutView",
            "align_content": null,
            "align_items": null,
            "align_self": null,
            "border": null,
            "bottom": null,
            "display": null,
            "flex": null,
            "flex_flow": null,
            "grid_area": null,
            "grid_auto_columns": null,
            "grid_auto_flow": null,
            "grid_auto_rows": null,
            "grid_column": null,
            "grid_gap": null,
            "grid_row": null,
            "grid_template_areas": null,
            "grid_template_columns": null,
            "grid_template_rows": null,
            "height": null,
            "justify_content": null,
            "justify_items": null,
            "left": null,
            "margin": null,
            "max_height": null,
            "max_width": null,
            "min_height": null,
            "min_width": null,
            "object_fit": null,
            "object_position": null,
            "order": null,
            "overflow": null,
            "overflow_x": null,
            "overflow_y": null,
            "padding": null,
            "right": null,
            "top": null,
            "visibility": null,
            "width": null
          }
        },
        "aeca2257b11f45549690978bbf2f868b": {
          "model_module": "@jupyter-widgets/controls",
          "model_name": "DescriptionStyleModel",
          "model_module_version": "1.5.0",
          "state": {
            "_model_module": "@jupyter-widgets/controls",
            "_model_module_version": "1.5.0",
            "_model_name": "DescriptionStyleModel",
            "_view_count": null,
            "_view_module": "@jupyter-widgets/base",
            "_view_module_version": "1.2.0",
            "_view_name": "StyleView",
            "description_width": ""
          }
        },
        "0f4524a36240479a80cb7dc7efd9690e": {
          "model_module": "@jupyter-widgets/base",
          "model_name": "LayoutModel",
          "model_module_version": "1.2.0",
          "state": {
            "_model_module": "@jupyter-widgets/base",
            "_model_module_version": "1.2.0",
            "_model_name": "LayoutModel",
            "_view_count": null,
            "_view_module": "@jupyter-widgets/base",
            "_view_module_version": "1.2.0",
            "_view_name": "LayoutView",
            "align_content": null,
            "align_items": null,
            "align_self": null,
            "border": null,
            "bottom": null,
            "display": null,
            "flex": null,
            "flex_flow": null,
            "grid_area": null,
            "grid_auto_columns": null,
            "grid_auto_flow": null,
            "grid_auto_rows": null,
            "grid_column": null,
            "grid_gap": null,
            "grid_row": null,
            "grid_template_areas": null,
            "grid_template_columns": null,
            "grid_template_rows": null,
            "height": null,
            "justify_content": null,
            "justify_items": null,
            "left": null,
            "margin": null,
            "max_height": null,
            "max_width": null,
            "min_height": null,
            "min_width": null,
            "object_fit": null,
            "object_position": null,
            "order": null,
            "overflow": null,
            "overflow_x": null,
            "overflow_y": null,
            "padding": null,
            "right": null,
            "top": null,
            "visibility": null,
            "width": "20px"
          }
        },
        "9789ac86e32e4a75a78c6aba8001931a": {
          "model_module": "@jupyter-widgets/controls",
          "model_name": "ProgressStyleModel",
          "model_module_version": "1.5.0",
          "state": {
            "_model_module": "@jupyter-widgets/controls",
            "_model_module_version": "1.5.0",
            "_model_name": "ProgressStyleModel",
            "_view_count": null,
            "_view_module": "@jupyter-widgets/base",
            "_view_module_version": "1.2.0",
            "_view_name": "StyleView",
            "bar_color": null,
            "description_width": ""
          }
        },
        "272341e989e34c97ba57eadd1f9daf5a": {
          "model_module": "@jupyter-widgets/base",
          "model_name": "LayoutModel",
          "model_module_version": "1.2.0",
          "state": {
            "_model_module": "@jupyter-widgets/base",
            "_model_module_version": "1.2.0",
            "_model_name": "LayoutModel",
            "_view_count": null,
            "_view_module": "@jupyter-widgets/base",
            "_view_module_version": "1.2.0",
            "_view_name": "LayoutView",
            "align_content": null,
            "align_items": null,
            "align_self": null,
            "border": null,
            "bottom": null,
            "display": null,
            "flex": null,
            "flex_flow": null,
            "grid_area": null,
            "grid_auto_columns": null,
            "grid_auto_flow": null,
            "grid_auto_rows": null,
            "grid_column": null,
            "grid_gap": null,
            "grid_row": null,
            "grid_template_areas": null,
            "grid_template_columns": null,
            "grid_template_rows": null,
            "height": null,
            "justify_content": null,
            "justify_items": null,
            "left": null,
            "margin": null,
            "max_height": null,
            "max_width": null,
            "min_height": null,
            "min_width": null,
            "object_fit": null,
            "object_position": null,
            "order": null,
            "overflow": null,
            "overflow_x": null,
            "overflow_y": null,
            "padding": null,
            "right": null,
            "top": null,
            "visibility": null,
            "width": null
          }
        },
        "c784496a9b0f4950b722b52657cad564": {
          "model_module": "@jupyter-widgets/controls",
          "model_name": "DescriptionStyleModel",
          "model_module_version": "1.5.0",
          "state": {
            "_model_module": "@jupyter-widgets/controls",
            "_model_module_version": "1.5.0",
            "_model_name": "DescriptionStyleModel",
            "_view_count": null,
            "_view_module": "@jupyter-widgets/base",
            "_view_module_version": "1.2.0",
            "_view_name": "StyleView",
            "description_width": ""
          }
        },
        "b1d8970469d64eff95ba32af11fa7f53": {
          "model_module": "@jupyter-widgets/controls",
          "model_name": "HBoxModel",
          "model_module_version": "1.5.0",
          "state": {
            "_dom_classes": [],
            "_model_module": "@jupyter-widgets/controls",
            "_model_module_version": "1.5.0",
            "_model_name": "HBoxModel",
            "_view_count": null,
            "_view_module": "@jupyter-widgets/controls",
            "_view_module_version": "1.5.0",
            "_view_name": "HBoxView",
            "box_style": "",
            "children": [
              "IPY_MODEL_2a651274dde54188a15a66304b9f8da6",
              "IPY_MODEL_7a468f713a824ac38d4a0847544ab53f",
              "IPY_MODEL_4266a3283bb54db5ac62c319536a42eb"
            ],
            "layout": "IPY_MODEL_2f5d7c76e4fc40ef98529c3d58e3c3a1"
          }
        },
        "2a651274dde54188a15a66304b9f8da6": {
          "model_module": "@jupyter-widgets/controls",
          "model_name": "HTMLModel",
          "model_module_version": "1.5.0",
          "state": {
            "_dom_classes": [],
            "_model_module": "@jupyter-widgets/controls",
            "_model_module_version": "1.5.0",
            "_model_name": "HTMLModel",
            "_view_count": null,
            "_view_module": "@jupyter-widgets/controls",
            "_view_module_version": "1.5.0",
            "_view_name": "HTMLView",
            "description": "",
            "description_tooltip": null,
            "layout": "IPY_MODEL_7fd30865e8b44f4cb657926da843e660",
            "placeholder": "​",
            "style": "IPY_MODEL_15055051b5244a979bb7e5ae77525346",
            "value": "Generating splits...: 100%"
          }
        },
        "7a468f713a824ac38d4a0847544ab53f": {
          "model_module": "@jupyter-widgets/controls",
          "model_name": "FloatProgressModel",
          "model_module_version": "1.5.0",
          "state": {
            "_dom_classes": [],
            "_model_module": "@jupyter-widgets/controls",
            "_model_module_version": "1.5.0",
            "_model_name": "FloatProgressModel",
            "_view_count": null,
            "_view_module": "@jupyter-widgets/controls",
            "_view_module_version": "1.5.0",
            "_view_name": "ProgressView",
            "bar_style": "",
            "description": "",
            "description_tooltip": null,
            "layout": "IPY_MODEL_6905bbb236e44f2f9a5806406dcb3390",
            "max": 2,
            "min": 0,
            "orientation": "horizontal",
            "style": "IPY_MODEL_9c89da9bffe9420aab75646553ed2d75",
            "value": 2
          }
        },
        "4266a3283bb54db5ac62c319536a42eb": {
          "model_module": "@jupyter-widgets/controls",
          "model_name": "HTMLModel",
          "model_module_version": "1.5.0",
          "state": {
            "_dom_classes": [],
            "_model_module": "@jupyter-widgets/controls",
            "_model_module_version": "1.5.0",
            "_model_name": "HTMLModel",
            "_view_count": null,
            "_view_module": "@jupyter-widgets/controls",
            "_view_module_version": "1.5.0",
            "_view_name": "HTMLView",
            "description": "",
            "description_tooltip": null,
            "layout": "IPY_MODEL_63df494be27c4d3bb62de1d9b386a512",
            "placeholder": "​",
            "style": "IPY_MODEL_64682275129946fa8db6d70bdebbefec",
            "value": " 2/2 [00:44&lt;00:00, 19.08s/ splits]"
          }
        },
        "2f5d7c76e4fc40ef98529c3d58e3c3a1": {
          "model_module": "@jupyter-widgets/base",
          "model_name": "LayoutModel",
          "model_module_version": "1.2.0",
          "state": {
            "_model_module": "@jupyter-widgets/base",
            "_model_module_version": "1.2.0",
            "_model_name": "LayoutModel",
            "_view_count": null,
            "_view_module": "@jupyter-widgets/base",
            "_view_module_version": "1.2.0",
            "_view_name": "LayoutView",
            "align_content": null,
            "align_items": null,
            "align_self": null,
            "border": null,
            "bottom": null,
            "display": null,
            "flex": null,
            "flex_flow": null,
            "grid_area": null,
            "grid_auto_columns": null,
            "grid_auto_flow": null,
            "grid_auto_rows": null,
            "grid_column": null,
            "grid_gap": null,
            "grid_row": null,
            "grid_template_areas": null,
            "grid_template_columns": null,
            "grid_template_rows": null,
            "height": null,
            "justify_content": null,
            "justify_items": null,
            "left": null,
            "margin": null,
            "max_height": null,
            "max_width": null,
            "min_height": null,
            "min_width": null,
            "object_fit": null,
            "object_position": null,
            "order": null,
            "overflow": null,
            "overflow_x": null,
            "overflow_y": null,
            "padding": null,
            "right": null,
            "top": null,
            "visibility": "hidden",
            "width": null
          }
        },
        "7fd30865e8b44f4cb657926da843e660": {
          "model_module": "@jupyter-widgets/base",
          "model_name": "LayoutModel",
          "model_module_version": "1.2.0",
          "state": {
            "_model_module": "@jupyter-widgets/base",
            "_model_module_version": "1.2.0",
            "_model_name": "LayoutModel",
            "_view_count": null,
            "_view_module": "@jupyter-widgets/base",
            "_view_module_version": "1.2.0",
            "_view_name": "LayoutView",
            "align_content": null,
            "align_items": null,
            "align_self": null,
            "border": null,
            "bottom": null,
            "display": null,
            "flex": null,
            "flex_flow": null,
            "grid_area": null,
            "grid_auto_columns": null,
            "grid_auto_flow": null,
            "grid_auto_rows": null,
            "grid_column": null,
            "grid_gap": null,
            "grid_row": null,
            "grid_template_areas": null,
            "grid_template_columns": null,
            "grid_template_rows": null,
            "height": null,
            "justify_content": null,
            "justify_items": null,
            "left": null,
            "margin": null,
            "max_height": null,
            "max_width": null,
            "min_height": null,
            "min_width": null,
            "object_fit": null,
            "object_position": null,
            "order": null,
            "overflow": null,
            "overflow_x": null,
            "overflow_y": null,
            "padding": null,
            "right": null,
            "top": null,
            "visibility": null,
            "width": null
          }
        },
        "15055051b5244a979bb7e5ae77525346": {
          "model_module": "@jupyter-widgets/controls",
          "model_name": "DescriptionStyleModel",
          "model_module_version": "1.5.0",
          "state": {
            "_model_module": "@jupyter-widgets/controls",
            "_model_module_version": "1.5.0",
            "_model_name": "DescriptionStyleModel",
            "_view_count": null,
            "_view_module": "@jupyter-widgets/base",
            "_view_module_version": "1.2.0",
            "_view_name": "StyleView",
            "description_width": ""
          }
        },
        "6905bbb236e44f2f9a5806406dcb3390": {
          "model_module": "@jupyter-widgets/base",
          "model_name": "LayoutModel",
          "model_module_version": "1.2.0",
          "state": {
            "_model_module": "@jupyter-widgets/base",
            "_model_module_version": "1.2.0",
            "_model_name": "LayoutModel",
            "_view_count": null,
            "_view_module": "@jupyter-widgets/base",
            "_view_module_version": "1.2.0",
            "_view_name": "LayoutView",
            "align_content": null,
            "align_items": null,
            "align_self": null,
            "border": null,
            "bottom": null,
            "display": null,
            "flex": null,
            "flex_flow": null,
            "grid_area": null,
            "grid_auto_columns": null,
            "grid_auto_flow": null,
            "grid_auto_rows": null,
            "grid_column": null,
            "grid_gap": null,
            "grid_row": null,
            "grid_template_areas": null,
            "grid_template_columns": null,
            "grid_template_rows": null,
            "height": null,
            "justify_content": null,
            "justify_items": null,
            "left": null,
            "margin": null,
            "max_height": null,
            "max_width": null,
            "min_height": null,
            "min_width": null,
            "object_fit": null,
            "object_position": null,
            "order": null,
            "overflow": null,
            "overflow_x": null,
            "overflow_y": null,
            "padding": null,
            "right": null,
            "top": null,
            "visibility": null,
            "width": null
          }
        },
        "9c89da9bffe9420aab75646553ed2d75": {
          "model_module": "@jupyter-widgets/controls",
          "model_name": "ProgressStyleModel",
          "model_module_version": "1.5.0",
          "state": {
            "_model_module": "@jupyter-widgets/controls",
            "_model_module_version": "1.5.0",
            "_model_name": "ProgressStyleModel",
            "_view_count": null,
            "_view_module": "@jupyter-widgets/base",
            "_view_module_version": "1.2.0",
            "_view_name": "StyleView",
            "bar_color": null,
            "description_width": ""
          }
        },
        "63df494be27c4d3bb62de1d9b386a512": {
          "model_module": "@jupyter-widgets/base",
          "model_name": "LayoutModel",
          "model_module_version": "1.2.0",
          "state": {
            "_model_module": "@jupyter-widgets/base",
            "_model_module_version": "1.2.0",
            "_model_name": "LayoutModel",
            "_view_count": null,
            "_view_module": "@jupyter-widgets/base",
            "_view_module_version": "1.2.0",
            "_view_name": "LayoutView",
            "align_content": null,
            "align_items": null,
            "align_self": null,
            "border": null,
            "bottom": null,
            "display": null,
            "flex": null,
            "flex_flow": null,
            "grid_area": null,
            "grid_auto_columns": null,
            "grid_auto_flow": null,
            "grid_auto_rows": null,
            "grid_column": null,
            "grid_gap": null,
            "grid_row": null,
            "grid_template_areas": null,
            "grid_template_columns": null,
            "grid_template_rows": null,
            "height": null,
            "justify_content": null,
            "justify_items": null,
            "left": null,
            "margin": null,
            "max_height": null,
            "max_width": null,
            "min_height": null,
            "min_width": null,
            "object_fit": null,
            "object_position": null,
            "order": null,
            "overflow": null,
            "overflow_x": null,
            "overflow_y": null,
            "padding": null,
            "right": null,
            "top": null,
            "visibility": null,
            "width": null
          }
        },
        "64682275129946fa8db6d70bdebbefec": {
          "model_module": "@jupyter-widgets/controls",
          "model_name": "DescriptionStyleModel",
          "model_module_version": "1.5.0",
          "state": {
            "_model_module": "@jupyter-widgets/controls",
            "_model_module_version": "1.5.0",
            "_model_name": "DescriptionStyleModel",
            "_view_count": null,
            "_view_module": "@jupyter-widgets/base",
            "_view_module_version": "1.2.0",
            "_view_name": "StyleView",
            "description_width": ""
          }
        },
        "4574d9a48e7b40c7b7f40407e878a360": {
          "model_module": "@jupyter-widgets/controls",
          "model_name": "HBoxModel",
          "model_module_version": "1.5.0",
          "state": {
            "_dom_classes": [],
            "_model_module": "@jupyter-widgets/controls",
            "_model_module_version": "1.5.0",
            "_model_name": "HBoxModel",
            "_view_count": null,
            "_view_module": "@jupyter-widgets/controls",
            "_view_module_version": "1.5.0",
            "_view_name": "HBoxView",
            "box_style": "",
            "children": [
              "IPY_MODEL_3c738af84b08466baaa5b3a84f413230",
              "IPY_MODEL_437ff416e648404ba377cb0e3a343f30",
              "IPY_MODEL_1f01ad0599664fa48d8281f50c5b5b1f"
            ],
            "layout": "IPY_MODEL_b600ecefc0bb448699f85fedb297565f"
          }
        },
        "3c738af84b08466baaa5b3a84f413230": {
          "model_module": "@jupyter-widgets/controls",
          "model_name": "HTMLModel",
          "model_module_version": "1.5.0",
          "state": {
            "_dom_classes": [],
            "_model_module": "@jupyter-widgets/controls",
            "_model_module_version": "1.5.0",
            "_model_name": "HTMLModel",
            "_view_count": null,
            "_view_module": "@jupyter-widgets/controls",
            "_view_module_version": "1.5.0",
            "_view_name": "HTMLView",
            "description": "",
            "description_tooltip": null,
            "layout": "IPY_MODEL_bf65f5db137441a98da755c711d08da8",
            "placeholder": "​",
            "style": "IPY_MODEL_869fab35c5804f82b08389588ddcca41",
            "value": "Generating train examples...: "
          }
        },
        "437ff416e648404ba377cb0e3a343f30": {
          "model_module": "@jupyter-widgets/controls",
          "model_name": "FloatProgressModel",
          "model_module_version": "1.5.0",
          "state": {
            "_dom_classes": [],
            "_model_module": "@jupyter-widgets/controls",
            "_model_module_version": "1.5.0",
            "_model_name": "FloatProgressModel",
            "_view_count": null,
            "_view_module": "@jupyter-widgets/controls",
            "_view_module_version": "1.5.0",
            "_view_name": "ProgressView",
            "bar_style": "info",
            "description": "",
            "description_tooltip": null,
            "layout": "IPY_MODEL_825fe93a286641b18815b23da596f4ea",
            "max": 1,
            "min": 0,
            "orientation": "horizontal",
            "style": "IPY_MODEL_2cc0de5f830347e9990be13717fcf13b",
            "value": 1
          }
        },
        "1f01ad0599664fa48d8281f50c5b5b1f": {
          "model_module": "@jupyter-widgets/controls",
          "model_name": "HTMLModel",
          "model_module_version": "1.5.0",
          "state": {
            "_dom_classes": [],
            "_model_module": "@jupyter-widgets/controls",
            "_model_module_version": "1.5.0",
            "_model_name": "HTMLModel",
            "_view_count": null,
            "_view_module": "@jupyter-widgets/controls",
            "_view_module_version": "1.5.0",
            "_view_name": "HTMLView",
            "description": "",
            "description_tooltip": null,
            "layout": "IPY_MODEL_5eb4bd17fc094771925a6f41d280ce5b",
            "placeholder": "​",
            "style": "IPY_MODEL_bbb40000116f4633a94a63223207e7bd",
            "value": " 87507/? [00:39&lt;00:00, 2917.14 examples/s]"
          }
        },
        "b600ecefc0bb448699f85fedb297565f": {
          "model_module": "@jupyter-widgets/base",
          "model_name": "LayoutModel",
          "model_module_version": "1.2.0",
          "state": {
            "_model_module": "@jupyter-widgets/base",
            "_model_module_version": "1.2.0",
            "_model_name": "LayoutModel",
            "_view_count": null,
            "_view_module": "@jupyter-widgets/base",
            "_view_module_version": "1.2.0",
            "_view_name": "LayoutView",
            "align_content": null,
            "align_items": null,
            "align_self": null,
            "border": null,
            "bottom": null,
            "display": null,
            "flex": null,
            "flex_flow": null,
            "grid_area": null,
            "grid_auto_columns": null,
            "grid_auto_flow": null,
            "grid_auto_rows": null,
            "grid_column": null,
            "grid_gap": null,
            "grid_row": null,
            "grid_template_areas": null,
            "grid_template_columns": null,
            "grid_template_rows": null,
            "height": null,
            "justify_content": null,
            "justify_items": null,
            "left": null,
            "margin": null,
            "max_height": null,
            "max_width": null,
            "min_height": null,
            "min_width": null,
            "object_fit": null,
            "object_position": null,
            "order": null,
            "overflow": null,
            "overflow_x": null,
            "overflow_y": null,
            "padding": null,
            "right": null,
            "top": null,
            "visibility": "hidden",
            "width": null
          }
        },
        "bf65f5db137441a98da755c711d08da8": {
          "model_module": "@jupyter-widgets/base",
          "model_name": "LayoutModel",
          "model_module_version": "1.2.0",
          "state": {
            "_model_module": "@jupyter-widgets/base",
            "_model_module_version": "1.2.0",
            "_model_name": "LayoutModel",
            "_view_count": null,
            "_view_module": "@jupyter-widgets/base",
            "_view_module_version": "1.2.0",
            "_view_name": "LayoutView",
            "align_content": null,
            "align_items": null,
            "align_self": null,
            "border": null,
            "bottom": null,
            "display": null,
            "flex": null,
            "flex_flow": null,
            "grid_area": null,
            "grid_auto_columns": null,
            "grid_auto_flow": null,
            "grid_auto_rows": null,
            "grid_column": null,
            "grid_gap": null,
            "grid_row": null,
            "grid_template_areas": null,
            "grid_template_columns": null,
            "grid_template_rows": null,
            "height": null,
            "justify_content": null,
            "justify_items": null,
            "left": null,
            "margin": null,
            "max_height": null,
            "max_width": null,
            "min_height": null,
            "min_width": null,
            "object_fit": null,
            "object_position": null,
            "order": null,
            "overflow": null,
            "overflow_x": null,
            "overflow_y": null,
            "padding": null,
            "right": null,
            "top": null,
            "visibility": null,
            "width": null
          }
        },
        "869fab35c5804f82b08389588ddcca41": {
          "model_module": "@jupyter-widgets/controls",
          "model_name": "DescriptionStyleModel",
          "model_module_version": "1.5.0",
          "state": {
            "_model_module": "@jupyter-widgets/controls",
            "_model_module_version": "1.5.0",
            "_model_name": "DescriptionStyleModel",
            "_view_count": null,
            "_view_module": "@jupyter-widgets/base",
            "_view_module_version": "1.2.0",
            "_view_name": "StyleView",
            "description_width": ""
          }
        },
        "825fe93a286641b18815b23da596f4ea": {
          "model_module": "@jupyter-widgets/base",
          "model_name": "LayoutModel",
          "model_module_version": "1.2.0",
          "state": {
            "_model_module": "@jupyter-widgets/base",
            "_model_module_version": "1.2.0",
            "_model_name": "LayoutModel",
            "_view_count": null,
            "_view_module": "@jupyter-widgets/base",
            "_view_module_version": "1.2.0",
            "_view_name": "LayoutView",
            "align_content": null,
            "align_items": null,
            "align_self": null,
            "border": null,
            "bottom": null,
            "display": null,
            "flex": null,
            "flex_flow": null,
            "grid_area": null,
            "grid_auto_columns": null,
            "grid_auto_flow": null,
            "grid_auto_rows": null,
            "grid_column": null,
            "grid_gap": null,
            "grid_row": null,
            "grid_template_areas": null,
            "grid_template_columns": null,
            "grid_template_rows": null,
            "height": null,
            "justify_content": null,
            "justify_items": null,
            "left": null,
            "margin": null,
            "max_height": null,
            "max_width": null,
            "min_height": null,
            "min_width": null,
            "object_fit": null,
            "object_position": null,
            "order": null,
            "overflow": null,
            "overflow_x": null,
            "overflow_y": null,
            "padding": null,
            "right": null,
            "top": null,
            "visibility": null,
            "width": "20px"
          }
        },
        "2cc0de5f830347e9990be13717fcf13b": {
          "model_module": "@jupyter-widgets/controls",
          "model_name": "ProgressStyleModel",
          "model_module_version": "1.5.0",
          "state": {
            "_model_module": "@jupyter-widgets/controls",
            "_model_module_version": "1.5.0",
            "_model_name": "ProgressStyleModel",
            "_view_count": null,
            "_view_module": "@jupyter-widgets/base",
            "_view_module_version": "1.2.0",
            "_view_name": "StyleView",
            "bar_color": null,
            "description_width": ""
          }
        },
        "5eb4bd17fc094771925a6f41d280ce5b": {
          "model_module": "@jupyter-widgets/base",
          "model_name": "LayoutModel",
          "model_module_version": "1.2.0",
          "state": {
            "_model_module": "@jupyter-widgets/base",
            "_model_module_version": "1.2.0",
            "_model_name": "LayoutModel",
            "_view_count": null,
            "_view_module": "@jupyter-widgets/base",
            "_view_module_version": "1.2.0",
            "_view_name": "LayoutView",
            "align_content": null,
            "align_items": null,
            "align_self": null,
            "border": null,
            "bottom": null,
            "display": null,
            "flex": null,
            "flex_flow": null,
            "grid_area": null,
            "grid_auto_columns": null,
            "grid_auto_flow": null,
            "grid_auto_rows": null,
            "grid_column": null,
            "grid_gap": null,
            "grid_row": null,
            "grid_template_areas": null,
            "grid_template_columns": null,
            "grid_template_rows": null,
            "height": null,
            "justify_content": null,
            "justify_items": null,
            "left": null,
            "margin": null,
            "max_height": null,
            "max_width": null,
            "min_height": null,
            "min_width": null,
            "object_fit": null,
            "object_position": null,
            "order": null,
            "overflow": null,
            "overflow_x": null,
            "overflow_y": null,
            "padding": null,
            "right": null,
            "top": null,
            "visibility": null,
            "width": null
          }
        },
        "bbb40000116f4633a94a63223207e7bd": {
          "model_module": "@jupyter-widgets/controls",
          "model_name": "DescriptionStyleModel",
          "model_module_version": "1.5.0",
          "state": {
            "_model_module": "@jupyter-widgets/controls",
            "_model_module_version": "1.5.0",
            "_model_name": "DescriptionStyleModel",
            "_view_count": null,
            "_view_module": "@jupyter-widgets/base",
            "_view_module_version": "1.2.0",
            "_view_name": "StyleView",
            "description_width": ""
          }
        },
        "991e9b3b132e4a4dabf43414847c6894": {
          "model_module": "@jupyter-widgets/controls",
          "model_name": "HBoxModel",
          "model_module_version": "1.5.0",
          "state": {
            "_dom_classes": [],
            "_model_module": "@jupyter-widgets/controls",
            "_model_module_version": "1.5.0",
            "_model_name": "HBoxModel",
            "_view_count": null,
            "_view_module": "@jupyter-widgets/controls",
            "_view_module_version": "1.5.0",
            "_view_name": "HBoxView",
            "box_style": "",
            "children": [
              "IPY_MODEL_f0f1bdf46088430cb04a9e9632a42070",
              "IPY_MODEL_aa250bfaf1f245769a2f1bde1a261fe8",
              "IPY_MODEL_2af585f2f4854a7b916d8d2a1f8ef1d7"
            ],
            "layout": "IPY_MODEL_3158ea4f15de4dee82890be49d577c2b"
          }
        },
        "f0f1bdf46088430cb04a9e9632a42070": {
          "model_module": "@jupyter-widgets/controls",
          "model_name": "HTMLModel",
          "model_module_version": "1.5.0",
          "state": {
            "_dom_classes": [],
            "_model_module": "@jupyter-widgets/controls",
            "_model_module_version": "1.5.0",
            "_model_name": "HTMLModel",
            "_view_count": null,
            "_view_module": "@jupyter-widgets/controls",
            "_view_module_version": "1.5.0",
            "_view_name": "HTMLView",
            "description": "",
            "description_tooltip": null,
            "layout": "IPY_MODEL_6ec12ce017a048f08e51ce791ac1edce",
            "placeholder": "​",
            "style": "IPY_MODEL_23ad4862c53c4f4a8189eb0db3dba47d",
            "value": "Shuffling /root/tensorflow_datasets/squad/v1.1/3.0.0.incompleteWJD629/squad-train.tfrecord*...:  78%"
          }
        },
        "aa250bfaf1f245769a2f1bde1a261fe8": {
          "model_module": "@jupyter-widgets/controls",
          "model_name": "FloatProgressModel",
          "model_module_version": "1.5.0",
          "state": {
            "_dom_classes": [],
            "_model_module": "@jupyter-widgets/controls",
            "_model_module_version": "1.5.0",
            "_model_name": "FloatProgressModel",
            "_view_count": null,
            "_view_module": "@jupyter-widgets/controls",
            "_view_module_version": "1.5.0",
            "_view_name": "ProgressView",
            "bar_style": "",
            "description": "",
            "description_tooltip": null,
            "layout": "IPY_MODEL_f172c0d2987e4a449d3d6b0d5675a9ae",
            "max": 87599,
            "min": 0,
            "orientation": "horizontal",
            "style": "IPY_MODEL_169e515dfc31488eb5552a6aecc95ad4",
            "value": 87599
          }
        },
        "2af585f2f4854a7b916d8d2a1f8ef1d7": {
          "model_module": "@jupyter-widgets/controls",
          "model_name": "HTMLModel",
          "model_module_version": "1.5.0",
          "state": {
            "_dom_classes": [],
            "_model_module": "@jupyter-widgets/controls",
            "_model_module_version": "1.5.0",
            "_model_name": "HTMLModel",
            "_view_count": null,
            "_view_module": "@jupyter-widgets/controls",
            "_view_module_version": "1.5.0",
            "_view_name": "HTMLView",
            "description": "",
            "description_tooltip": null,
            "layout": "IPY_MODEL_fa4e916581744e15828ded116e5cee63",
            "placeholder": "​",
            "style": "IPY_MODEL_c762ec3cd1dc416fae87c8e856c544d9",
            "value": " 68300/87599 [00:00&lt;00:00, 195385.50 examples/s]"
          }
        },
        "3158ea4f15de4dee82890be49d577c2b": {
          "model_module": "@jupyter-widgets/base",
          "model_name": "LayoutModel",
          "model_module_version": "1.2.0",
          "state": {
            "_model_module": "@jupyter-widgets/base",
            "_model_module_version": "1.2.0",
            "_model_name": "LayoutModel",
            "_view_count": null,
            "_view_module": "@jupyter-widgets/base",
            "_view_module_version": "1.2.0",
            "_view_name": "LayoutView",
            "align_content": null,
            "align_items": null,
            "align_self": null,
            "border": null,
            "bottom": null,
            "display": null,
            "flex": null,
            "flex_flow": null,
            "grid_area": null,
            "grid_auto_columns": null,
            "grid_auto_flow": null,
            "grid_auto_rows": null,
            "grid_column": null,
            "grid_gap": null,
            "grid_row": null,
            "grid_template_areas": null,
            "grid_template_columns": null,
            "grid_template_rows": null,
            "height": null,
            "justify_content": null,
            "justify_items": null,
            "left": null,
            "margin": null,
            "max_height": null,
            "max_width": null,
            "min_height": null,
            "min_width": null,
            "object_fit": null,
            "object_position": null,
            "order": null,
            "overflow": null,
            "overflow_x": null,
            "overflow_y": null,
            "padding": null,
            "right": null,
            "top": null,
            "visibility": "hidden",
            "width": null
          }
        },
        "6ec12ce017a048f08e51ce791ac1edce": {
          "model_module": "@jupyter-widgets/base",
          "model_name": "LayoutModel",
          "model_module_version": "1.2.0",
          "state": {
            "_model_module": "@jupyter-widgets/base",
            "_model_module_version": "1.2.0",
            "_model_name": "LayoutModel",
            "_view_count": null,
            "_view_module": "@jupyter-widgets/base",
            "_view_module_version": "1.2.0",
            "_view_name": "LayoutView",
            "align_content": null,
            "align_items": null,
            "align_self": null,
            "border": null,
            "bottom": null,
            "display": null,
            "flex": null,
            "flex_flow": null,
            "grid_area": null,
            "grid_auto_columns": null,
            "grid_auto_flow": null,
            "grid_auto_rows": null,
            "grid_column": null,
            "grid_gap": null,
            "grid_row": null,
            "grid_template_areas": null,
            "grid_template_columns": null,
            "grid_template_rows": null,
            "height": null,
            "justify_content": null,
            "justify_items": null,
            "left": null,
            "margin": null,
            "max_height": null,
            "max_width": null,
            "min_height": null,
            "min_width": null,
            "object_fit": null,
            "object_position": null,
            "order": null,
            "overflow": null,
            "overflow_x": null,
            "overflow_y": null,
            "padding": null,
            "right": null,
            "top": null,
            "visibility": null,
            "width": null
          }
        },
        "23ad4862c53c4f4a8189eb0db3dba47d": {
          "model_module": "@jupyter-widgets/controls",
          "model_name": "DescriptionStyleModel",
          "model_module_version": "1.5.0",
          "state": {
            "_model_module": "@jupyter-widgets/controls",
            "_model_module_version": "1.5.0",
            "_model_name": "DescriptionStyleModel",
            "_view_count": null,
            "_view_module": "@jupyter-widgets/base",
            "_view_module_version": "1.2.0",
            "_view_name": "StyleView",
            "description_width": ""
          }
        },
        "f172c0d2987e4a449d3d6b0d5675a9ae": {
          "model_module": "@jupyter-widgets/base",
          "model_name": "LayoutModel",
          "model_module_version": "1.2.0",
          "state": {
            "_model_module": "@jupyter-widgets/base",
            "_model_module_version": "1.2.0",
            "_model_name": "LayoutModel",
            "_view_count": null,
            "_view_module": "@jupyter-widgets/base",
            "_view_module_version": "1.2.0",
            "_view_name": "LayoutView",
            "align_content": null,
            "align_items": null,
            "align_self": null,
            "border": null,
            "bottom": null,
            "display": null,
            "flex": null,
            "flex_flow": null,
            "grid_area": null,
            "grid_auto_columns": null,
            "grid_auto_flow": null,
            "grid_auto_rows": null,
            "grid_column": null,
            "grid_gap": null,
            "grid_row": null,
            "grid_template_areas": null,
            "grid_template_columns": null,
            "grid_template_rows": null,
            "height": null,
            "justify_content": null,
            "justify_items": null,
            "left": null,
            "margin": null,
            "max_height": null,
            "max_width": null,
            "min_height": null,
            "min_width": null,
            "object_fit": null,
            "object_position": null,
            "order": null,
            "overflow": null,
            "overflow_x": null,
            "overflow_y": null,
            "padding": null,
            "right": null,
            "top": null,
            "visibility": null,
            "width": null
          }
        },
        "169e515dfc31488eb5552a6aecc95ad4": {
          "model_module": "@jupyter-widgets/controls",
          "model_name": "ProgressStyleModel",
          "model_module_version": "1.5.0",
          "state": {
            "_model_module": "@jupyter-widgets/controls",
            "_model_module_version": "1.5.0",
            "_model_name": "ProgressStyleModel",
            "_view_count": null,
            "_view_module": "@jupyter-widgets/base",
            "_view_module_version": "1.2.0",
            "_view_name": "StyleView",
            "bar_color": null,
            "description_width": ""
          }
        },
        "fa4e916581744e15828ded116e5cee63": {
          "model_module": "@jupyter-widgets/base",
          "model_name": "LayoutModel",
          "model_module_version": "1.2.0",
          "state": {
            "_model_module": "@jupyter-widgets/base",
            "_model_module_version": "1.2.0",
            "_model_name": "LayoutModel",
            "_view_count": null,
            "_view_module": "@jupyter-widgets/base",
            "_view_module_version": "1.2.0",
            "_view_name": "LayoutView",
            "align_content": null,
            "align_items": null,
            "align_self": null,
            "border": null,
            "bottom": null,
            "display": null,
            "flex": null,
            "flex_flow": null,
            "grid_area": null,
            "grid_auto_columns": null,
            "grid_auto_flow": null,
            "grid_auto_rows": null,
            "grid_column": null,
            "grid_gap": null,
            "grid_row": null,
            "grid_template_areas": null,
            "grid_template_columns": null,
            "grid_template_rows": null,
            "height": null,
            "justify_content": null,
            "justify_items": null,
            "left": null,
            "margin": null,
            "max_height": null,
            "max_width": null,
            "min_height": null,
            "min_width": null,
            "object_fit": null,
            "object_position": null,
            "order": null,
            "overflow": null,
            "overflow_x": null,
            "overflow_y": null,
            "padding": null,
            "right": null,
            "top": null,
            "visibility": null,
            "width": null
          }
        },
        "c762ec3cd1dc416fae87c8e856c544d9": {
          "model_module": "@jupyter-widgets/controls",
          "model_name": "DescriptionStyleModel",
          "model_module_version": "1.5.0",
          "state": {
            "_model_module": "@jupyter-widgets/controls",
            "_model_module_version": "1.5.0",
            "_model_name": "DescriptionStyleModel",
            "_view_count": null,
            "_view_module": "@jupyter-widgets/base",
            "_view_module_version": "1.2.0",
            "_view_name": "StyleView",
            "description_width": ""
          }
        },
        "6182131990204ed59f29e94279aaac95": {
          "model_module": "@jupyter-widgets/controls",
          "model_name": "HBoxModel",
          "model_module_version": "1.5.0",
          "state": {
            "_dom_classes": [],
            "_model_module": "@jupyter-widgets/controls",
            "_model_module_version": "1.5.0",
            "_model_name": "HBoxModel",
            "_view_count": null,
            "_view_module": "@jupyter-widgets/controls",
            "_view_module_version": "1.5.0",
            "_view_name": "HBoxView",
            "box_style": "",
            "children": [
              "IPY_MODEL_b419274e5a424f7ca77bd9a0c3ec046e",
              "IPY_MODEL_19e2cb443b474070a65f63454f437c53",
              "IPY_MODEL_9e257b1e10b143b1a2439662f6c6e40e"
            ],
            "layout": "IPY_MODEL_ed62f9d5708f4bcdb30abb75e92f0813"
          }
        },
        "b419274e5a424f7ca77bd9a0c3ec046e": {
          "model_module": "@jupyter-widgets/controls",
          "model_name": "HTMLModel",
          "model_module_version": "1.5.0",
          "state": {
            "_dom_classes": [],
            "_model_module": "@jupyter-widgets/controls",
            "_model_module_version": "1.5.0",
            "_model_name": "HTMLModel",
            "_view_count": null,
            "_view_module": "@jupyter-widgets/controls",
            "_view_module_version": "1.5.0",
            "_view_name": "HTMLView",
            "description": "",
            "description_tooltip": null,
            "layout": "IPY_MODEL_578555bc604e4cde96016c7f2f05b5cd",
            "placeholder": "​",
            "style": "IPY_MODEL_6b2e1ccc673245d6875bd99a94291c56",
            "value": "Generating validation examples...: "
          }
        },
        "19e2cb443b474070a65f63454f437c53": {
          "model_module": "@jupyter-widgets/controls",
          "model_name": "FloatProgressModel",
          "model_module_version": "1.5.0",
          "state": {
            "_dom_classes": [],
            "_model_module": "@jupyter-widgets/controls",
            "_model_module_version": "1.5.0",
            "_model_name": "FloatProgressModel",
            "_view_count": null,
            "_view_module": "@jupyter-widgets/controls",
            "_view_module_version": "1.5.0",
            "_view_name": "ProgressView",
            "bar_style": "info",
            "description": "",
            "description_tooltip": null,
            "layout": "IPY_MODEL_559d78062b174b4db89816d4dcce3b28",
            "max": 1,
            "min": 0,
            "orientation": "horizontal",
            "style": "IPY_MODEL_103af62e2c6141028bb9cd695400ed63",
            "value": 1
          }
        },
        "9e257b1e10b143b1a2439662f6c6e40e": {
          "model_module": "@jupyter-widgets/controls",
          "model_name": "HTMLModel",
          "model_module_version": "1.5.0",
          "state": {
            "_dom_classes": [],
            "_model_module": "@jupyter-widgets/controls",
            "_model_module_version": "1.5.0",
            "_model_name": "HTMLModel",
            "_view_count": null,
            "_view_module": "@jupyter-widgets/controls",
            "_view_module_version": "1.5.0",
            "_view_name": "HTMLView",
            "description": "",
            "description_tooltip": null,
            "layout": "IPY_MODEL_d628634a678747c794947abdf353838a",
            "placeholder": "​",
            "style": "IPY_MODEL_1761859015e3451b8b56b7b7b46a1ea3",
            "value": " 10453/? [00:03&lt;00:00, 2553.08 examples/s]"
          }
        },
        "ed62f9d5708f4bcdb30abb75e92f0813": {
          "model_module": "@jupyter-widgets/base",
          "model_name": "LayoutModel",
          "model_module_version": "1.2.0",
          "state": {
            "_model_module": "@jupyter-widgets/base",
            "_model_module_version": "1.2.0",
            "_model_name": "LayoutModel",
            "_view_count": null,
            "_view_module": "@jupyter-widgets/base",
            "_view_module_version": "1.2.0",
            "_view_name": "LayoutView",
            "align_content": null,
            "align_items": null,
            "align_self": null,
            "border": null,
            "bottom": null,
            "display": null,
            "flex": null,
            "flex_flow": null,
            "grid_area": null,
            "grid_auto_columns": null,
            "grid_auto_flow": null,
            "grid_auto_rows": null,
            "grid_column": null,
            "grid_gap": null,
            "grid_row": null,
            "grid_template_areas": null,
            "grid_template_columns": null,
            "grid_template_rows": null,
            "height": null,
            "justify_content": null,
            "justify_items": null,
            "left": null,
            "margin": null,
            "max_height": null,
            "max_width": null,
            "min_height": null,
            "min_width": null,
            "object_fit": null,
            "object_position": null,
            "order": null,
            "overflow": null,
            "overflow_x": null,
            "overflow_y": null,
            "padding": null,
            "right": null,
            "top": null,
            "visibility": "hidden",
            "width": null
          }
        },
        "578555bc604e4cde96016c7f2f05b5cd": {
          "model_module": "@jupyter-widgets/base",
          "model_name": "LayoutModel",
          "model_module_version": "1.2.0",
          "state": {
            "_model_module": "@jupyter-widgets/base",
            "_model_module_version": "1.2.0",
            "_model_name": "LayoutModel",
            "_view_count": null,
            "_view_module": "@jupyter-widgets/base",
            "_view_module_version": "1.2.0",
            "_view_name": "LayoutView",
            "align_content": null,
            "align_items": null,
            "align_self": null,
            "border": null,
            "bottom": null,
            "display": null,
            "flex": null,
            "flex_flow": null,
            "grid_area": null,
            "grid_auto_columns": null,
            "grid_auto_flow": null,
            "grid_auto_rows": null,
            "grid_column": null,
            "grid_gap": null,
            "grid_row": null,
            "grid_template_areas": null,
            "grid_template_columns": null,
            "grid_template_rows": null,
            "height": null,
            "justify_content": null,
            "justify_items": null,
            "left": null,
            "margin": null,
            "max_height": null,
            "max_width": null,
            "min_height": null,
            "min_width": null,
            "object_fit": null,
            "object_position": null,
            "order": null,
            "overflow": null,
            "overflow_x": null,
            "overflow_y": null,
            "padding": null,
            "right": null,
            "top": null,
            "visibility": null,
            "width": null
          }
        },
        "6b2e1ccc673245d6875bd99a94291c56": {
          "model_module": "@jupyter-widgets/controls",
          "model_name": "DescriptionStyleModel",
          "model_module_version": "1.5.0",
          "state": {
            "_model_module": "@jupyter-widgets/controls",
            "_model_module_version": "1.5.0",
            "_model_name": "DescriptionStyleModel",
            "_view_count": null,
            "_view_module": "@jupyter-widgets/base",
            "_view_module_version": "1.2.0",
            "_view_name": "StyleView",
            "description_width": ""
          }
        },
        "559d78062b174b4db89816d4dcce3b28": {
          "model_module": "@jupyter-widgets/base",
          "model_name": "LayoutModel",
          "model_module_version": "1.2.0",
          "state": {
            "_model_module": "@jupyter-widgets/base",
            "_model_module_version": "1.2.0",
            "_model_name": "LayoutModel",
            "_view_count": null,
            "_view_module": "@jupyter-widgets/base",
            "_view_module_version": "1.2.0",
            "_view_name": "LayoutView",
            "align_content": null,
            "align_items": null,
            "align_self": null,
            "border": null,
            "bottom": null,
            "display": null,
            "flex": null,
            "flex_flow": null,
            "grid_area": null,
            "grid_auto_columns": null,
            "grid_auto_flow": null,
            "grid_auto_rows": null,
            "grid_column": null,
            "grid_gap": null,
            "grid_row": null,
            "grid_template_areas": null,
            "grid_template_columns": null,
            "grid_template_rows": null,
            "height": null,
            "justify_content": null,
            "justify_items": null,
            "left": null,
            "margin": null,
            "max_height": null,
            "max_width": null,
            "min_height": null,
            "min_width": null,
            "object_fit": null,
            "object_position": null,
            "order": null,
            "overflow": null,
            "overflow_x": null,
            "overflow_y": null,
            "padding": null,
            "right": null,
            "top": null,
            "visibility": null,
            "width": "20px"
          }
        },
        "103af62e2c6141028bb9cd695400ed63": {
          "model_module": "@jupyter-widgets/controls",
          "model_name": "ProgressStyleModel",
          "model_module_version": "1.5.0",
          "state": {
            "_model_module": "@jupyter-widgets/controls",
            "_model_module_version": "1.5.0",
            "_model_name": "ProgressStyleModel",
            "_view_count": null,
            "_view_module": "@jupyter-widgets/base",
            "_view_module_version": "1.2.0",
            "_view_name": "StyleView",
            "bar_color": null,
            "description_width": ""
          }
        },
        "d628634a678747c794947abdf353838a": {
          "model_module": "@jupyter-widgets/base",
          "model_name": "LayoutModel",
          "model_module_version": "1.2.0",
          "state": {
            "_model_module": "@jupyter-widgets/base",
            "_model_module_version": "1.2.0",
            "_model_name": "LayoutModel",
            "_view_count": null,
            "_view_module": "@jupyter-widgets/base",
            "_view_module_version": "1.2.0",
            "_view_name": "LayoutView",
            "align_content": null,
            "align_items": null,
            "align_self": null,
            "border": null,
            "bottom": null,
            "display": null,
            "flex": null,
            "flex_flow": null,
            "grid_area": null,
            "grid_auto_columns": null,
            "grid_auto_flow": null,
            "grid_auto_rows": null,
            "grid_column": null,
            "grid_gap": null,
            "grid_row": null,
            "grid_template_areas": null,
            "grid_template_columns": null,
            "grid_template_rows": null,
            "height": null,
            "justify_content": null,
            "justify_items": null,
            "left": null,
            "margin": null,
            "max_height": null,
            "max_width": null,
            "min_height": null,
            "min_width": null,
            "object_fit": null,
            "object_position": null,
            "order": null,
            "overflow": null,
            "overflow_x": null,
            "overflow_y": null,
            "padding": null,
            "right": null,
            "top": null,
            "visibility": null,
            "width": null
          }
        },
        "1761859015e3451b8b56b7b7b46a1ea3": {
          "model_module": "@jupyter-widgets/controls",
          "model_name": "DescriptionStyleModel",
          "model_module_version": "1.5.0",
          "state": {
            "_model_module": "@jupyter-widgets/controls",
            "_model_module_version": "1.5.0",
            "_model_name": "DescriptionStyleModel",
            "_view_count": null,
            "_view_module": "@jupyter-widgets/base",
            "_view_module_version": "1.2.0",
            "_view_name": "StyleView",
            "description_width": ""
          }
        },
        "1a2fba91ed1a45f2bcae2c13339dc745": {
          "model_module": "@jupyter-widgets/controls",
          "model_name": "HBoxModel",
          "model_module_version": "1.5.0",
          "state": {
            "_dom_classes": [],
            "_model_module": "@jupyter-widgets/controls",
            "_model_module_version": "1.5.0",
            "_model_name": "HBoxModel",
            "_view_count": null,
            "_view_module": "@jupyter-widgets/controls",
            "_view_module_version": "1.5.0",
            "_view_name": "HBoxView",
            "box_style": "",
            "children": [
              "IPY_MODEL_7ec4d61fd9ac4f829633e638b8ca22f4",
              "IPY_MODEL_92d597b4ddd04d5e8cfbb64420ad6ed4",
              "IPY_MODEL_4498b61c6a994b37a0d394a139b39df3"
            ],
            "layout": "IPY_MODEL_5d8d23f932b0453c8b82b2ea58653b92"
          }
        },
        "7ec4d61fd9ac4f829633e638b8ca22f4": {
          "model_module": "@jupyter-widgets/controls",
          "model_name": "HTMLModel",
          "model_module_version": "1.5.0",
          "state": {
            "_dom_classes": [],
            "_model_module": "@jupyter-widgets/controls",
            "_model_module_version": "1.5.0",
            "_model_name": "HTMLModel",
            "_view_count": null,
            "_view_module": "@jupyter-widgets/controls",
            "_view_module_version": "1.5.0",
            "_view_name": "HTMLView",
            "description": "",
            "description_tooltip": null,
            "layout": "IPY_MODEL_68f5da3a5ab8427babd102172164843c",
            "placeholder": "​",
            "style": "IPY_MODEL_c7c1544f14774061a20ab4cff38f9b90",
            "value": "Shuffling /root/tensorflow_datasets/squad/v1.1/3.0.0.incompleteWJD629/squad-validation.tfrecord*...:  98%"
          }
        },
        "92d597b4ddd04d5e8cfbb64420ad6ed4": {
          "model_module": "@jupyter-widgets/controls",
          "model_name": "FloatProgressModel",
          "model_module_version": "1.5.0",
          "state": {
            "_dom_classes": [],
            "_model_module": "@jupyter-widgets/controls",
            "_model_module_version": "1.5.0",
            "_model_name": "FloatProgressModel",
            "_view_count": null,
            "_view_module": "@jupyter-widgets/controls",
            "_view_module_version": "1.5.0",
            "_view_name": "ProgressView",
            "bar_style": "",
            "description": "",
            "description_tooltip": null,
            "layout": "IPY_MODEL_c0da1124217f4a9da32b814c7ae9021e",
            "max": 10570,
            "min": 0,
            "orientation": "horizontal",
            "style": "IPY_MODEL_9490703342a543689426ebb2f57cd03d",
            "value": 10570
          }
        },
        "4498b61c6a994b37a0d394a139b39df3": {
          "model_module": "@jupyter-widgets/controls",
          "model_name": "HTMLModel",
          "model_module_version": "1.5.0",
          "state": {
            "_dom_classes": [],
            "_model_module": "@jupyter-widgets/controls",
            "_model_module_version": "1.5.0",
            "_model_name": "HTMLModel",
            "_view_count": null,
            "_view_module": "@jupyter-widgets/controls",
            "_view_module_version": "1.5.0",
            "_view_name": "HTMLView",
            "description": "",
            "description_tooltip": null,
            "layout": "IPY_MODEL_ad75dca714614d5b807fba551d2c8d04",
            "placeholder": "​",
            "style": "IPY_MODEL_65ca09d84dca4f72b70f5223037a3364",
            "value": " 10312/10570 [00:00&lt;00:00, 103095.03 examples/s]"
          }
        },
        "5d8d23f932b0453c8b82b2ea58653b92": {
          "model_module": "@jupyter-widgets/base",
          "model_name": "LayoutModel",
          "model_module_version": "1.2.0",
          "state": {
            "_model_module": "@jupyter-widgets/base",
            "_model_module_version": "1.2.0",
            "_model_name": "LayoutModel",
            "_view_count": null,
            "_view_module": "@jupyter-widgets/base",
            "_view_module_version": "1.2.0",
            "_view_name": "LayoutView",
            "align_content": null,
            "align_items": null,
            "align_self": null,
            "border": null,
            "bottom": null,
            "display": null,
            "flex": null,
            "flex_flow": null,
            "grid_area": null,
            "grid_auto_columns": null,
            "grid_auto_flow": null,
            "grid_auto_rows": null,
            "grid_column": null,
            "grid_gap": null,
            "grid_row": null,
            "grid_template_areas": null,
            "grid_template_columns": null,
            "grid_template_rows": null,
            "height": null,
            "justify_content": null,
            "justify_items": null,
            "left": null,
            "margin": null,
            "max_height": null,
            "max_width": null,
            "min_height": null,
            "min_width": null,
            "object_fit": null,
            "object_position": null,
            "order": null,
            "overflow": null,
            "overflow_x": null,
            "overflow_y": null,
            "padding": null,
            "right": null,
            "top": null,
            "visibility": "hidden",
            "width": null
          }
        },
        "68f5da3a5ab8427babd102172164843c": {
          "model_module": "@jupyter-widgets/base",
          "model_name": "LayoutModel",
          "model_module_version": "1.2.0",
          "state": {
            "_model_module": "@jupyter-widgets/base",
            "_model_module_version": "1.2.0",
            "_model_name": "LayoutModel",
            "_view_count": null,
            "_view_module": "@jupyter-widgets/base",
            "_view_module_version": "1.2.0",
            "_view_name": "LayoutView",
            "align_content": null,
            "align_items": null,
            "align_self": null,
            "border": null,
            "bottom": null,
            "display": null,
            "flex": null,
            "flex_flow": null,
            "grid_area": null,
            "grid_auto_columns": null,
            "grid_auto_flow": null,
            "grid_auto_rows": null,
            "grid_column": null,
            "grid_gap": null,
            "grid_row": null,
            "grid_template_areas": null,
            "grid_template_columns": null,
            "grid_template_rows": null,
            "height": null,
            "justify_content": null,
            "justify_items": null,
            "left": null,
            "margin": null,
            "max_height": null,
            "max_width": null,
            "min_height": null,
            "min_width": null,
            "object_fit": null,
            "object_position": null,
            "order": null,
            "overflow": null,
            "overflow_x": null,
            "overflow_y": null,
            "padding": null,
            "right": null,
            "top": null,
            "visibility": null,
            "width": null
          }
        },
        "c7c1544f14774061a20ab4cff38f9b90": {
          "model_module": "@jupyter-widgets/controls",
          "model_name": "DescriptionStyleModel",
          "model_module_version": "1.5.0",
          "state": {
            "_model_module": "@jupyter-widgets/controls",
            "_model_module_version": "1.5.0",
            "_model_name": "DescriptionStyleModel",
            "_view_count": null,
            "_view_module": "@jupyter-widgets/base",
            "_view_module_version": "1.2.0",
            "_view_name": "StyleView",
            "description_width": ""
          }
        },
        "c0da1124217f4a9da32b814c7ae9021e": {
          "model_module": "@jupyter-widgets/base",
          "model_name": "LayoutModel",
          "model_module_version": "1.2.0",
          "state": {
            "_model_module": "@jupyter-widgets/base",
            "_model_module_version": "1.2.0",
            "_model_name": "LayoutModel",
            "_view_count": null,
            "_view_module": "@jupyter-widgets/base",
            "_view_module_version": "1.2.0",
            "_view_name": "LayoutView",
            "align_content": null,
            "align_items": null,
            "align_self": null,
            "border": null,
            "bottom": null,
            "display": null,
            "flex": null,
            "flex_flow": null,
            "grid_area": null,
            "grid_auto_columns": null,
            "grid_auto_flow": null,
            "grid_auto_rows": null,
            "grid_column": null,
            "grid_gap": null,
            "grid_row": null,
            "grid_template_areas": null,
            "grid_template_columns": null,
            "grid_template_rows": null,
            "height": null,
            "justify_content": null,
            "justify_items": null,
            "left": null,
            "margin": null,
            "max_height": null,
            "max_width": null,
            "min_height": null,
            "min_width": null,
            "object_fit": null,
            "object_position": null,
            "order": null,
            "overflow": null,
            "overflow_x": null,
            "overflow_y": null,
            "padding": null,
            "right": null,
            "top": null,
            "visibility": null,
            "width": null
          }
        },
        "9490703342a543689426ebb2f57cd03d": {
          "model_module": "@jupyter-widgets/controls",
          "model_name": "ProgressStyleModel",
          "model_module_version": "1.5.0",
          "state": {
            "_model_module": "@jupyter-widgets/controls",
            "_model_module_version": "1.5.0",
            "_model_name": "ProgressStyleModel",
            "_view_count": null,
            "_view_module": "@jupyter-widgets/base",
            "_view_module_version": "1.2.0",
            "_view_name": "StyleView",
            "bar_color": null,
            "description_width": ""
          }
        },
        "ad75dca714614d5b807fba551d2c8d04": {
          "model_module": "@jupyter-widgets/base",
          "model_name": "LayoutModel",
          "model_module_version": "1.2.0",
          "state": {
            "_model_module": "@jupyter-widgets/base",
            "_model_module_version": "1.2.0",
            "_model_name": "LayoutModel",
            "_view_count": null,
            "_view_module": "@jupyter-widgets/base",
            "_view_module_version": "1.2.0",
            "_view_name": "LayoutView",
            "align_content": null,
            "align_items": null,
            "align_self": null,
            "border": null,
            "bottom": null,
            "display": null,
            "flex": null,
            "flex_flow": null,
            "grid_area": null,
            "grid_auto_columns": null,
            "grid_auto_flow": null,
            "grid_auto_rows": null,
            "grid_column": null,
            "grid_gap": null,
            "grid_row": null,
            "grid_template_areas": null,
            "grid_template_columns": null,
            "grid_template_rows": null,
            "height": null,
            "justify_content": null,
            "justify_items": null,
            "left": null,
            "margin": null,
            "max_height": null,
            "max_width": null,
            "min_height": null,
            "min_width": null,
            "object_fit": null,
            "object_position": null,
            "order": null,
            "overflow": null,
            "overflow_x": null,
            "overflow_y": null,
            "padding": null,
            "right": null,
            "top": null,
            "visibility": null,
            "width": null
          }
        },
        "65ca09d84dca4f72b70f5223037a3364": {
          "model_module": "@jupyter-widgets/controls",
          "model_name": "DescriptionStyleModel",
          "model_module_version": "1.5.0",
          "state": {
            "_model_module": "@jupyter-widgets/controls",
            "_model_module_version": "1.5.0",
            "_model_name": "DescriptionStyleModel",
            "_view_count": null,
            "_view_module": "@jupyter-widgets/base",
            "_view_module_version": "1.2.0",
            "_view_name": "StyleView",
            "description_width": ""
          }
        }
      }
    }
  },
  "cells": [
    {
      "cell_type": "markdown",
      "metadata": {
        "id": "view-in-github",
        "colab_type": "text"
      },
      "source": [
        "<a href=\"https://colab.research.google.com/github/sqhang/githubTest/blob/main/neatscribe_audio.ipynb\" target=\"_parent\"><img src=\"https://colab.research.google.com/assets/colab-badge.svg\" alt=\"Open In Colab\"/></a>"
      ]
    },
    {
      "cell_type": "markdown",
      "source": [
        "# Part 0. Install and import libraries"
      ],
      "metadata": {
        "id": "5af5lSOJudcm"
      }
    },
    {
      "cell_type": "markdown",
      "source": [
        "Need to use GPU runtime for Whisper to work"
      ],
      "metadata": {
        "id": "jmymgCP1v2SH"
      }
    },
    {
      "cell_type": "code",
      "execution_count": 1,
      "metadata": {
        "colab": {
          "base_uri": "https://localhost:8080/"
        },
        "id": "yLcxBz8X_3Ih",
        "outputId": "553598d7-90ff-4d40-b655-207975f06e88"
      },
      "outputs": [
        {
          "output_type": "stream",
          "name": "stdout",
          "text": [
            "Drive already mounted at /content/drive; to attempt to forcibly remount, call drive.mount(\"/content/drive\", force_remount=True).\n"
          ]
        }
      ],
      "source": [
        "from google.colab import drive\n",
        "drive.mount('/content/drive')"
      ]
    },
    {
      "cell_type": "code",
      "source": [
        "import json"
      ],
      "metadata": {
        "id": "s7PZTj6QqcYS"
      },
      "execution_count": 2,
      "outputs": []
    },
    {
      "cell_type": "code",
      "source": [
        "!pip install pydub"
      ],
      "metadata": {
        "colab": {
          "base_uri": "https://localhost:8080/"
        },
        "id": "a8nrdbMBqOIK",
        "outputId": "a30d6f74-d5f8-42fc-daf8-9ee25b048dc4"
      },
      "execution_count": 3,
      "outputs": [
        {
          "output_type": "stream",
          "name": "stdout",
          "text": [
            "Looking in indexes: https://pypi.org/simple, https://us-python.pkg.dev/colab-wheels/public/simple/\n",
            "Requirement already satisfied: pydub in /usr/local/lib/python3.9/dist-packages (0.25.1)\n"
          ]
        }
      ]
    },
    {
      "cell_type": "code",
      "source": [
        "!pip install git+https://github.com/openai/whisper.git\n",
        "!sudo apt update && sudo apt install ffmpeg\n",
        "\n",
        "import whisper"
      ],
      "metadata": {
        "colab": {
          "base_uri": "https://localhost:8080/"
        },
        "id": "L3vAfd3aqtS-",
        "outputId": "628ef0a0-5d88-4d9f-d2dd-52bef7d45f1d"
      },
      "execution_count": 4,
      "outputs": [
        {
          "output_type": "stream",
          "name": "stdout",
          "text": [
            "Looking in indexes: https://pypi.org/simple, https://us-python.pkg.dev/colab-wheels/public/simple/\n",
            "Collecting git+https://github.com/openai/whisper.git\n",
            "  Cloning https://github.com/openai/whisper.git to /tmp/pip-req-build-61g31hy5\n",
            "  Running command git clone --filter=blob:none --quiet https://github.com/openai/whisper.git /tmp/pip-req-build-61g31hy5\n",
            "  Resolved https://github.com/openai/whisper.git to commit c09a7ae299c4c34c5839a76380ae407e7d785914\n",
            "  Installing build dependencies ... \u001b[?25l\u001b[?25hdone\n",
            "  Getting requirements to build wheel ... \u001b[?25l\u001b[?25hdone\n",
            "  Preparing metadata (pyproject.toml) ... \u001b[?25l\u001b[?25hdone\n",
            "Requirement already satisfied: tqdm in /usr/local/lib/python3.9/dist-packages (from openai-whisper==20230314) (4.65.0)\n",
            "Requirement already satisfied: numpy in /usr/local/lib/python3.9/dist-packages (from openai-whisper==20230314) (1.22.4)\n",
            "Requirement already satisfied: ffmpeg-python==0.2.0 in /usr/local/lib/python3.9/dist-packages (from openai-whisper==20230314) (0.2.0)\n",
            "Requirement already satisfied: more-itertools in /usr/local/lib/python3.9/dist-packages (from openai-whisper==20230314) (9.1.0)\n",
            "Requirement already satisfied: triton==2.0.0 in /usr/local/lib/python3.9/dist-packages (from openai-whisper==20230314) (2.0.0)\n",
            "Requirement already satisfied: tiktoken==0.3.1 in /usr/local/lib/python3.9/dist-packages (from openai-whisper==20230314) (0.3.1)\n",
            "Requirement already satisfied: numba in /usr/local/lib/python3.9/dist-packages (from openai-whisper==20230314) (0.56.4)\n",
            "Requirement already satisfied: torch in /usr/local/lib/python3.9/dist-packages (from openai-whisper==20230314) (2.0.0+cu118)\n",
            "Requirement already satisfied: future in /usr/local/lib/python3.9/dist-packages (from ffmpeg-python==0.2.0->openai-whisper==20230314) (0.18.3)\n",
            "Requirement already satisfied: requests>=2.26.0 in /usr/local/lib/python3.9/dist-packages (from tiktoken==0.3.1->openai-whisper==20230314) (2.27.1)\n",
            "Requirement already satisfied: regex>=2022.1.18 in /usr/local/lib/python3.9/dist-packages (from tiktoken==0.3.1->openai-whisper==20230314) (2022.10.31)\n",
            "Requirement already satisfied: lit in /usr/local/lib/python3.9/dist-packages (from triton==2.0.0->openai-whisper==20230314) (16.0.1)\n",
            "Requirement already satisfied: cmake in /usr/local/lib/python3.9/dist-packages (from triton==2.0.0->openai-whisper==20230314) (3.25.2)\n",
            "Requirement already satisfied: filelock in /usr/local/lib/python3.9/dist-packages (from triton==2.0.0->openai-whisper==20230314) (3.11.0)\n",
            "Requirement already satisfied: llvmlite<0.40,>=0.39.0dev0 in /usr/local/lib/python3.9/dist-packages (from numba->openai-whisper==20230314) (0.39.1)\n",
            "Requirement already satisfied: setuptools in /usr/local/lib/python3.9/dist-packages (from numba->openai-whisper==20230314) (67.7.1)\n",
            "Requirement already satisfied: jinja2 in /usr/local/lib/python3.9/dist-packages (from torch->openai-whisper==20230314) (3.1.2)\n",
            "Requirement already satisfied: sympy in /usr/local/lib/python3.9/dist-packages (from torch->openai-whisper==20230314) (1.11.1)\n",
            "Requirement already satisfied: typing-extensions in /usr/local/lib/python3.9/dist-packages (from torch->openai-whisper==20230314) (4.5.0)\n",
            "Requirement already satisfied: networkx in /usr/local/lib/python3.9/dist-packages (from torch->openai-whisper==20230314) (3.1)\n",
            "Requirement already satisfied: charset-normalizer~=2.0.0 in /usr/local/lib/python3.9/dist-packages (from requests>=2.26.0->tiktoken==0.3.1->openai-whisper==20230314) (2.0.12)\n",
            "Requirement already satisfied: certifi>=2017.4.17 in /usr/local/lib/python3.9/dist-packages (from requests>=2.26.0->tiktoken==0.3.1->openai-whisper==20230314) (2022.12.7)\n",
            "Requirement already satisfied: urllib3<1.27,>=1.21.1 in /usr/local/lib/python3.9/dist-packages (from requests>=2.26.0->tiktoken==0.3.1->openai-whisper==20230314) (1.26.15)\n",
            "Requirement already satisfied: idna<4,>=2.5 in /usr/local/lib/python3.9/dist-packages (from requests>=2.26.0->tiktoken==0.3.1->openai-whisper==20230314) (3.4)\n",
            "Requirement already satisfied: MarkupSafe>=2.0 in /usr/local/lib/python3.9/dist-packages (from jinja2->torch->openai-whisper==20230314) (2.1.2)\n",
            "Requirement already satisfied: mpmath>=0.19 in /usr/local/lib/python3.9/dist-packages (from sympy->torch->openai-whisper==20230314) (1.3.0)\n",
            "Get:1 https://cloud.r-project.org/bin/linux/ubuntu focal-cran40/ InRelease [3,622 B]\n",
            "Hit:2 https://developer.download.nvidia.com/compute/cuda/repos/ubuntu2004/x86_64  InRelease\n",
            "Get:3 http://security.ubuntu.com/ubuntu focal-security InRelease [114 kB]\n",
            "Hit:4 http://archive.ubuntu.com/ubuntu focal InRelease\n",
            "Get:5 http://archive.ubuntu.com/ubuntu focal-updates InRelease [114 kB]\n",
            "Hit:6 http://ppa.launchpad.net/c2d4u.team/c2d4u4.0+/ubuntu focal InRelease\n",
            "Hit:7 http://ppa.launchpad.net/cran/libgit2/ubuntu focal InRelease\n",
            "Hit:8 http://ppa.launchpad.net/deadsnakes/ppa/ubuntu focal InRelease\n",
            "Get:9 http://archive.ubuntu.com/ubuntu focal-backports InRelease [108 kB]\n",
            "Hit:10 http://ppa.launchpad.net/graphics-drivers/ppa/ubuntu focal InRelease\n",
            "Hit:11 http://ppa.launchpad.net/ubuntugis/ppa/ubuntu focal InRelease\n",
            "Fetched 340 kB in 3s (130 kB/s)\n",
            "Reading package lists... Done\n",
            "Building dependency tree       \n",
            "Reading state information... Done\n",
            "33 packages can be upgraded. Run 'apt list --upgradable' to see them.\n",
            "Reading package lists... Done\n",
            "Building dependency tree       \n",
            "Reading state information... Done\n",
            "ffmpeg is already the newest version (7:4.2.7-0ubuntu0.1).\n",
            "0 upgraded, 0 newly installed, 0 to remove and 33 not upgraded.\n"
          ]
        }
      ]
    },
    {
      "cell_type": "code",
      "source": [
        "! pip install jiwer"
      ],
      "metadata": {
        "colab": {
          "base_uri": "https://localhost:8080/"
        },
        "id": "33-vhbUQwchN",
        "outputId": "7b02bf15-8f2b-4454-9207-d85c48d1325f"
      },
      "execution_count": 5,
      "outputs": [
        {
          "output_type": "stream",
          "name": "stdout",
          "text": [
            "Looking in indexes: https://pypi.org/simple, https://us-python.pkg.dev/colab-wheels/public/simple/\n",
            "Requirement already satisfied: jiwer in /usr/local/lib/python3.9/dist-packages (3.0.1)\n",
            "Requirement already satisfied: rapidfuzz==2.13.7 in /usr/local/lib/python3.9/dist-packages (from jiwer) (2.13.7)\n",
            "Requirement already satisfied: click<9.0.0,>=8.1.3 in /usr/local/lib/python3.9/dist-packages (from jiwer) (8.1.3)\n"
          ]
        }
      ]
    },
    {
      "cell_type": "code",
      "source": [
        "import jiwer\n",
        "from whisper.normalizers import EnglishTextNormalizer"
      ],
      "metadata": {
        "id": "WOY7Ncl-8-Js"
      },
      "execution_count": 6,
      "outputs": []
    },
    {
      "cell_type": "markdown",
      "source": [
        "Run this block only if we want to use Google Speech2Text"
      ],
      "metadata": {
        "id": "KROXKGUU_MBw"
      }
    },
    {
      "cell_type": "code",
      "source": [
        "!pip install google-cloud-speech\n",
        "!pip install google-auth google-auth-oauthlib google-auth-httplib2"
      ],
      "metadata": {
        "colab": {
          "base_uri": "https://localhost:8080/"
        },
        "id": "PIlsyujI_K_H",
        "outputId": "c862e78a-f17d-498c-9df8-ec25f1ebfdd5"
      },
      "execution_count": 7,
      "outputs": [
        {
          "output_type": "stream",
          "name": "stdout",
          "text": [
            "Looking in indexes: https://pypi.org/simple, https://us-python.pkg.dev/colab-wheels/public/simple/\n",
            "Requirement already satisfied: google-cloud-speech in /usr/local/lib/python3.9/dist-packages (2.19.0)\n",
            "Requirement already satisfied: google-api-core[grpc]!=2.0.*,!=2.1.*,!=2.10.*,!=2.2.*,!=2.3.*,!=2.4.*,!=2.5.*,!=2.6.*,!=2.7.*,!=2.8.*,!=2.9.*,<3.0.0dev,>=1.34.0 in /usr/local/lib/python3.9/dist-packages (from google-cloud-speech) (2.11.0)\n",
            "Requirement already satisfied: protobuf!=3.20.0,!=3.20.1,!=4.21.0,!=4.21.1,!=4.21.2,!=4.21.3,!=4.21.4,!=4.21.5,<5.0.0dev,>=3.19.5 in /usr/local/lib/python3.9/dist-packages (from google-cloud-speech) (3.20.3)\n",
            "Requirement already satisfied: proto-plus<2.0.0dev,>=1.22.0 in /usr/local/lib/python3.9/dist-packages (from google-cloud-speech) (1.22.2)\n",
            "Requirement already satisfied: googleapis-common-protos<2.0dev,>=1.56.2 in /usr/local/lib/python3.9/dist-packages (from google-api-core[grpc]!=2.0.*,!=2.1.*,!=2.10.*,!=2.2.*,!=2.3.*,!=2.4.*,!=2.5.*,!=2.6.*,!=2.7.*,!=2.8.*,!=2.9.*,<3.0.0dev,>=1.34.0->google-cloud-speech) (1.59.0)\n",
            "Requirement already satisfied: requests<3.0.0dev,>=2.18.0 in /usr/local/lib/python3.9/dist-packages (from google-api-core[grpc]!=2.0.*,!=2.1.*,!=2.10.*,!=2.2.*,!=2.3.*,!=2.4.*,!=2.5.*,!=2.6.*,!=2.7.*,!=2.8.*,!=2.9.*,<3.0.0dev,>=1.34.0->google-cloud-speech) (2.27.1)\n",
            "Requirement already satisfied: google-auth<3.0dev,>=2.14.1 in /usr/local/lib/python3.9/dist-packages (from google-api-core[grpc]!=2.0.*,!=2.1.*,!=2.10.*,!=2.2.*,!=2.3.*,!=2.4.*,!=2.5.*,!=2.6.*,!=2.7.*,!=2.8.*,!=2.9.*,<3.0.0dev,>=1.34.0->google-cloud-speech) (2.17.3)\n",
            "Requirement already satisfied: grpcio-status<2.0dev,>=1.33.2 in /usr/local/lib/python3.9/dist-packages (from google-api-core[grpc]!=2.0.*,!=2.1.*,!=2.10.*,!=2.2.*,!=2.3.*,!=2.4.*,!=2.5.*,!=2.6.*,!=2.7.*,!=2.8.*,!=2.9.*,<3.0.0dev,>=1.34.0->google-cloud-speech) (1.48.2)\n",
            "Requirement already satisfied: grpcio<2.0dev,>=1.33.2 in /usr/local/lib/python3.9/dist-packages (from google-api-core[grpc]!=2.0.*,!=2.1.*,!=2.10.*,!=2.2.*,!=2.3.*,!=2.4.*,!=2.5.*,!=2.6.*,!=2.7.*,!=2.8.*,!=2.9.*,<3.0.0dev,>=1.34.0->google-cloud-speech) (1.53.0)\n",
            "Requirement already satisfied: six>=1.9.0 in /usr/local/lib/python3.9/dist-packages (from google-auth<3.0dev,>=2.14.1->google-api-core[grpc]!=2.0.*,!=2.1.*,!=2.10.*,!=2.2.*,!=2.3.*,!=2.4.*,!=2.5.*,!=2.6.*,!=2.7.*,!=2.8.*,!=2.9.*,<3.0.0dev,>=1.34.0->google-cloud-speech) (1.16.0)\n",
            "Requirement already satisfied: pyasn1-modules>=0.2.1 in /usr/local/lib/python3.9/dist-packages (from google-auth<3.0dev,>=2.14.1->google-api-core[grpc]!=2.0.*,!=2.1.*,!=2.10.*,!=2.2.*,!=2.3.*,!=2.4.*,!=2.5.*,!=2.6.*,!=2.7.*,!=2.8.*,!=2.9.*,<3.0.0dev,>=1.34.0->google-cloud-speech) (0.2.8)\n",
            "Requirement already satisfied: rsa<5,>=3.1.4 in /usr/local/lib/python3.9/dist-packages (from google-auth<3.0dev,>=2.14.1->google-api-core[grpc]!=2.0.*,!=2.1.*,!=2.10.*,!=2.2.*,!=2.3.*,!=2.4.*,!=2.5.*,!=2.6.*,!=2.7.*,!=2.8.*,!=2.9.*,<3.0.0dev,>=1.34.0->google-cloud-speech) (4.9)\n",
            "Requirement already satisfied: cachetools<6.0,>=2.0.0 in /usr/local/lib/python3.9/dist-packages (from google-auth<3.0dev,>=2.14.1->google-api-core[grpc]!=2.0.*,!=2.1.*,!=2.10.*,!=2.2.*,!=2.3.*,!=2.4.*,!=2.5.*,!=2.6.*,!=2.7.*,!=2.8.*,!=2.9.*,<3.0.0dev,>=1.34.0->google-cloud-speech) (5.3.0)\n",
            "Requirement already satisfied: idna<4,>=2.5 in /usr/local/lib/python3.9/dist-packages (from requests<3.0.0dev,>=2.18.0->google-api-core[grpc]!=2.0.*,!=2.1.*,!=2.10.*,!=2.2.*,!=2.3.*,!=2.4.*,!=2.5.*,!=2.6.*,!=2.7.*,!=2.8.*,!=2.9.*,<3.0.0dev,>=1.34.0->google-cloud-speech) (3.4)\n",
            "Requirement already satisfied: urllib3<1.27,>=1.21.1 in /usr/local/lib/python3.9/dist-packages (from requests<3.0.0dev,>=2.18.0->google-api-core[grpc]!=2.0.*,!=2.1.*,!=2.10.*,!=2.2.*,!=2.3.*,!=2.4.*,!=2.5.*,!=2.6.*,!=2.7.*,!=2.8.*,!=2.9.*,<3.0.0dev,>=1.34.0->google-cloud-speech) (1.26.15)\n",
            "Requirement already satisfied: certifi>=2017.4.17 in /usr/local/lib/python3.9/dist-packages (from requests<3.0.0dev,>=2.18.0->google-api-core[grpc]!=2.0.*,!=2.1.*,!=2.10.*,!=2.2.*,!=2.3.*,!=2.4.*,!=2.5.*,!=2.6.*,!=2.7.*,!=2.8.*,!=2.9.*,<3.0.0dev,>=1.34.0->google-cloud-speech) (2022.12.7)\n",
            "Requirement already satisfied: charset-normalizer~=2.0.0 in /usr/local/lib/python3.9/dist-packages (from requests<3.0.0dev,>=2.18.0->google-api-core[grpc]!=2.0.*,!=2.1.*,!=2.10.*,!=2.2.*,!=2.3.*,!=2.4.*,!=2.5.*,!=2.6.*,!=2.7.*,!=2.8.*,!=2.9.*,<3.0.0dev,>=1.34.0->google-cloud-speech) (2.0.12)\n",
            "Requirement already satisfied: pyasn1<0.5.0,>=0.4.6 in /usr/local/lib/python3.9/dist-packages (from pyasn1-modules>=0.2.1->google-auth<3.0dev,>=2.14.1->google-api-core[grpc]!=2.0.*,!=2.1.*,!=2.10.*,!=2.2.*,!=2.3.*,!=2.4.*,!=2.5.*,!=2.6.*,!=2.7.*,!=2.8.*,!=2.9.*,<3.0.0dev,>=1.34.0->google-cloud-speech) (0.4.8)\n",
            "Looking in indexes: https://pypi.org/simple, https://us-python.pkg.dev/colab-wheels/public/simple/\n",
            "Requirement already satisfied: google-auth in /usr/local/lib/python3.9/dist-packages (2.17.3)\n",
            "Requirement already satisfied: google-auth-oauthlib in /usr/local/lib/python3.9/dist-packages (1.0.0)\n",
            "Requirement already satisfied: google-auth-httplib2 in /usr/local/lib/python3.9/dist-packages (0.1.0)\n",
            "Requirement already satisfied: pyasn1-modules>=0.2.1 in /usr/local/lib/python3.9/dist-packages (from google-auth) (0.2.8)\n",
            "Requirement already satisfied: rsa<5,>=3.1.4 in /usr/local/lib/python3.9/dist-packages (from google-auth) (4.9)\n",
            "Requirement already satisfied: six>=1.9.0 in /usr/local/lib/python3.9/dist-packages (from google-auth) (1.16.0)\n",
            "Requirement already satisfied: cachetools<6.0,>=2.0.0 in /usr/local/lib/python3.9/dist-packages (from google-auth) (5.3.0)\n",
            "Requirement already satisfied: requests-oauthlib>=0.7.0 in /usr/local/lib/python3.9/dist-packages (from google-auth-oauthlib) (1.3.1)\n",
            "Requirement already satisfied: httplib2>=0.15.0 in /usr/local/lib/python3.9/dist-packages (from google-auth-httplib2) (0.21.0)\n",
            "Requirement already satisfied: pyparsing!=3.0.0,!=3.0.1,!=3.0.2,!=3.0.3,<4,>=2.4.2 in /usr/local/lib/python3.9/dist-packages (from httplib2>=0.15.0->google-auth-httplib2) (3.0.9)\n",
            "Requirement already satisfied: pyasn1<0.5.0,>=0.4.6 in /usr/local/lib/python3.9/dist-packages (from pyasn1-modules>=0.2.1->google-auth) (0.4.8)\n",
            "Requirement already satisfied: requests>=2.0.0 in /usr/local/lib/python3.9/dist-packages (from requests-oauthlib>=0.7.0->google-auth-oauthlib) (2.27.1)\n",
            "Requirement already satisfied: oauthlib>=3.0.0 in /usr/local/lib/python3.9/dist-packages (from requests-oauthlib>=0.7.0->google-auth-oauthlib) (3.2.2)\n",
            "Requirement already satisfied: idna<4,>=2.5 in /usr/local/lib/python3.9/dist-packages (from requests>=2.0.0->requests-oauthlib>=0.7.0->google-auth-oauthlib) (3.4)\n",
            "Requirement already satisfied: charset-normalizer~=2.0.0 in /usr/local/lib/python3.9/dist-packages (from requests>=2.0.0->requests-oauthlib>=0.7.0->google-auth-oauthlib) (2.0.12)\n",
            "Requirement already satisfied: certifi>=2017.4.17 in /usr/local/lib/python3.9/dist-packages (from requests>=2.0.0->requests-oauthlib>=0.7.0->google-auth-oauthlib) (2022.12.7)\n",
            "Requirement already satisfied: urllib3<1.27,>=1.21.1 in /usr/local/lib/python3.9/dist-packages (from requests>=2.0.0->requests-oauthlib>=0.7.0->google-auth-oauthlib) (1.26.15)\n"
          ]
        }
      ]
    },
    {
      "cell_type": "markdown",
      "source": [
        "# Part 1. Merge Audios in dev folder"
      ],
      "metadata": {
        "id": "dvKTwmph-Dq3"
      }
    },
    {
      "cell_type": "code",
      "source": [
        "import os\n",
        "from pydub import AudioSegment\n",
        "\n",
        "def merge_sentences_in_paragraphs(input_folder, output_folder, target_format):\n",
        "    # Create the output folder if it doesn't exist\n",
        "    if not os.path.exists(output_folder):\n",
        "        os.makedirs(output_folder)\n",
        "\n",
        "    # Iterate through the input files and sort them based on sentence index\n",
        "    files = os.listdir(input_folder)\n",
        "    files.sort(key=lambda f: tuple(map(int, f[:-4].split('_'))))\n",
        "\n",
        "    # Merge sentences in paragraphs\n",
        "    paragraphs = {}\n",
        "    for file_name in files:\n",
        "        # Check if the file is a WAV file\n",
        "        if file_name.endswith(\".wav\"):\n",
        "            # Parse the file name to extract the indices\n",
        "            file_base = file_name[:-4]\n",
        "            article_idx, paragraph_idx, sentence_idx = map(int, file_base.split('_'))\n",
        "\n",
        "            # Load the input file and convert it to the target format\n",
        "            file_path = os.path.join(input_folder, file_name)\n",
        "            input_audio = AudioSegment.from_wav(file_path)\n",
        "            input_audio = input_audio.set_channels(target_format[\"channels\"])\n",
        "            input_audio = input_audio.set_frame_rate(target_format[\"frame_rate\"])\n",
        "            input_audio = input_audio.set_sample_width(target_format[\"sample_width\"])\n",
        "\n",
        "            # Merge the input file with the corresponding paragraph\n",
        "            key = (article_idx, paragraph_idx)\n",
        "            if key not in paragraphs:\n",
        "                paragraphs[key] = input_audio\n",
        "            else:\n",
        "                paragraphs[key] = paragraphs[key] + input_audio\n",
        "\n",
        "    # Save the merged audio files to the output folder\n",
        "    for (article_idx, paragraph_idx), audio in paragraphs.items():\n",
        "        output_file_name = f\"{article_idx}_{paragraph_idx}_merged.wav\"\n",
        "        output_file_path = os.path.join(output_folder, output_file_name)\n",
        "        audio.export(output_file_path, format=\"wav\")\n"
      ],
      "metadata": {
        "id": "DhGGE3m9CeON"
      },
      "execution_count": null,
      "outputs": []
    },
    {
      "cell_type": "code",
      "source": [
        "!unzip /content/drive/MyDrive/SpokenSQuAD/dev_wav.zip"
      ],
      "metadata": {
        "id": "MNmUaakP7uZf"
      },
      "execution_count": null,
      "outputs": []
    },
    {
      "cell_type": "code",
      "source": [
        "# Input folder containing the WAV files\n",
        "input_folder = \"dev_wav\"\n",
        "\n",
        "# Output folder where the merged WAV files will be saved\n",
        "output_folder = \"/content/drive/MyDrive/SpokenSQuAD/output_dev_wav_1_44.1khz_2\"\n",
        "\n",
        "# Target format for the input files\n",
        "target_format = {\n",
        "    \"channels\": 1,        # Mono\n",
        "    \"frame_rate\": 44100,  # 44.1 kHz\n",
        "    \"sample_width\": 2     # 16 bits per sample\n",
        "}\n",
        "\n",
        "# Merge the sentences in the paragraphs and save the results to the output folder\n",
        "merge_sentences_in_paragraphs(input_folder, output_folder, target_format)"
      ],
      "metadata": {
        "id": "n5Yr4GCvCxQa"
      },
      "execution_count": null,
      "outputs": []
    },
    {
      "cell_type": "code",
      "source": [
        "# Input folder containing the WAV files\n",
        "input_folder = \"dev_wav\"\n",
        "\n",
        "# Output folder where the merged WAV files will be saved\n",
        "output_folder_lower = \"/content/drive/MyDrive/SpokenSQuAD/output_dev_wav_1_4khz_1\"\n",
        "\n",
        "target_format_lower = {\n",
        "    \"channels\": 1,        # Stereo\n",
        "    \"frame_rate\": 4000,  # 48 kHz\n",
        "    \"sample_width\": 1     # 24 bits per sample\n",
        "}\n",
        "\n",
        "# Merge the sentences in the paragraphs and save the results to the output folder\n",
        "merge_sentences_in_paragraphs(input_folder, output_folder_lower, target_format_lower)"
      ],
      "metadata": {
        "id": "QORSzOaFSoJr"
      },
      "execution_count": null,
      "outputs": []
    },
    {
      "cell_type": "code",
      "source": [
        "! ls -1 /content/drive/MyDrive/SpokenSQuAD/output_dev_wav_1_4khz_1 | wc -l"
      ],
      "metadata": {
        "colab": {
          "base_uri": "https://localhost:8080/"
        },
        "id": "d0PzCCKeUJZC",
        "outputId": "df049b46-27b8-4ede-8026-30ae1247c55d"
      },
      "execution_count": null,
      "outputs": [
        {
          "output_type": "stream",
          "name": "stdout",
          "text": [
            "2067\n"
          ]
        }
      ]
    },
    {
      "cell_type": "code",
      "source": [
        "! ls -1 /content/drive/MyDrive/SpokenSQuAD/output_dev_wav_1_44.1khz_2 | wc -l"
      ],
      "metadata": {
        "colab": {
          "base_uri": "https://localhost:8080/"
        },
        "id": "pNZOI9WcmnNl",
        "outputId": "4e6aaa1d-8656-4e2b-c568-0c1678ad8f53"
      },
      "execution_count": null,
      "outputs": [
        {
          "output_type": "stream",
          "name": "stdout",
          "text": [
            "2067\n"
          ]
        }
      ]
    },
    {
      "cell_type": "code",
      "source": [
        "! du -sh /content/drive/MyDrive/SpokenSQuAD/output_dev_wav_1_44.1khz_2"
      ],
      "metadata": {
        "colab": {
          "base_uri": "https://localhost:8080/"
        },
        "id": "9iWaDeoYF0R-",
        "outputId": "c063b384-d6bb-45b7-f1af-015249452bfc"
      },
      "execution_count": null,
      "outputs": [
        {
          "output_type": "stream",
          "name": "stdout",
          "text": [
            "11G\t/content/drive/MyDrive/SpokenSQuAD/output_dev_wav_1_44.1khz_2\n"
          ]
        }
      ]
    },
    {
      "cell_type": "code",
      "source": [
        "! du -sh /content/drive/MyDrive/SpokenSQuAD/output_dev_wav_1_4khz_1"
      ],
      "metadata": {
        "colab": {
          "base_uri": "https://localhost:8080/"
        },
        "id": "GEZlIOqUg_SZ",
        "outputId": "5bb849ac-177b-4343-8afa-f54676a310d4"
      },
      "execution_count": null,
      "outputs": [
        {
          "output_type": "stream",
          "name": "stdout",
          "text": [
            "487M\t/content/drive/MyDrive/SpokenSQuAD/output_dev_wav_1_4khz_1\n"
          ]
        }
      ]
    },
    {
      "cell_type": "markdown",
      "source": [
        "Sanity check: compare the list and see the diff!"
      ],
      "metadata": {
        "id": "3eAmOg3bboeU"
      }
    },
    {
      "cell_type": "code",
      "source": [
        "import os\n",
        "\n",
        "list1 = os.listdir(\"/content/drive/MyDrive/SpokenSQuAD/output_dev_wav_1_4khz_1\")\n",
        "list2 = os.listdir(\"/content/drive/MyDrive/SpokenSQuAD/output_dev_wav_1_44.1khz_2\")\n",
        "print(list1)\n",
        "print(list2)\n",
        "\n",
        "extra_list = [elem for elem in list1 if (elem not in list2)]\n",
        "extra_list"
      ],
      "metadata": {
        "colab": {
          "base_uri": "https://localhost:8080/"
        },
        "id": "YRAuyWVlhEFz",
        "outputId": "65349fab-c473-4899-eb44-45012b7522ee"
      },
      "execution_count": null,
      "outputs": [
        {
          "output_type": "stream",
          "name": "stdout",
          "text": [
            "['0_0_merged.wav', '0_1_merged.wav', '0_2_merged.wav', '0_3_merged.wav', '0_4_merged.wav', '0_5_merged.wav', '0_6_merged.wav', '0_7_merged.wav', '0_8_merged.wav', '0_9_merged.wav', '0_10_merged.wav', '0_11_merged.wav', '0_12_merged.wav', '0_13_merged.wav', '0_14_merged.wav', '0_15_merged.wav', '0_16_merged.wav', '0_17_merged.wav', '0_18_merged.wav', '0_19_merged.wav', '0_20_merged.wav', '0_21_merged.wav', '0_22_merged.wav', '0_23_merged.wav', '0_24_merged.wav', '0_25_merged.wav', '0_26_merged.wav', '0_27_merged.wav', '0_28_merged.wav', '0_29_merged.wav', '0_30_merged.wav', '0_31_merged.wav', '0_32_merged.wav', '0_33_merged.wav', '0_34_merged.wav', '0_35_merged.wav', '0_36_merged.wav', '0_37_merged.wav', '0_38_merged.wav', '0_39_merged.wav', '0_40_merged.wav', '0_41_merged.wav', '0_42_merged.wav', '0_43_merged.wav', '0_44_merged.wav', '0_45_merged.wav', '0_46_merged.wav', '0_47_merged.wav', '0_48_merged.wav', '0_49_merged.wav', '0_50_merged.wav', '0_51_merged.wav', '0_52_merged.wav', '0_53_merged.wav', '1_0_merged.wav', '1_1_merged.wav', '1_2_merged.wav', '1_3_merged.wav', '1_4_merged.wav', '1_5_merged.wav', '1_6_merged.wav', '1_7_merged.wav', '1_8_merged.wav', '1_9_merged.wav', '1_10_merged.wav', '1_11_merged.wav', '1_12_merged.wav', '1_13_merged.wav', '1_14_merged.wav', '1_15_merged.wav', '1_16_merged.wav', '1_17_merged.wav', '1_18_merged.wav', '1_19_merged.wav', '1_20_merged.wav', '1_21_merged.wav', '1_22_merged.wav', '1_23_merged.wav', '1_24_merged.wav', '1_25_merged.wav', '1_26_merged.wav', '1_27_merged.wav', '1_28_merged.wav', '1_29_merged.wav', '1_30_merged.wav', '1_31_merged.wav', '1_32_merged.wav', '1_33_merged.wav', '1_34_merged.wav', '1_35_merged.wav', '1_36_merged.wav', '1_37_merged.wav', '1_38_merged.wav', '1_39_merged.wav', '1_40_merged.wav', '1_41_merged.wav', '1_42_merged.wav', '1_43_merged.wav', '1_44_merged.wav', '1_45_merged.wav', '1_46_merged.wav', '1_47_merged.wav', '1_48_merged.wav', '2_0_merged.wav', '2_1_merged.wav', '2_2_merged.wav', '2_3_merged.wav', '2_4_merged.wav', '2_5_merged.wav', '2_6_merged.wav', '2_7_merged.wav', '2_8_merged.wav', '2_9_merged.wav', '2_10_merged.wav', '2_11_merged.wav', '2_12_merged.wav', '2_13_merged.wav', '2_14_merged.wav', '2_15_merged.wav', '2_16_merged.wav', '2_17_merged.wav', '2_18_merged.wav', '2_19_merged.wav', '2_20_merged.wav', '2_21_merged.wav', '2_22_merged.wav', '2_23_merged.wav', '2_24_merged.wav', '2_25_merged.wav', '2_26_merged.wav', '2_27_merged.wav', '2_28_merged.wav', '2_29_merged.wav', '2_30_merged.wav', '2_31_merged.wav', '2_32_merged.wav', '2_33_merged.wav', '2_34_merged.wav', '2_35_merged.wav', '2_36_merged.wav', '2_37_merged.wav', '2_38_merged.wav', '2_39_merged.wav', '2_40_merged.wav', '2_41_merged.wav', '2_42_merged.wav', '2_43_merged.wav', '2_44_merged.wav', '3_0_merged.wav', '3_1_merged.wav', '3_2_merged.wav', '3_3_merged.wav', '3_4_merged.wav', '3_5_merged.wav', '3_6_merged.wav', '3_7_merged.wav', '3_8_merged.wav', '3_9_merged.wav', '3_10_merged.wav', '3_11_merged.wav', '3_12_merged.wav', '3_13_merged.wav', '3_14_merged.wav', '3_15_merged.wav', '3_16_merged.wav', '3_17_merged.wav', '3_18_merged.wav', '3_19_merged.wav', '3_20_merged.wav', '3_21_merged.wav', '3_22_merged.wav', '3_23_merged.wav', '3_24_merged.wav', '3_25_merged.wav', '3_26_merged.wav', '3_27_merged.wav', '3_28_merged.wav', '3_29_merged.wav', '3_30_merged.wav', '3_31_merged.wav', '3_32_merged.wav', '3_33_merged.wav', '3_34_merged.wav', '3_35_merged.wav', '3_36_merged.wav', '3_37_merged.wav', '3_38_merged.wav', '3_39_merged.wav', '3_40_merged.wav', '3_41_merged.wav', '3_42_merged.wav', '3_43_merged.wav', '3_44_merged.wav', '3_45_merged.wav', '3_46_merged.wav', '3_47_merged.wav', '3_48_merged.wav', '3_49_merged.wav', '3_50_merged.wav', '3_51_merged.wav', '3_52_merged.wav', '3_53_merged.wav', '3_54_merged.wav', '3_55_merged.wav', '3_56_merged.wav', '3_57_merged.wav', '3_58_merged.wav', '3_59_merged.wav', '3_60_merged.wav', '3_61_merged.wav', '3_62_merged.wav', '3_63_merged.wav', '3_64_merged.wav', '3_65_merged.wav', '3_66_merged.wav', '3_67_merged.wav', '3_68_merged.wav', '3_69_merged.wav', '3_70_merged.wav', '3_71_merged.wav', '3_72_merged.wav', '3_73_merged.wav', '3_74_merged.wav', '3_75_merged.wav', '3_76_merged.wav', '3_77_merged.wav', '3_78_merged.wav', '3_79_merged.wav', '3_80_merged.wav', '3_81_merged.wav', '3_82_merged.wav', '3_83_merged.wav', '3_84_merged.wav', '3_85_merged.wav', '3_86_merged.wav', '3_87_merged.wav', '3_88_merged.wav', '3_89_merged.wav', '3_90_merged.wav', '3_91_merged.wav', '4_0_merged.wav', '4_1_merged.wav', '4_2_merged.wav', '4_3_merged.wav', '4_4_merged.wav', '4_5_merged.wav', '4_6_merged.wav', '4_7_merged.wav', '4_8_merged.wav', '4_9_merged.wav', '4_10_merged.wav', '4_11_merged.wav', '4_12_merged.wav', '4_13_merged.wav', '4_14_merged.wav', '4_15_merged.wav', '4_16_merged.wav', '4_17_merged.wav', '4_18_merged.wav', '4_19_merged.wav', '4_20_merged.wav', '4_21_merged.wav', '4_22_merged.wav', '4_23_merged.wav', '4_24_merged.wav', '4_25_merged.wav', '4_26_merged.wav', '4_27_merged.wav', '4_28_merged.wav', '4_29_merged.wav', '4_30_merged.wav', '4_31_merged.wav', '4_32_merged.wav', '4_33_merged.wav', '4_34_merged.wav', '4_35_merged.wav', '4_36_merged.wav', '4_37_merged.wav', '4_38_merged.wav', '4_39_merged.wav', '4_40_merged.wav', '4_41_merged.wav', '4_42_merged.wav', '4_43_merged.wav', '4_44_merged.wav', '4_45_merged.wav', '4_46_merged.wav', '4_47_merged.wav', '5_0_merged.wav', '5_1_merged.wav', '5_2_merged.wav', '5_3_merged.wav', '5_4_merged.wav', '5_5_merged.wav', '5_6_merged.wav', '5_7_merged.wav', '5_8_merged.wav', '5_9_merged.wav', '5_10_merged.wav', '5_11_merged.wav', '5_12_merged.wav', '5_13_merged.wav', '5_14_merged.wav', '5_15_merged.wav', '5_16_merged.wav', '5_17_merged.wav', '5_18_merged.wav', '5_19_merged.wav', '5_20_merged.wav', '5_21_merged.wav', '5_22_merged.wav', '5_23_merged.wav', '5_24_merged.wav', '5_25_merged.wav', '5_26_merged.wav', '5_27_merged.wav', '5_28_merged.wav', '5_29_merged.wav', '5_30_merged.wav', '5_31_merged.wav', '5_32_merged.wav', '5_33_merged.wav', '5_34_merged.wav', '5_35_merged.wav', '5_36_merged.wav', '5_37_merged.wav', '5_38_merged.wav', '5_39_merged.wav', '5_40_merged.wav', '5_41_merged.wav', '5_42_merged.wav', '5_43_merged.wav', '5_44_merged.wav', '5_45_merged.wav', '5_46_merged.wav', '5_47_merged.wav', '5_48_merged.wav', '5_49_merged.wav', '5_50_merged.wav', '5_51_merged.wav', '5_52_merged.wav', '5_53_merged.wav', '5_54_merged.wav', '5_55_merged.wav', '5_56_merged.wav', '5_57_merged.wav', '6_0_merged.wav', '6_1_merged.wav', '6_2_merged.wav', '6_3_merged.wav', '6_4_merged.wav', '6_5_merged.wav', '6_6_merged.wav', '6_7_merged.wav', '6_8_merged.wav', '6_9_merged.wav', '6_10_merged.wav', '6_11_merged.wav', '6_12_merged.wav', '6_13_merged.wav', '6_14_merged.wav', '6_15_merged.wav', '6_16_merged.wav', '6_17_merged.wav', '6_18_merged.wav', '6_19_merged.wav', '6_20_merged.wav', '6_21_merged.wav', '6_22_merged.wav', '6_23_merged.wav', '6_24_merged.wav', '6_25_merged.wav', '6_26_merged.wav', '6_27_merged.wav', '6_28_merged.wav', '6_29_merged.wav', '6_30_merged.wav', '6_31_merged.wav', '6_32_merged.wav', '6_33_merged.wav', '6_34_merged.wav', '6_35_merged.wav', '6_36_merged.wav', '6_37_merged.wav', '6_38_merged.wav', '6_39_merged.wav', '6_40_merged.wav', '6_41_merged.wav', '6_42_merged.wav', '6_43_merged.wav', '6_44_merged.wav', '6_45_merged.wav', '6_46_merged.wav', '6_47_merged.wav', '6_48_merged.wav', '6_49_merged.wav', '6_50_merged.wav', '6_51_merged.wav', '6_52_merged.wav', '6_53_merged.wav', '6_54_merged.wav', '6_55_merged.wav', '6_56_merged.wav', '6_57_merged.wav', '6_58_merged.wav', '6_59_merged.wav', '6_60_merged.wav', '6_61_merged.wav', '6_62_merged.wav', '6_63_merged.wav', '6_64_merged.wav', '6_65_merged.wav', '6_66_merged.wav', '6_67_merged.wav', '6_68_merged.wav', '6_69_merged.wav', '6_70_merged.wav', '6_71_merged.wav', '6_72_merged.wav', '6_73_merged.wav', '6_74_merged.wav', '6_75_merged.wav', '6_76_merged.wav', '6_77_merged.wav', '6_78_merged.wav', '6_79_merged.wav', '6_80_merged.wav', '6_81_merged.wav', '6_82_merged.wav', '6_83_merged.wav', '6_84_merged.wav', '6_85_merged.wav', '6_86_merged.wav', '6_87_merged.wav', '6_88_merged.wav', '6_89_merged.wav', '6_90_merged.wav', '6_91_merged.wav', '6_92_merged.wav', '6_93_merged.wav', '6_94_merged.wav', '6_95_merged.wav', '6_96_merged.wav', '6_97_merged.wav', '7_0_merged.wav', '7_1_merged.wav', '7_2_merged.wav', '7_3_merged.wav', '7_4_merged.wav', '7_5_merged.wav', '7_6_merged.wav', '7_7_merged.wav', '7_8_merged.wav', '7_9_merged.wav', '7_10_merged.wav', '7_11_merged.wav', '7_12_merged.wav', '7_13_merged.wav', '7_14_merged.wav', '7_15_merged.wav', '7_16_merged.wav', '7_17_merged.wav', '7_18_merged.wav', '7_19_merged.wav', '7_20_merged.wav', '7_21_merged.wav', '7_22_merged.wav', '7_23_merged.wav', '7_24_merged.wav', '7_25_merged.wav', '7_26_merged.wav', '7_27_merged.wav', '7_28_merged.wav', '7_29_merged.wav', '7_30_merged.wav', '7_31_merged.wav', '7_32_merged.wav', '7_33_merged.wav', '7_34_merged.wav', '7_35_merged.wav', '7_36_merged.wav', '7_37_merged.wav', '7_38_merged.wav', '8_0_merged.wav', '8_1_merged.wav', '8_2_merged.wav', '8_3_merged.wav', '8_4_merged.wav', '8_5_merged.wav', '8_6_merged.wav', '8_7_merged.wav', '8_8_merged.wav', '8_9_merged.wav', '8_10_merged.wav', '8_11_merged.wav', '8_12_merged.wav', '8_13_merged.wav', '8_14_merged.wav', '8_15_merged.wav', '8_16_merged.wav', '8_17_merged.wav', '8_18_merged.wav', '8_19_merged.wav', '8_20_merged.wav', '8_21_merged.wav', '9_0_merged.wav', '9_1_merged.wav', '9_2_merged.wav', '9_3_merged.wav', '9_4_merged.wav', '9_5_merged.wav', '9_6_merged.wav', '9_7_merged.wav', '9_8_merged.wav', '9_9_merged.wav', '9_10_merged.wav', '9_11_merged.wav', '9_12_merged.wav', '9_13_merged.wav', '9_14_merged.wav', '9_15_merged.wav', '9_16_merged.wav', '9_17_merged.wav', '9_18_merged.wav', '9_19_merged.wav', '9_20_merged.wav', '9_21_merged.wav', '9_22_merged.wav', '9_23_merged.wav', '9_24_merged.wav', '10_0_merged.wav', '10_1_merged.wav', '10_2_merged.wav', '10_3_merged.wav', '10_4_merged.wav', '10_5_merged.wav', '10_6_merged.wav', '10_7_merged.wav', '10_8_merged.wav', '10_9_merged.wav', '10_10_merged.wav', '10_11_merged.wav', '10_12_merged.wav', '10_13_merged.wav', '10_14_merged.wav', '10_15_merged.wav', '10_16_merged.wav', '10_17_merged.wav', '10_18_merged.wav', '10_19_merged.wav', '10_20_merged.wav', '10_21_merged.wav', '10_22_merged.wav', '10_23_merged.wav', '10_24_merged.wav', '10_25_merged.wav', '10_26_merged.wav', '10_27_merged.wav', '10_28_merged.wav', '10_29_merged.wav', '10_30_merged.wav', '10_31_merged.wav', '10_32_merged.wav', '10_33_merged.wav', '10_34_merged.wav', '10_35_merged.wav', '10_36_merged.wav', '10_37_merged.wav', '10_38_merged.wav', '10_39_merged.wav', '10_40_merged.wav', '10_41_merged.wav', '10_42_merged.wav', '10_43_merged.wav', '11_0_merged.wav', '11_1_merged.wav', '11_2_merged.wav', '11_3_merged.wav', '11_4_merged.wav', '11_5_merged.wav', '11_6_merged.wav', '11_7_merged.wav', '11_8_merged.wav', '11_9_merged.wav', '11_10_merged.wav', '11_11_merged.wav', '11_12_merged.wav', '11_13_merged.wav', '11_14_merged.wav', '11_15_merged.wav', '11_16_merged.wav', '11_17_merged.wav', '11_18_merged.wav', '11_19_merged.wav', '11_20_merged.wav', '11_21_merged.wav', '11_22_merged.wav', '11_23_merged.wav', '11_24_merged.wav', '11_25_merged.wav', '11_26_merged.wav', '11_27_merged.wav', '11_28_merged.wav', '11_29_merged.wav', '11_30_merged.wav', '11_31_merged.wav', '11_32_merged.wav', '11_33_merged.wav', '11_34_merged.wav', '11_35_merged.wav', '11_36_merged.wav', '11_37_merged.wav', '11_38_merged.wav', '11_39_merged.wav', '11_40_merged.wav', '11_41_merged.wav', '11_42_merged.wav', '11_43_merged.wav', '11_44_merged.wav', '11_45_merged.wav', '12_0_merged.wav', '12_1_merged.wav', '12_2_merged.wav', '12_3_merged.wav', '12_4_merged.wav', '12_5_merged.wav', '12_6_merged.wav', '12_7_merged.wav', '12_8_merged.wav', '12_9_merged.wav', '12_10_merged.wav', '12_11_merged.wav', '12_12_merged.wav', '12_13_merged.wav', '12_14_merged.wav', '12_15_merged.wav', '12_16_merged.wav', '12_17_merged.wav', '12_18_merged.wav', '12_19_merged.wav', '12_20_merged.wav', '12_21_merged.wav', '12_22_merged.wav', '12_23_merged.wav', '12_24_merged.wav', '12_25_merged.wav', '12_26_merged.wav', '12_27_merged.wav', '12_28_merged.wav', '12_29_merged.wav', '12_30_merged.wav', '12_31_merged.wav', '12_32_merged.wav', '12_33_merged.wav', '12_34_merged.wav', '12_35_merged.wav', '12_36_merged.wav', '12_37_merged.wav', '12_38_merged.wav', '12_39_merged.wav', '12_40_merged.wav', '12_41_merged.wav', '12_42_merged.wav', '13_0_merged.wav', '13_1_merged.wav', '13_2_merged.wav', '13_3_merged.wav', '13_4_merged.wav', '13_5_merged.wav', '13_6_merged.wav', '13_7_merged.wav', '13_8_merged.wav', '13_9_merged.wav', '13_10_merged.wav', '13_11_merged.wav', '13_12_merged.wav', '13_13_merged.wav', '13_14_merged.wav', '13_15_merged.wav', '13_16_merged.wav', '13_17_merged.wav', '13_18_merged.wav', '13_19_merged.wav', '13_20_merged.wav', '13_21_merged.wav', '13_22_merged.wav', '13_23_merged.wav', '14_0_merged.wav', '14_1_merged.wav', '14_2_merged.wav', '14_3_merged.wav', '14_4_merged.wav', '14_5_merged.wav', '14_6_merged.wav', '14_7_merged.wav', '14_8_merged.wav', '14_9_merged.wav', '14_10_merged.wav', '14_11_merged.wav', '14_12_merged.wav', '14_13_merged.wav', '14_14_merged.wav', '14_15_merged.wav', '14_16_merged.wav', '14_17_merged.wav', '14_18_merged.wav', '14_19_merged.wav', '14_20_merged.wav', '14_21_merged.wav', '14_22_merged.wav', '14_23_merged.wav', '14_24_merged.wav', '14_25_merged.wav', '14_26_merged.wav', '14_27_merged.wav', '14_28_merged.wav', '14_29_merged.wav', '14_30_merged.wav', '14_31_merged.wav', '14_32_merged.wav', '14_33_merged.wav', '14_34_merged.wav', '14_35_merged.wav', '14_36_merged.wav', '14_37_merged.wav', '14_38_merged.wav', '14_39_merged.wav', '14_40_merged.wav', '14_41_merged.wav', '14_42_merged.wav', '14_43_merged.wav', '14_44_merged.wav', '14_45_merged.wav', '14_46_merged.wav', '14_47_merged.wav', '14_48_merged.wav', '14_49_merged.wav', '14_50_merged.wav', '14_51_merged.wav', '14_52_merged.wav', '14_53_merged.wav', '14_54_merged.wav', '14_55_merged.wav', '14_56_merged.wav', '15_0_merged.wav', '15_1_merged.wav', '15_2_merged.wav', '15_3_merged.wav', '15_4_merged.wav', '15_5_merged.wav', '15_6_merged.wav', '15_7_merged.wav', '15_8_merged.wav', '15_9_merged.wav', '15_10_merged.wav', '15_11_merged.wav', '15_12_merged.wav', '15_13_merged.wav', '15_14_merged.wav', '15_15_merged.wav', '15_16_merged.wav', '15_17_merged.wav', '15_18_merged.wav', '15_19_merged.wav', '15_20_merged.wav', '15_21_merged.wav', '15_22_merged.wav', '15_23_merged.wav', '15_24_merged.wav', '15_25_merged.wav', '15_26_merged.wav', '15_27_merged.wav', '15_28_merged.wav', '15_29_merged.wav', '15_30_merged.wav', '15_31_merged.wav', '15_32_merged.wav', '15_33_merged.wav', '15_34_merged.wav', '15_35_merged.wav', '15_36_merged.wav', '15_37_merged.wav', '15_38_merged.wav', '15_39_merged.wav', '15_40_merged.wav', '16_0_merged.wav', '16_1_merged.wav', '16_2_merged.wav', '16_3_merged.wav', '16_4_merged.wav', '16_5_merged.wav', '16_6_merged.wav', '16_7_merged.wav', '16_8_merged.wav', '16_9_merged.wav', '16_10_merged.wav', '16_11_merged.wav', '16_12_merged.wav', '16_13_merged.wav', '16_14_merged.wav', '16_15_merged.wav', '16_16_merged.wav', '16_17_merged.wav', '16_18_merged.wav', '16_19_merged.wav', '16_20_merged.wav', '17_0_merged.wav', '17_1_merged.wav', '17_2_merged.wav', '17_3_merged.wav', '17_4_merged.wav', '17_5_merged.wav', '17_6_merged.wav', '17_7_merged.wav', '17_8_merged.wav', '17_9_merged.wav', '17_10_merged.wav', '17_11_merged.wav', '17_12_merged.wav', '17_13_merged.wav', '17_14_merged.wav', '17_15_merged.wav', '17_16_merged.wav', '17_17_merged.wav', '17_18_merged.wav', '17_19_merged.wav', '17_20_merged.wav', '17_21_merged.wav', '17_22_merged.wav', '17_23_merged.wav', '17_24_merged.wav', '17_25_merged.wav', '17_26_merged.wav', '17_27_merged.wav', '17_28_merged.wav', '17_29_merged.wav', '17_30_merged.wav', '18_0_merged.wav', '18_1_merged.wav', '18_2_merged.wav', '18_3_merged.wav', '18_4_merged.wav', '18_5_merged.wav', '18_6_merged.wav', '18_7_merged.wav', '18_8_merged.wav', '18_9_merged.wav', '18_10_merged.wav', '18_11_merged.wav', '18_12_merged.wav', '18_13_merged.wav', '18_14_merged.wav', '18_15_merged.wav', '18_16_merged.wav', '18_17_merged.wav', '18_18_merged.wav', '18_19_merged.wav', '18_20_merged.wav', '18_21_merged.wav', '18_22_merged.wav', '18_23_merged.wav', '18_24_merged.wav', '18_25_merged.wav', '18_26_merged.wav', '18_27_merged.wav', '19_0_merged.wav', '19_1_merged.wav', '19_2_merged.wav', '19_3_merged.wav', '19_4_merged.wav', '19_5_merged.wav', '19_6_merged.wav', '19_7_merged.wav', '19_8_merged.wav', '19_9_merged.wav', '19_10_merged.wav', '19_11_merged.wav', '19_12_merged.wav', '19_13_merged.wav', '19_14_merged.wav', '19_15_merged.wav', '19_16_merged.wav', '19_17_merged.wav', '19_18_merged.wav', '19_19_merged.wav', '19_20_merged.wav', '19_21_merged.wav', '19_22_merged.wav', '20_0_merged.wav', '20_1_merged.wav', '20_2_merged.wav', '20_3_merged.wav', '20_4_merged.wav', '20_5_merged.wav', '20_6_merged.wav', '20_7_merged.wav', '20_8_merged.wav', '20_9_merged.wav', '20_10_merged.wav', '20_11_merged.wav', '20_12_merged.wav', '20_13_merged.wav', '20_14_merged.wav', '20_15_merged.wav', '20_16_merged.wav', '20_17_merged.wav', '20_18_merged.wav', '20_19_merged.wav', '20_20_merged.wav', '20_21_merged.wav', '20_22_merged.wav', '21_0_merged.wav', '21_1_merged.wav', '21_2_merged.wav', '21_3_merged.wav', '21_4_merged.wav', '21_5_merged.wav', '21_6_merged.wav', '21_7_merged.wav', '21_8_merged.wav', '21_9_merged.wav', '21_10_merged.wav', '21_11_merged.wav', '21_12_merged.wav', '21_13_merged.wav', '21_14_merged.wav', '21_15_merged.wav', '21_16_merged.wav', '21_17_merged.wav', '21_18_merged.wav', '21_19_merged.wav', '21_20_merged.wav', '21_21_merged.wav', '21_22_merged.wav', '21_23_merged.wav', '21_24_merged.wav', '22_0_merged.wav', '22_1_merged.wav', '22_2_merged.wav', '22_3_merged.wav', '22_4_merged.wav', '22_5_merged.wav', '22_6_merged.wav', '22_7_merged.wav', '22_8_merged.wav', '22_9_merged.wav', '22_10_merged.wav', '22_11_merged.wav', '22_12_merged.wav', '22_13_merged.wav', '22_14_merged.wav', '22_15_merged.wav', '22_16_merged.wav', '22_17_merged.wav', '22_18_merged.wav', '22_19_merged.wav', '22_20_merged.wav', '22_21_merged.wav', '22_22_merged.wav', '22_23_merged.wav', '22_24_merged.wav', '22_25_merged.wav', '22_26_merged.wav', '22_27_merged.wav', '22_28_merged.wav', '22_29_merged.wav', '22_30_merged.wav', '22_31_merged.wav', '22_32_merged.wav', '22_33_merged.wav', '22_34_merged.wav', '22_35_merged.wav', '22_36_merged.wav', '22_37_merged.wav', '22_38_merged.wav', '22_39_merged.wav', '22_40_merged.wav', '22_41_merged.wav', '22_42_merged.wav', '22_43_merged.wav', '22_44_merged.wav', '22_45_merged.wav', '22_46_merged.wav', '22_47_merged.wav', '22_48_merged.wav', '22_49_merged.wav', '22_50_merged.wav', '22_51_merged.wav', '22_52_merged.wav', '23_0_merged.wav', '23_1_merged.wav', '23_2_merged.wav', '23_3_merged.wav', '23_4_merged.wav', '23_5_merged.wav', '23_6_merged.wav', '23_7_merged.wav', '23_8_merged.wav', '23_9_merged.wav', '23_10_merged.wav', '23_11_merged.wav', '23_12_merged.wav', '23_13_merged.wav', '23_14_merged.wav', '23_15_merged.wav', '23_16_merged.wav', '23_17_merged.wav', '23_18_merged.wav', '23_19_merged.wav', '23_20_merged.wav', '23_21_merged.wav', '23_22_merged.wav', '23_23_merged.wav', '23_24_merged.wav', '23_25_merged.wav', '23_26_merged.wav', '23_27_merged.wav', '23_28_merged.wav', '23_29_merged.wav', '23_30_merged.wav', '23_31_merged.wav', '23_32_merged.wav', '23_33_merged.wav', '23_34_merged.wav', '23_35_merged.wav', '23_36_merged.wav', '23_37_merged.wav', '23_38_merged.wav', '23_39_merged.wav', '23_40_merged.wav', '23_41_merged.wav', '23_42_merged.wav', '23_43_merged.wav', '23_44_merged.wav', '23_45_merged.wav', '23_46_merged.wav', '23_47_merged.wav', '23_48_merged.wav', '23_49_merged.wav', '23_50_merged.wav', '23_51_merged.wav', '23_52_merged.wav', '23_53_merged.wav', '23_54_merged.wav', '23_55_merged.wav', '23_56_merged.wav', '23_57_merged.wav', '23_58_merged.wav', '24_0_merged.wav', '24_1_merged.wav', '24_2_merged.wav', '24_3_merged.wav', '24_4_merged.wav', '24_5_merged.wav', '24_6_merged.wav', '24_7_merged.wav', '24_8_merged.wav', '24_9_merged.wav', '24_10_merged.wav', '24_11_merged.wav', '24_12_merged.wav', '24_13_merged.wav', '24_14_merged.wav', '24_15_merged.wav', '24_16_merged.wav', '24_17_merged.wav', '24_18_merged.wav', '24_19_merged.wav', '24_20_merged.wav', '24_21_merged.wav', '24_22_merged.wav', '24_23_merged.wav', '24_24_merged.wav', '24_25_merged.wav', '24_26_merged.wav', '24_27_merged.wav', '24_28_merged.wav', '24_29_merged.wav', '24_30_merged.wav', '24_31_merged.wav', '24_32_merged.wav', '24_33_merged.wav', '24_34_merged.wav', '24_35_merged.wav', '24_36_merged.wav', '24_37_merged.wav', '24_38_merged.wav', '24_39_merged.wav', '24_40_merged.wav', '24_41_merged.wav', '24_42_merged.wav', '24_43_merged.wav', '24_44_merged.wav', '24_45_merged.wav', '24_46_merged.wav', '24_47_merged.wav', '24_48_merged.wav', '24_49_merged.wav', '24_50_merged.wav', '24_51_merged.wav', '24_52_merged.wav', '24_53_merged.wav', '24_54_merged.wav', '24_55_merged.wav', '24_56_merged.wav', '24_57_merged.wav', '24_58_merged.wav', '24_59_merged.wav', '24_60_merged.wav', '24_61_merged.wav', '24_62_merged.wav', '24_63_merged.wav', '24_64_merged.wav', '24_65_merged.wav', '24_66_merged.wav', '24_67_merged.wav', '24_68_merged.wav', '24_69_merged.wav', '24_70_merged.wav', '24_71_merged.wav', '24_72_merged.wav', '24_73_merged.wav', '24_74_merged.wav', '24_75_merged.wav', '24_76_merged.wav', '24_77_merged.wav', '24_78_merged.wav', '24_79_merged.wav', '24_80_merged.wav', '24_81_merged.wav', '24_82_merged.wav', '24_83_merged.wav', '24_84_merged.wav', '24_85_merged.wav', '24_86_merged.wav', '24_87_merged.wav', '24_88_merged.wav', '24_89_merged.wav', '24_90_merged.wav', '24_91_merged.wav', '24_92_merged.wav', '24_93_merged.wav', '24_94_merged.wav', '24_95_merged.wav', '24_96_merged.wav', '24_97_merged.wav', '25_0_merged.wav', '25_1_merged.wav', '25_2_merged.wav', '25_3_merged.wav', '25_4_merged.wav', '25_5_merged.wav', '25_6_merged.wav', '25_7_merged.wav', '25_8_merged.wav', '25_9_merged.wav', '25_10_merged.wav', '25_11_merged.wav', '25_12_merged.wav', '25_13_merged.wav', '25_14_merged.wav', '25_15_merged.wav', '25_16_merged.wav', '25_17_merged.wav', '25_18_merged.wav', '25_19_merged.wav', '25_20_merged.wav', '25_21_merged.wav', '25_22_merged.wav', '25_23_merged.wav', '25_24_merged.wav', '25_25_merged.wav', '25_26_merged.wav', '25_27_merged.wav', '25_28_merged.wav', '25_29_merged.wav', '25_30_merged.wav', '25_31_merged.wav', '25_32_merged.wav', '25_33_merged.wav', '25_34_merged.wav', '25_35_merged.wav', '25_36_merged.wav', '25_37_merged.wav', '25_38_merged.wav', '25_39_merged.wav', '25_40_merged.wav', '25_41_merged.wav', '25_42_merged.wav', '25_43_merged.wav', '25_44_merged.wav', '25_45_merged.wav', '25_46_merged.wav', '25_47_merged.wav', '25_48_merged.wav', '25_49_merged.wav', '25_50_merged.wav', '25_51_merged.wav', '25_52_merged.wav', '25_53_merged.wav', '26_0_merged.wav', '26_1_merged.wav', '26_2_merged.wav', '26_3_merged.wav', '26_4_merged.wav', '26_5_merged.wav', '26_6_merged.wav', '26_7_merged.wav', '26_8_merged.wav', '26_9_merged.wav', '26_10_merged.wav', '26_11_merged.wav', '26_12_merged.wav', '26_13_merged.wav', '26_14_merged.wav', '26_15_merged.wav', '26_16_merged.wav', '26_17_merged.wav', '26_18_merged.wav', '26_19_merged.wav', '26_20_merged.wav', '26_21_merged.wav', '26_22_merged.wav', '26_23_merged.wav', '26_24_merged.wav', '26_25_merged.wav', '27_0_merged.wav', '27_1_merged.wav', '27_2_merged.wav', '27_3_merged.wav', '27_4_merged.wav', '27_5_merged.wav', '27_6_merged.wav', '27_7_merged.wav', '27_8_merged.wav', '27_9_merged.wav', '27_10_merged.wav', '27_11_merged.wav', '27_12_merged.wav', '27_13_merged.wav', '27_14_merged.wav', '27_15_merged.wav', '27_16_merged.wav', '27_17_merged.wav', '27_18_merged.wav', '27_19_merged.wav', '27_20_merged.wav', '27_21_merged.wav', '27_22_merged.wav', '27_23_merged.wav', '27_24_merged.wav', '27_25_merged.wav', '27_26_merged.wav', '27_27_merged.wav', '27_28_merged.wav', '27_29_merged.wav', '27_30_merged.wav', '27_31_merged.wav', '27_32_merged.wav', '27_33_merged.wav', '27_34_merged.wav', '27_35_merged.wav', '27_36_merged.wav', '27_37_merged.wav', '27_38_merged.wav', '27_39_merged.wav', '27_40_merged.wav', '27_41_merged.wav', '27_42_merged.wav', '27_43_merged.wav', '27_44_merged.wav', '27_45_merged.wav', '27_46_merged.wav', '27_47_merged.wav', '27_48_merged.wav', '28_0_merged.wav', '28_1_merged.wav', '28_2_merged.wav', '28_3_merged.wav', '28_4_merged.wav', '28_5_merged.wav', '28_6_merged.wav', '28_7_merged.wav', '28_8_merged.wav', '28_9_merged.wav', '28_10_merged.wav', '28_11_merged.wav', '28_12_merged.wav', '28_13_merged.wav', '28_14_merged.wav', '28_15_merged.wav', '28_16_merged.wav', '28_17_merged.wav', '28_18_merged.wav', '28_19_merged.wav', '28_20_merged.wav', '28_21_merged.wav', '28_22_merged.wav', '28_23_merged.wav', '28_24_merged.wav', '28_25_merged.wav', '29_0_merged.wav', '29_1_merged.wav', '29_2_merged.wav', '29_3_merged.wav', '29_4_merged.wav', '29_5_merged.wav', '29_6_merged.wav', '29_7_merged.wav', '29_8_merged.wav', '29_9_merged.wav', '29_10_merged.wav', '29_11_merged.wav', '29_12_merged.wav', '29_13_merged.wav', '29_14_merged.wav', '29_15_merged.wav', '29_16_merged.wav', '29_17_merged.wav', '29_18_merged.wav', '29_19_merged.wav', '29_20_merged.wav', '29_21_merged.wav', '30_0_merged.wav', '30_1_merged.wav', '30_2_merged.wav', '30_3_merged.wav', '30_4_merged.wav', '30_5_merged.wav', '30_6_merged.wav', '30_7_merged.wav', '30_8_merged.wav', '30_9_merged.wav', '30_10_merged.wav', '30_11_merged.wav', '30_12_merged.wav', '30_13_merged.wav', '30_14_merged.wav', '30_15_merged.wav', '30_16_merged.wav', '30_17_merged.wav', '30_18_merged.wav', '30_19_merged.wav', '30_20_merged.wav', '30_21_merged.wav', '30_22_merged.wav', '30_23_merged.wav', '30_24_merged.wav', '30_25_merged.wav', '31_0_merged.wav', '31_1_merged.wav', '31_2_merged.wav', '31_3_merged.wav', '31_4_merged.wav', '31_5_merged.wav', '31_6_merged.wav', '31_7_merged.wav', '31_8_merged.wav', '31_9_merged.wav', '31_10_merged.wav', '31_11_merged.wav', '31_12_merged.wav', '31_13_merged.wav', '31_14_merged.wav', '31_15_merged.wav', '31_16_merged.wav', '31_17_merged.wav', '31_18_merged.wav', '31_19_merged.wav', '31_20_merged.wav', '31_21_merged.wav', '31_22_merged.wav', '31_23_merged.wav', '31_24_merged.wav', '31_25_merged.wav', '31_26_merged.wav', '31_27_merged.wav', '31_28_merged.wav', '31_29_merged.wav', '32_0_merged.wav', '32_1_merged.wav', '32_2_merged.wav', '32_3_merged.wav', '32_4_merged.wav', '32_5_merged.wav', '32_6_merged.wav', '32_7_merged.wav', '32_8_merged.wav', '32_9_merged.wav', '32_10_merged.wav', '32_11_merged.wav', '32_12_merged.wav', '32_13_merged.wav', '32_14_merged.wav', '32_15_merged.wav', '32_16_merged.wav', '32_17_merged.wav', '32_18_merged.wav', '32_19_merged.wav', '32_20_merged.wav', '33_0_merged.wav', '33_1_merged.wav', '33_2_merged.wav', '33_3_merged.wav', '33_4_merged.wav', '33_5_merged.wav', '33_6_merged.wav', '33_7_merged.wav', '33_8_merged.wav', '33_9_merged.wav', '33_10_merged.wav', '33_11_merged.wav', '33_12_merged.wav', '33_13_merged.wav', '33_14_merged.wav', '33_15_merged.wav', '33_16_merged.wav', '33_17_merged.wav', '33_18_merged.wav', '33_19_merged.wav', '33_20_merged.wav', '33_21_merged.wav', '33_22_merged.wav', '33_23_merged.wav', '33_24_merged.wav', '33_25_merged.wav', '33_26_merged.wav', '33_27_merged.wav', '33_28_merged.wav', '33_29_merged.wav', '33_30_merged.wav', '33_31_merged.wav', '33_32_merged.wav', '33_33_merged.wav', '33_34_merged.wav', '33_35_merged.wav', '33_36_merged.wav', '33_37_merged.wav', '33_38_merged.wav', '33_39_merged.wav', '33_40_merged.wav', '33_41_merged.wav', '33_42_merged.wav', '33_43_merged.wav', '34_0_merged.wav', '34_1_merged.wav', '34_2_merged.wav', '34_3_merged.wav', '34_4_merged.wav', '34_5_merged.wav', '34_6_merged.wav', '34_7_merged.wav', '34_8_merged.wav', '34_9_merged.wav', '34_10_merged.wav', '34_11_merged.wav', '34_12_merged.wav', '34_13_merged.wav', '34_14_merged.wav', '34_15_merged.wav', '34_16_merged.wav', '34_17_merged.wav', '34_18_merged.wav', '34_19_merged.wav', '34_20_merged.wav', '34_21_merged.wav', '34_22_merged.wav', '34_23_merged.wav', '34_24_merged.wav', '34_25_merged.wav', '34_26_merged.wav', '34_27_merged.wav', '34_28_merged.wav', '34_29_merged.wav', '34_30_merged.wav', '34_31_merged.wav', '34_32_merged.wav', '34_33_merged.wav', '34_34_merged.wav', '34_35_merged.wav', '34_36_merged.wav', '34_37_merged.wav', '34_38_merged.wav', '34_39_merged.wav', '34_40_merged.wav', '34_41_merged.wav', '34_42_merged.wav', '34_43_merged.wav', '34_44_merged.wav', '34_45_merged.wav', '34_46_merged.wav', '34_47_merged.wav', '34_48_merged.wav', '34_49_merged.wav', '34_50_merged.wav', '34_51_merged.wav', '34_52_merged.wav', '34_53_merged.wav', '34_54_merged.wav', '34_55_merged.wav', '34_56_merged.wav', '34_57_merged.wav', '34_58_merged.wav', '34_59_merged.wav', '34_60_merged.wav', '34_61_merged.wav', '34_62_merged.wav', '34_63_merged.wav', '35_0_merged.wav', '35_1_merged.wav', '35_2_merged.wav', '35_3_merged.wav', '35_4_merged.wav', '35_5_merged.wav', '35_6_merged.wav', '35_7_merged.wav', '35_8_merged.wav', '35_9_merged.wav', '35_10_merged.wav', '35_11_merged.wav', '35_12_merged.wav', '35_13_merged.wav', '35_14_merged.wav', '35_15_merged.wav', '35_16_merged.wav', '35_17_merged.wav', '35_18_merged.wav', '35_19_merged.wav', '35_20_merged.wav', '35_21_merged.wav', '35_22_merged.wav', '35_23_merged.wav', '35_24_merged.wav', '35_25_merged.wav', '35_26_merged.wav', '35_27_merged.wav', '35_28_merged.wav', '35_29_merged.wav', '35_30_merged.wav', '35_31_merged.wav', '35_32_merged.wav', '35_33_merged.wav', '35_34_merged.wav', '35_35_merged.wav', '35_36_merged.wav', '36_0_merged.wav', '36_1_merged.wav', '36_2_merged.wav', '36_3_merged.wav', '36_4_merged.wav', '36_5_merged.wav', '36_6_merged.wav', '36_7_merged.wav', '36_8_merged.wav', '36_9_merged.wav', '36_10_merged.wav', '36_11_merged.wav', '36_12_merged.wav', '36_13_merged.wav', '36_14_merged.wav', '36_15_merged.wav', '36_16_merged.wav', '36_17_merged.wav', '36_18_merged.wav', '36_19_merged.wav', '36_20_merged.wav', '36_21_merged.wav', '36_22_merged.wav', '36_23_merged.wav', '36_24_merged.wav', '36_25_merged.wav', '36_26_merged.wav', '36_27_merged.wav', '36_28_merged.wav', '36_29_merged.wav', '36_30_merged.wav', '36_31_merged.wav', '36_32_merged.wav', '36_33_merged.wav', '36_34_merged.wav', '36_35_merged.wav', '36_36_merged.wav', '36_37_merged.wav', '36_38_merged.wav', '36_39_merged.wav', '36_40_merged.wav', '36_41_merged.wav', '36_42_merged.wav', '36_43_merged.wav', '36_44_merged.wav', '36_45_merged.wav', '36_46_merged.wav', '37_0_merged.wav', '37_1_merged.wav', '37_2_merged.wav', '37_3_merged.wav', '37_4_merged.wav', '37_5_merged.wav', '37_6_merged.wav', '37_7_merged.wav', '37_8_merged.wav', '37_9_merged.wav', '37_10_merged.wav', '37_11_merged.wav', '37_12_merged.wav', '37_13_merged.wav', '37_14_merged.wav', '37_15_merged.wav', '37_16_merged.wav', '37_17_merged.wav', '37_18_merged.wav', '37_19_merged.wav', '37_20_merged.wav', '37_21_merged.wav', '37_22_merged.wav', '37_23_merged.wav', '37_24_merged.wav', '37_25_merged.wav', '37_26_merged.wav', '37_27_merged.wav', '37_28_merged.wav', '37_29_merged.wav', '37_30_merged.wav', '37_31_merged.wav', '37_32_merged.wav', '37_33_merged.wav', '37_34_merged.wav', '37_35_merged.wav', '37_36_merged.wav', '37_37_merged.wav', '37_38_merged.wav', '37_39_merged.wav', '37_40_merged.wav', '37_41_merged.wav', '37_42_merged.wav', '37_43_merged.wav', '37_44_merged.wav', '37_45_merged.wav', '37_46_merged.wav', '37_47_merged.wav', '37_48_merged.wav', '37_49_merged.wav', '37_50_merged.wav', '37_51_merged.wav', '37_52_merged.wav', '37_53_merged.wav', '38_0_merged.wav', '38_1_merged.wav', '38_2_merged.wav', '38_3_merged.wav', '38_4_merged.wav', '38_5_merged.wav', '38_6_merged.wav', '38_7_merged.wav', '38_8_merged.wav', '38_9_merged.wav', '38_10_merged.wav', '38_11_merged.wav', '38_12_merged.wav', '38_13_merged.wav', '38_14_merged.wav', '38_15_merged.wav', '38_16_merged.wav', '38_17_merged.wav', '38_18_merged.wav', '38_19_merged.wav', '38_20_merged.wav', '38_21_merged.wav', '38_22_merged.wav', '38_23_merged.wav', '39_0_merged.wav', '39_1_merged.wav', '39_2_merged.wav', '39_3_merged.wav', '39_4_merged.wav', '39_5_merged.wav', '39_6_merged.wav', '39_7_merged.wav', '39_8_merged.wav', '39_9_merged.wav', '39_10_merged.wav', '39_11_merged.wav', '39_12_merged.wav', '39_13_merged.wav', '39_14_merged.wav', '39_15_merged.wav', '39_16_merged.wav', '39_17_merged.wav', '39_18_merged.wav', '39_19_merged.wav', '39_20_merged.wav', '39_21_merged.wav', '39_22_merged.wav', '39_23_merged.wav', '39_24_merged.wav', '39_25_merged.wav', '39_26_merged.wav', '39_27_merged.wav', '39_28_merged.wav', '39_29_merged.wav', '39_30_merged.wav', '39_31_merged.wav', '39_32_merged.wav', '39_33_merged.wav', '39_34_merged.wav', '39_35_merged.wav', '39_36_merged.wav', '39_37_merged.wav', '39_38_merged.wav', '39_39_merged.wav', '39_40_merged.wav', '39_41_merged.wav', '39_42_merged.wav', '39_43_merged.wav', '39_44_merged.wav', '39_45_merged.wav', '39_46_merged.wav', '39_47_merged.wav', '39_48_merged.wav', '39_49_merged.wav', '39_50_merged.wav', '39_51_merged.wav', '39_52_merged.wav', '39_53_merged.wav', '39_54_merged.wav', '39_55_merged.wav', '39_56_merged.wav', '39_57_merged.wav', '39_58_merged.wav', '39_59_merged.wav', '39_60_merged.wav', '39_61_merged.wav', '39_62_merged.wav', '40_0_merged.wav', '40_1_merged.wav', '40_2_merged.wav', '40_3_merged.wav', '40_4_merged.wav', '40_5_merged.wav', '40_6_merged.wav', '40_7_merged.wav', '40_8_merged.wav', '40_9_merged.wav', '40_10_merged.wav', '40_11_merged.wav', '40_12_merged.wav', '40_13_merged.wav', '40_14_merged.wav', '40_15_merged.wav', '40_16_merged.wav', '40_17_merged.wav', '40_18_merged.wav', '40_19_merged.wav', '40_20_merged.wav', '40_21_merged.wav', '40_22_merged.wav', '40_23_merged.wav', '40_24_merged.wav', '40_25_merged.wav', '40_26_merged.wav', '40_27_merged.wav', '40_28_merged.wav', '40_29_merged.wav', '40_30_merged.wav', '41_0_merged.wav', '41_1_merged.wav', '41_2_merged.wav', '41_3_merged.wav', '41_4_merged.wav', '41_5_merged.wav', '41_6_merged.wav', '41_7_merged.wav', '41_8_merged.wav', '41_9_merged.wav', '41_10_merged.wav', '41_11_merged.wav', '41_12_merged.wav', '41_13_merged.wav', '41_14_merged.wav', '41_15_merged.wav', '41_16_merged.wav', '41_17_merged.wav', '41_18_merged.wav', '41_19_merged.wav', '41_20_merged.wav', '41_21_merged.wav', '41_22_merged.wav', '41_23_merged.wav', '41_24_merged.wav', '41_25_merged.wav', '41_26_merged.wav', '41_27_merged.wav', '41_28_merged.wav', '41_29_merged.wav', '41_30_merged.wav', '41_31_merged.wav', '41_32_merged.wav', '41_33_merged.wav', '41_34_merged.wav', '41_35_merged.wav', '41_36_merged.wav', '41_37_merged.wav', '41_38_merged.wav', '41_39_merged.wav', '41_40_merged.wav', '41_41_merged.wav', '41_42_merged.wav', '41_43_merged.wav', '42_0_merged.wav', '42_1_merged.wav', '42_2_merged.wav', '42_3_merged.wav', '42_4_merged.wav', '42_5_merged.wav', '42_6_merged.wav', '42_7_merged.wav', '42_8_merged.wav', '42_9_merged.wav', '42_10_merged.wav', '42_11_merged.wav', '42_12_merged.wav', '42_13_merged.wav', '42_14_merged.wav', '42_15_merged.wav', '42_16_merged.wav', '42_17_merged.wav', '42_18_merged.wav', '42_19_merged.wav', '42_20_merged.wav', '42_21_merged.wav', '42_22_merged.wav', '42_23_merged.wav', '42_24_merged.wav', '42_25_merged.wav', '42_26_merged.wav', '42_27_merged.wav', '42_28_merged.wav', '42_29_merged.wav', '42_30_merged.wav', '42_31_merged.wav', '42_32_merged.wav', '42_33_merged.wav', '42_34_merged.wav', '42_35_merged.wav', '42_36_merged.wav', '42_37_merged.wav', '42_38_merged.wav', '43_0_merged.wav', '43_1_merged.wav', '43_2_merged.wav', '43_3_merged.wav', '43_4_merged.wav', '43_5_merged.wav', '43_6_merged.wav', '43_7_merged.wav', '43_8_merged.wav', '43_9_merged.wav', '43_10_merged.wav', '43_11_merged.wav', '43_12_merged.wav', '43_13_merged.wav', '43_14_merged.wav', '43_15_merged.wav', '43_16_merged.wav', '43_17_merged.wav', '43_18_merged.wav', '43_19_merged.wav', '43_20_merged.wav', '43_21_merged.wav', '43_22_merged.wav', '43_23_merged.wav', '43_24_merged.wav', '43_25_merged.wav', '43_26_merged.wav', '43_27_merged.wav', '43_28_merged.wav', '43_29_merged.wav', '43_30_merged.wav', '43_31_merged.wav', '43_32_merged.wav', '43_33_merged.wav', '43_34_merged.wav', '43_35_merged.wav', '43_36_merged.wav', '43_37_merged.wav', '43_38_merged.wav', '44_0_merged.wav', '44_1_merged.wav', '44_2_merged.wav', '44_3_merged.wav', '44_4_merged.wav', '44_5_merged.wav', '44_6_merged.wav', '44_7_merged.wav', '44_8_merged.wav', '44_9_merged.wav', '44_10_merged.wav', '44_11_merged.wav', '44_12_merged.wav', '44_13_merged.wav', '44_14_merged.wav', '44_15_merged.wav', '44_16_merged.wav', '44_17_merged.wav', '44_18_merged.wav', '44_19_merged.wav', '44_20_merged.wav', '44_21_merged.wav', '44_22_merged.wav', '44_23_merged.wav', '44_24_merged.wav', '44_25_merged.wav', '44_26_merged.wav', '44_27_merged.wav', '44_28_merged.wav', '44_29_merged.wav', '44_30_merged.wav', '44_31_merged.wav', '44_32_merged.wav', '44_33_merged.wav', '44_34_merged.wav', '44_35_merged.wav', '44_36_merged.wav', '44_37_merged.wav', '44_38_merged.wav', '45_0_merged.wav', '45_1_merged.wav', '45_2_merged.wav', '45_3_merged.wav', '45_4_merged.wav', '45_5_merged.wav', '45_6_merged.wav', '45_7_merged.wav', '45_8_merged.wav', '45_9_merged.wav', '45_10_merged.wav', '45_11_merged.wav', '45_12_merged.wav', '45_13_merged.wav', '45_14_merged.wav', '45_15_merged.wav', '45_16_merged.wav', '45_17_merged.wav', '45_18_merged.wav', '45_19_merged.wav', '45_20_merged.wav', '45_21_merged.wav', '45_22_merged.wav', '45_23_merged.wav', '45_24_merged.wav', '45_25_merged.wav', '45_26_merged.wav', '45_27_merged.wav', '45_28_merged.wav', '45_29_merged.wav', '45_30_merged.wav', '45_31_merged.wav', '45_32_merged.wav', '45_33_merged.wav', '45_34_merged.wav', '45_35_merged.wav', '45_36_merged.wav', '45_37_merged.wav', '45_38_merged.wav', '45_39_merged.wav', '45_40_merged.wav', '45_41_merged.wav', '45_42_merged.wav', '45_43_merged.wav', '45_44_merged.wav', '45_45_merged.wav', '45_46_merged.wav', '45_47_merged.wav', '45_48_merged.wav', '45_49_merged.wav', '45_50_merged.wav', '45_51_merged.wav', '46_0_merged.wav', '46_1_merged.wav', '46_2_merged.wav', '46_3_merged.wav', '46_4_merged.wav', '46_5_merged.wav', '46_6_merged.wav', '46_7_merged.wav', '46_8_merged.wav', '46_9_merged.wav', '46_10_merged.wav', '46_11_merged.wav', '46_12_merged.wav', '46_13_merged.wav', '46_14_merged.wav', '46_15_merged.wav', '46_16_merged.wav', '46_17_merged.wav', '46_18_merged.wav', '46_19_merged.wav', '46_20_merged.wav', '46_21_merged.wav', '46_22_merged.wav', '46_23_merged.wav', '46_24_merged.wav', '46_25_merged.wav', '46_26_merged.wav', '46_27_merged.wav', '46_28_merged.wav', '46_29_merged.wav', '46_30_merged.wav', '46_31_merged.wav', '46_32_merged.wav', '46_33_merged.wav', '46_34_merged.wav', '46_35_merged.wav', '46_36_merged.wav', '46_37_merged.wav', '46_38_merged.wav', '46_39_merged.wav', '46_40_merged.wav', '46_41_merged.wav', '46_42_merged.wav', '46_43_merged.wav', '46_44_merged.wav', '46_45_merged.wav', '47_0_merged.wav', '47_1_merged.wav', '47_2_merged.wav', '47_3_merged.wav', '47_4_merged.wav', '47_5_merged.wav', '47_6_merged.wav', '47_7_merged.wav', '47_8_merged.wav', '47_9_merged.wav', '47_10_merged.wav', '47_11_merged.wav', '47_12_merged.wav', '47_13_merged.wav', '47_14_merged.wav', '47_15_merged.wav', '47_16_merged.wav', '47_17_merged.wav', '47_18_merged.wav', '47_19_merged.wav', '47_20_merged.wav', '47_21_merged.wav', '47_22_merged.wav', '47_23_merged.wav', '47_24_merged.wav', '47_25_merged.wav', '47_26_merged.wav', '47_27_merged.wav', '47_28_merged.wav', '47_29_merged.wav', '47_30_merged.wav', '47_31_merged.wav', '47_32_merged.wav', '47_33_merged.wav', '47_34_merged.wav', '47_35_merged.wav', '47_36_merged.wav', '47_37_merged.wav', '47_38_merged.wav', '47_39_merged.wav', '47_40_merged.wav', '47_41_merged.wav', '47_42_merged.wav', '47_43_merged.wav']\n",
            "['0_0_merged.wav', '0_1_merged.wav', '0_2_merged.wav', '0_3_merged.wav', '0_4_merged.wav', '0_5_merged.wav', '0_6_merged.wav', '0_7_merged.wav', '0_8_merged.wav', '0_9_merged.wav', '0_10_merged.wav', '0_11_merged.wav', '0_12_merged.wav', '0_13_merged.wav', '0_14_merged.wav', '0_15_merged.wav', '0_16_merged.wav', '0_17_merged.wav', '0_18_merged.wav', '0_19_merged.wav', '0_20_merged.wav', '0_21_merged.wav', '0_22_merged.wav', '0_23_merged.wav', '0_24_merged.wav', '0_25_merged.wav', '0_26_merged.wav', '0_27_merged.wav', '0_28_merged.wav', '0_29_merged.wav', '0_30_merged.wav', '0_31_merged.wav', '0_32_merged.wav', '0_33_merged.wav', '0_34_merged.wav', '0_35_merged.wav', '0_36_merged.wav', '0_37_merged.wav', '0_38_merged.wav', '0_39_merged.wav', '0_40_merged.wav', '0_41_merged.wav', '0_42_merged.wav', '0_43_merged.wav', '0_44_merged.wav', '0_45_merged.wav', '0_46_merged.wav', '0_47_merged.wav', '0_48_merged.wav', '0_49_merged.wav', '0_50_merged.wav', '0_51_merged.wav', '0_52_merged.wav', '0_53_merged.wav', '1_0_merged.wav', '1_1_merged.wav', '1_2_merged.wav', '1_3_merged.wav', '1_4_merged.wav', '1_5_merged.wav', '1_6_merged.wav', '1_7_merged.wav', '1_8_merged.wav', '1_9_merged.wav', '1_10_merged.wav', '1_11_merged.wav', '1_12_merged.wav', '1_13_merged.wav', '1_14_merged.wav', '1_15_merged.wav', '1_16_merged.wav', '1_17_merged.wav', '1_18_merged.wav', '1_19_merged.wav', '1_20_merged.wav', '1_21_merged.wav', '1_22_merged.wav', '1_23_merged.wav', '1_24_merged.wav', '1_25_merged.wav', '1_26_merged.wav', '1_27_merged.wav', '1_28_merged.wav', '1_29_merged.wav', '1_30_merged.wav', '1_31_merged.wav', '1_32_merged.wav', '1_33_merged.wav', '1_34_merged.wav', '1_35_merged.wav', '1_36_merged.wav', '1_37_merged.wav', '1_38_merged.wav', '1_39_merged.wav', '1_40_merged.wav', '1_41_merged.wav', '1_42_merged.wav', '1_43_merged.wav', '1_44_merged.wav', '1_45_merged.wav', '1_46_merged.wav', '1_47_merged.wav', '1_48_merged.wav', '2_0_merged.wav', '2_1_merged.wav', '2_2_merged.wav', '2_3_merged.wav', '2_4_merged.wav', '2_5_merged.wav', '2_6_merged.wav', '2_7_merged.wav', '2_8_merged.wav', '2_9_merged.wav', '2_10_merged.wav', '2_11_merged.wav', '2_12_merged.wav', '2_13_merged.wav', '2_14_merged.wav', '2_15_merged.wav', '2_16_merged.wav', '2_17_merged.wav', '2_18_merged.wav', '2_19_merged.wav', '2_20_merged.wav', '2_21_merged.wav', '2_22_merged.wav', '2_23_merged.wav', '2_24_merged.wav', '2_25_merged.wav', '2_26_merged.wav', '2_27_merged.wav', '2_28_merged.wav', '2_29_merged.wav', '2_30_merged.wav', '2_31_merged.wav', '2_32_merged.wav', '2_33_merged.wav', '2_34_merged.wav', '2_35_merged.wav', '2_36_merged.wav', '2_37_merged.wav', '2_38_merged.wav', '2_39_merged.wav', '2_40_merged.wav', '2_41_merged.wav', '2_42_merged.wav', '2_43_merged.wav', '2_44_merged.wav', '3_0_merged.wav', '3_1_merged.wav', '3_2_merged.wav', '3_3_merged.wav', '3_4_merged.wav', '3_5_merged.wav', '3_6_merged.wav', '3_7_merged.wav', '3_8_merged.wav', '3_9_merged.wav', '3_10_merged.wav', '3_11_merged.wav', '3_12_merged.wav', '3_13_merged.wav', '3_14_merged.wav', '3_15_merged.wav', '3_16_merged.wav', '3_17_merged.wav', '3_18_merged.wav', '3_19_merged.wav', '3_20_merged.wav', '3_21_merged.wav', '3_22_merged.wav', '3_23_merged.wav', '3_24_merged.wav', '3_25_merged.wav', '3_26_merged.wav', '3_27_merged.wav', '3_28_merged.wav', '3_29_merged.wav', '3_30_merged.wav', '3_31_merged.wav', '3_32_merged.wav', '3_33_merged.wav', '3_34_merged.wav', '3_35_merged.wav', '3_36_merged.wav', '3_37_merged.wav', '3_38_merged.wav', '3_39_merged.wav', '3_40_merged.wav', '3_41_merged.wav', '3_42_merged.wav', '3_43_merged.wav', '3_44_merged.wav', '3_45_merged.wav', '3_46_merged.wav', '3_47_merged.wav', '3_48_merged.wav', '3_49_merged.wav', '3_50_merged.wav', '3_51_merged.wav', '3_52_merged.wav', '3_53_merged.wav', '3_54_merged.wav', '3_55_merged.wav', '3_56_merged.wav', '3_57_merged.wav', '3_58_merged.wav', '3_59_merged.wav', '3_60_merged.wav', '3_61_merged.wav', '3_62_merged.wav', '3_63_merged.wav', '3_64_merged.wav', '3_65_merged.wav', '3_66_merged.wav', '3_67_merged.wav', '3_68_merged.wav', '3_69_merged.wav', '3_70_merged.wav', '3_71_merged.wav', '3_72_merged.wav', '3_73_merged.wav', '3_74_merged.wav', '3_75_merged.wav', '3_76_merged.wav', '3_77_merged.wav', '3_78_merged.wav', '3_79_merged.wav', '3_80_merged.wav', '3_81_merged.wav', '3_82_merged.wav', '3_83_merged.wav', '3_84_merged.wav', '3_85_merged.wav', '3_86_merged.wav', '3_87_merged.wav', '3_88_merged.wav', '3_89_merged.wav', '3_90_merged.wav', '3_91_merged.wav', '4_0_merged.wav', '4_1_merged.wav', '4_2_merged.wav', '4_3_merged.wav', '4_4_merged.wav', '4_5_merged.wav', '4_6_merged.wav', '4_7_merged.wav', '4_8_merged.wav', '4_9_merged.wav', '4_10_merged.wav', '4_11_merged.wav', '4_12_merged.wav', '4_13_merged.wav', '4_14_merged.wav', '4_15_merged.wav', '4_16_merged.wav', '4_17_merged.wav', '4_18_merged.wav', '4_19_merged.wav', '4_20_merged.wav', '4_21_merged.wav', '4_22_merged.wav', '4_23_merged.wav', '4_24_merged.wav', '4_25_merged.wav', '4_26_merged.wav', '4_27_merged.wav', '4_28_merged.wav', '4_29_merged.wav', '4_30_merged.wav', '4_31_merged.wav', '4_32_merged.wav', '4_33_merged.wav', '4_34_merged.wav', '4_35_merged.wav', '4_36_merged.wav', '4_37_merged.wav', '4_38_merged.wav', '4_39_merged.wav', '4_40_merged.wav', '4_41_merged.wav', '4_42_merged.wav', '4_43_merged.wav', '4_44_merged.wav', '4_45_merged.wav', '4_46_merged.wav', '4_47_merged.wav', '5_0_merged.wav', '5_1_merged.wav', '5_2_merged.wav', '5_3_merged.wav', '5_4_merged.wav', '5_5_merged.wav', '5_6_merged.wav', '5_7_merged.wav', '5_8_merged.wav', '5_9_merged.wav', '5_10_merged.wav', '5_11_merged.wav', '5_12_merged.wav', '5_13_merged.wav', '5_14_merged.wav', '5_15_merged.wav', '5_16_merged.wav', '5_17_merged.wav', '5_18_merged.wav', '5_19_merged.wav', '5_20_merged.wav', '5_21_merged.wav', '5_22_merged.wav', '5_23_merged.wav', '5_24_merged.wav', '5_25_merged.wav', '5_26_merged.wav', '5_27_merged.wav', '5_28_merged.wav', '5_29_merged.wav', '5_30_merged.wav', '5_31_merged.wav', '5_32_merged.wav', '5_33_merged.wav', '5_34_merged.wav', '5_35_merged.wav', '5_36_merged.wav', '5_37_merged.wav', '5_38_merged.wav', '5_39_merged.wav', '5_40_merged.wav', '5_41_merged.wav', '5_42_merged.wav', '5_43_merged.wav', '5_44_merged.wav', '5_45_merged.wav', '5_46_merged.wav', '5_47_merged.wav', '5_48_merged.wav', '5_49_merged.wav', '5_50_merged.wav', '5_51_merged.wav', '5_52_merged.wav', '5_53_merged.wav', '5_54_merged.wav', '5_55_merged.wav', '5_56_merged.wav', '5_57_merged.wav', '6_0_merged.wav', '6_1_merged.wav', '6_2_merged.wav', '6_3_merged.wav', '6_4_merged.wav', '6_5_merged.wav', '6_6_merged.wav', '6_7_merged.wav', '6_8_merged.wav', '6_9_merged.wav', '6_10_merged.wav', '6_11_merged.wav', '6_12_merged.wav', '6_13_merged.wav', '6_14_merged.wav', '6_15_merged.wav', '6_16_merged.wav', '6_17_merged.wav', '6_18_merged.wav', '6_19_merged.wav', '6_20_merged.wav', '6_21_merged.wav', '6_22_merged.wav', '6_23_merged.wav', '6_24_merged.wav', '6_25_merged.wav', '6_26_merged.wav', '6_27_merged.wav', '6_28_merged.wav', '6_29_merged.wav', '6_30_merged.wav', '6_31_merged.wav', '6_32_merged.wav', '6_33_merged.wav', '6_34_merged.wav', '6_35_merged.wav', '6_36_merged.wav', '6_37_merged.wav', '6_38_merged.wav', '6_39_merged.wav', '6_40_merged.wav', '6_41_merged.wav', '6_42_merged.wav', '6_43_merged.wav', '6_44_merged.wav', '6_45_merged.wav', '6_46_merged.wav', '6_47_merged.wav', '6_48_merged.wav', '6_49_merged.wav', '6_50_merged.wav', '6_51_merged.wav', '6_52_merged.wav', '6_53_merged.wav', '6_54_merged.wav', '6_55_merged.wav', '6_56_merged.wav', '6_57_merged.wav', '6_58_merged.wav', '6_59_merged.wav', '6_60_merged.wav', '6_61_merged.wav', '6_62_merged.wav', '6_63_merged.wav', '6_64_merged.wav', '6_65_merged.wav', '6_66_merged.wav', '6_67_merged.wav', '6_68_merged.wav', '6_69_merged.wav', '6_70_merged.wav', '6_71_merged.wav', '6_72_merged.wav', '6_73_merged.wav', '6_74_merged.wav', '6_75_merged.wav', '6_76_merged.wav', '6_77_merged.wav', '6_78_merged.wav', '6_79_merged.wav', '6_80_merged.wav', '6_81_merged.wav', '6_82_merged.wav', '6_83_merged.wav', '6_84_merged.wav', '6_85_merged.wav', '6_86_merged.wav', '6_87_merged.wav', '6_88_merged.wav', '6_89_merged.wav', '6_90_merged.wav', '6_91_merged.wav', '6_92_merged.wav', '6_93_merged.wav', '6_94_merged.wav', '6_95_merged.wav', '6_96_merged.wav', '6_97_merged.wav', '7_0_merged.wav', '7_1_merged.wav', '7_2_merged.wav', '7_3_merged.wav', '7_4_merged.wav', '7_5_merged.wav', '7_6_merged.wav', '7_7_merged.wav', '7_8_merged.wav', '7_9_merged.wav', '7_10_merged.wav', '7_11_merged.wav', '7_12_merged.wav', '7_13_merged.wav', '7_14_merged.wav', '7_15_merged.wav', '7_16_merged.wav', '7_17_merged.wav', '7_18_merged.wav', '7_19_merged.wav', '7_20_merged.wav', '7_21_merged.wav', '7_22_merged.wav', '7_23_merged.wav', '7_24_merged.wav', '7_25_merged.wav', '7_26_merged.wav', '7_27_merged.wav', '7_28_merged.wav', '7_29_merged.wav', '7_30_merged.wav', '7_31_merged.wav', '7_32_merged.wav', '7_33_merged.wav', '7_34_merged.wav', '7_35_merged.wav', '7_36_merged.wav', '7_37_merged.wav', '7_38_merged.wav', '8_0_merged.wav', '8_1_merged.wav', '8_2_merged.wav', '8_3_merged.wav', '8_4_merged.wav', '8_5_merged.wav', '8_6_merged.wav', '8_7_merged.wav', '8_8_merged.wav', '8_9_merged.wav', '8_10_merged.wav', '8_11_merged.wav', '8_12_merged.wav', '8_13_merged.wav', '8_14_merged.wav', '8_15_merged.wav', '8_16_merged.wav', '8_17_merged.wav', '8_18_merged.wav', '8_19_merged.wav', '8_20_merged.wav', '8_21_merged.wav', '9_0_merged.wav', '9_1_merged.wav', '9_2_merged.wav', '9_3_merged.wav', '9_4_merged.wav', '9_5_merged.wav', '9_6_merged.wav', '9_7_merged.wav', '9_8_merged.wav', '9_9_merged.wav', '9_10_merged.wav', '9_11_merged.wav', '9_12_merged.wav', '9_13_merged.wav', '9_14_merged.wav', '9_15_merged.wav', '9_16_merged.wav', '9_17_merged.wav', '9_18_merged.wav', '9_19_merged.wav', '9_20_merged.wav', '9_21_merged.wav', '9_22_merged.wav', '9_23_merged.wav', '9_24_merged.wav', '10_0_merged.wav', '10_1_merged.wav', '10_2_merged.wav', '10_3_merged.wav', '10_4_merged.wav', '10_5_merged.wav', '10_6_merged.wav', '10_7_merged.wav', '10_8_merged.wav', '10_9_merged.wav', '10_10_merged.wav', '10_11_merged.wav', '10_12_merged.wav', '10_13_merged.wav', '10_14_merged.wav', '10_15_merged.wav', '10_16_merged.wav', '10_17_merged.wav', '10_18_merged.wav', '10_19_merged.wav', '10_20_merged.wav', '10_21_merged.wav', '10_22_merged.wav', '10_23_merged.wav', '10_24_merged.wav', '10_25_merged.wav', '10_26_merged.wav', '10_27_merged.wav', '10_28_merged.wav', '10_29_merged.wav', '10_30_merged.wav', '10_31_merged.wav', '10_32_merged.wav', '10_33_merged.wav', '10_34_merged.wav', '10_35_merged.wav', '10_36_merged.wav', '10_37_merged.wav', '10_38_merged.wav', '10_39_merged.wav', '10_40_merged.wav', '10_41_merged.wav', '10_42_merged.wav', '10_43_merged.wav', '11_0_merged.wav', '11_1_merged.wav', '11_2_merged.wav', '11_3_merged.wav', '11_4_merged.wav', '11_5_merged.wav', '11_6_merged.wav', '11_7_merged.wav', '11_8_merged.wav', '11_9_merged.wav', '11_10_merged.wav', '11_11_merged.wav', '11_12_merged.wav', '11_13_merged.wav', '11_14_merged.wav', '11_15_merged.wav', '11_16_merged.wav', '11_17_merged.wav', '11_18_merged.wav', '11_19_merged.wav', '11_20_merged.wav', '11_21_merged.wav', '11_22_merged.wav', '11_23_merged.wav', '11_24_merged.wav', '11_25_merged.wav', '11_26_merged.wav', '11_27_merged.wav', '11_28_merged.wav', '11_29_merged.wav', '11_30_merged.wav', '11_31_merged.wav', '11_32_merged.wav', '11_33_merged.wav', '11_34_merged.wav', '11_35_merged.wav', '11_36_merged.wav', '11_37_merged.wav', '11_38_merged.wav', '11_39_merged.wav', '11_40_merged.wav', '11_41_merged.wav', '11_42_merged.wav', '11_43_merged.wav', '11_44_merged.wav', '11_45_merged.wav', '12_0_merged.wav', '12_1_merged.wav', '12_2_merged.wav', '12_3_merged.wav', '12_4_merged.wav', '12_5_merged.wav', '12_6_merged.wav', '12_7_merged.wav', '12_8_merged.wav', '12_9_merged.wav', '12_10_merged.wav', '12_11_merged.wav', '12_12_merged.wav', '12_13_merged.wav', '12_14_merged.wav', '12_15_merged.wav', '12_16_merged.wav', '12_17_merged.wav', '12_18_merged.wav', '12_19_merged.wav', '12_20_merged.wav', '12_21_merged.wav', '12_22_merged.wav', '12_23_merged.wav', '12_24_merged.wav', '12_25_merged.wav', '12_26_merged.wav', '12_27_merged.wav', '12_28_merged.wav', '12_29_merged.wav', '12_30_merged.wav', '12_31_merged.wav', '12_32_merged.wav', '12_33_merged.wav', '12_34_merged.wav', '12_35_merged.wav', '12_36_merged.wav', '12_37_merged.wav', '12_38_merged.wav', '12_39_merged.wav', '12_40_merged.wav', '12_41_merged.wav', '12_42_merged.wav', '13_0_merged.wav', '13_1_merged.wav', '13_2_merged.wav', '13_3_merged.wav', '13_4_merged.wav', '13_5_merged.wav', '13_6_merged.wav', '13_7_merged.wav', '13_8_merged.wav', '13_9_merged.wav', '13_10_merged.wav', '13_11_merged.wav', '13_12_merged.wav', '13_13_merged.wav', '13_14_merged.wav', '13_15_merged.wav', '13_16_merged.wav', '13_17_merged.wav', '13_18_merged.wav', '13_19_merged.wav', '13_20_merged.wav', '13_21_merged.wav', '13_22_merged.wav', '13_23_merged.wav', '14_0_merged.wav', '14_1_merged.wav', '14_2_merged.wav', '14_3_merged.wav', '14_4_merged.wav', '14_5_merged.wav', '14_6_merged.wav', '14_7_merged.wav', '14_8_merged.wav', '14_9_merged.wav', '14_10_merged.wav', '14_11_merged.wav', '14_12_merged.wav', '14_13_merged.wav', '14_14_merged.wav', '14_15_merged.wav', '14_16_merged.wav', '14_17_merged.wav', '14_18_merged.wav', '14_19_merged.wav', '14_20_merged.wav', '14_21_merged.wav', '14_22_merged.wav', '14_23_merged.wav', '14_24_merged.wav', '14_25_merged.wav', '14_26_merged.wav', '14_27_merged.wav', '14_28_merged.wav', '14_29_merged.wav', '14_30_merged.wav', '14_31_merged.wav', '14_32_merged.wav', '14_33_merged.wav', '14_34_merged.wav', '14_35_merged.wav', '14_36_merged.wav', '14_37_merged.wav', '14_38_merged.wav', '14_39_merged.wav', '14_40_merged.wav', '14_41_merged.wav', '14_42_merged.wav', '14_43_merged.wav', '14_44_merged.wav', '14_45_merged.wav', '14_46_merged.wav', '14_47_merged.wav', '14_48_merged.wav', '14_49_merged.wav', '14_50_merged.wav', '14_51_merged.wav', '14_52_merged.wav', '14_53_merged.wav', '14_54_merged.wav', '14_55_merged.wav', '14_56_merged.wav', '15_0_merged.wav', '15_1_merged.wav', '15_2_merged.wav', '15_3_merged.wav', '15_4_merged.wav', '15_5_merged.wav', '15_6_merged.wav', '15_7_merged.wav', '15_8_merged.wav', '15_9_merged.wav', '15_10_merged.wav', '15_11_merged.wav', '15_12_merged.wav', '15_13_merged.wav', '15_14_merged.wav', '15_15_merged.wav', '15_16_merged.wav', '15_17_merged.wav', '15_18_merged.wav', '15_19_merged.wav', '15_20_merged.wav', '15_21_merged.wav', '15_22_merged.wav', '15_23_merged.wav', '15_24_merged.wav', '15_25_merged.wav', '15_26_merged.wav', '15_27_merged.wav', '15_28_merged.wav', '15_29_merged.wav', '15_30_merged.wav', '15_31_merged.wav', '15_32_merged.wav', '15_33_merged.wav', '15_34_merged.wav', '15_35_merged.wav', '15_36_merged.wav', '15_37_merged.wav', '15_38_merged.wav', '15_39_merged.wav', '15_40_merged.wav', '16_0_merged.wav', '16_1_merged.wav', '16_2_merged.wav', '16_3_merged.wav', '16_4_merged.wav', '16_5_merged.wav', '16_6_merged.wav', '16_7_merged.wav', '16_8_merged.wav', '16_9_merged.wav', '16_10_merged.wav', '16_11_merged.wav', '16_12_merged.wav', '16_13_merged.wav', '16_14_merged.wav', '16_15_merged.wav', '16_16_merged.wav', '16_17_merged.wav', '16_18_merged.wav', '16_19_merged.wav', '16_20_merged.wav', '17_0_merged.wav', '17_1_merged.wav', '17_2_merged.wav', '17_3_merged.wav', '17_4_merged.wav', '17_5_merged.wav', '17_6_merged.wav', '17_7_merged.wav', '17_8_merged.wav', '17_9_merged.wav', '17_10_merged.wav', '17_11_merged.wav', '17_12_merged.wav', '17_13_merged.wav', '17_14_merged.wav', '17_15_merged.wav', '17_16_merged.wav', '17_17_merged.wav', '17_18_merged.wav', '17_19_merged.wav', '17_20_merged.wav', '17_21_merged.wav', '17_22_merged.wav', '17_23_merged.wav', '17_24_merged.wav', '17_25_merged.wav', '17_26_merged.wav', '17_27_merged.wav', '17_28_merged.wav', '17_29_merged.wav', '17_30_merged.wav', '18_0_merged.wav', '18_1_merged.wav', '18_2_merged.wav', '18_3_merged.wav', '18_4_merged.wav', '18_5_merged.wav', '18_6_merged.wav', '18_7_merged.wav', '18_8_merged.wav', '18_9_merged.wav', '18_10_merged.wav', '18_11_merged.wav', '18_12_merged.wav', '18_13_merged.wav', '18_14_merged.wav', '18_15_merged.wav', '18_16_merged.wav', '18_17_merged.wav', '18_18_merged.wav', '18_19_merged.wav', '18_20_merged.wav', '18_21_merged.wav', '18_22_merged.wav', '18_23_merged.wav', '18_24_merged.wav', '18_25_merged.wav', '18_26_merged.wav', '18_27_merged.wav', '19_0_merged.wav', '19_1_merged.wav', '19_2_merged.wav', '19_3_merged.wav', '19_4_merged.wav', '19_5_merged.wav', '19_6_merged.wav', '19_7_merged.wav', '19_8_merged.wav', '19_9_merged.wav', '19_10_merged.wav', '19_11_merged.wav', '19_12_merged.wav', '19_13_merged.wav', '19_14_merged.wav', '19_15_merged.wav', '19_16_merged.wav', '19_17_merged.wav', '19_18_merged.wav', '19_19_merged.wav', '19_20_merged.wav', '19_21_merged.wav', '19_22_merged.wav', '20_0_merged.wav', '20_1_merged.wav', '20_2_merged.wav', '20_3_merged.wav', '20_4_merged.wav', '20_5_merged.wav', '20_6_merged.wav', '20_7_merged.wav', '20_8_merged.wav', '20_9_merged.wav', '20_10_merged.wav', '20_11_merged.wav', '20_12_merged.wav', '20_13_merged.wav', '20_14_merged.wav', '20_15_merged.wav', '20_16_merged.wav', '20_17_merged.wav', '20_18_merged.wav', '20_19_merged.wav', '20_20_merged.wav', '20_21_merged.wav', '20_22_merged.wav', '21_0_merged.wav', '21_1_merged.wav', '21_2_merged.wav', '21_3_merged.wav', '21_4_merged.wav', '21_5_merged.wav', '21_6_merged.wav', '21_7_merged.wav', '21_8_merged.wav', '21_9_merged.wav', '21_10_merged.wav', '21_11_merged.wav', '21_12_merged.wav', '21_13_merged.wav', '21_14_merged.wav', '21_15_merged.wav', '21_16_merged.wav', '21_17_merged.wav', '21_18_merged.wav', '21_19_merged.wav', '21_20_merged.wav', '21_21_merged.wav', '21_22_merged.wav', '21_23_merged.wav', '21_24_merged.wav', '22_0_merged.wav', '22_1_merged.wav', '22_2_merged.wav', '22_3_merged.wav', '22_4_merged.wav', '22_5_merged.wav', '22_6_merged.wav', '22_7_merged.wav', '22_8_merged.wav', '22_9_merged.wav', '22_10_merged.wav', '22_11_merged.wav', '22_12_merged.wav', '22_13_merged.wav', '22_14_merged.wav', '22_15_merged.wav', '22_16_merged.wav', '22_17_merged.wav', '22_18_merged.wav', '22_19_merged.wav', '22_20_merged.wav', '22_21_merged.wav', '22_22_merged.wav', '22_23_merged.wav', '22_24_merged.wav', '22_25_merged.wav', '22_26_merged.wav', '22_27_merged.wav', '22_28_merged.wav', '22_29_merged.wav', '22_30_merged.wav', '22_31_merged.wav', '22_32_merged.wav', '22_33_merged.wav', '22_34_merged.wav', '22_35_merged.wav', '22_36_merged.wav', '22_37_merged.wav', '22_38_merged.wav', '22_39_merged.wav', '22_40_merged.wav', '22_41_merged.wav', '22_42_merged.wav', '22_43_merged.wav', '22_44_merged.wav', '22_45_merged.wav', '22_46_merged.wav', '22_47_merged.wav', '22_48_merged.wav', '22_49_merged.wav', '22_50_merged.wav', '22_51_merged.wav', '22_52_merged.wav', '23_0_merged.wav', '23_1_merged.wav', '23_2_merged.wav', '23_3_merged.wav', '23_4_merged.wav', '23_5_merged.wav', '23_6_merged.wav', '23_7_merged.wav', '23_8_merged.wav', '23_9_merged.wav', '23_10_merged.wav', '23_11_merged.wav', '23_12_merged.wav', '23_13_merged.wav', '23_14_merged.wav', '23_15_merged.wav', '23_16_merged.wav', '23_17_merged.wav', '23_18_merged.wav', '23_19_merged.wav', '23_20_merged.wav', '23_21_merged.wav', '23_22_merged.wav', '23_23_merged.wav', '23_24_merged.wav', '23_25_merged.wav', '23_26_merged.wav', '23_27_merged.wav', '23_28_merged.wav', '23_29_merged.wav', '23_30_merged.wav', '23_31_merged.wav', '23_32_merged.wav', '23_33_merged.wav', '23_34_merged.wav', '23_35_merged.wav', '23_36_merged.wav', '23_37_merged.wav', '23_38_merged.wav', '23_39_merged.wav', '23_40_merged.wav', '23_41_merged.wav', '23_42_merged.wav', '23_43_merged.wav', '23_44_merged.wav', '23_45_merged.wav', '23_46_merged.wav', '23_47_merged.wav', '23_48_merged.wav', '23_49_merged.wav', '23_50_merged.wav', '23_51_merged.wav', '23_52_merged.wav', '23_53_merged.wav', '23_54_merged.wav', '23_55_merged.wav', '23_56_merged.wav', '23_57_merged.wav', '23_58_merged.wav', '24_0_merged.wav', '24_1_merged.wav', '24_2_merged.wav', '24_3_merged.wav', '24_4_merged.wav', '24_5_merged.wav', '24_6_merged.wav', '24_7_merged.wav', '24_8_merged.wav', '24_9_merged.wav', '24_10_merged.wav', '24_11_merged.wav', '24_12_merged.wav', '24_13_merged.wav', '24_14_merged.wav', '24_15_merged.wav', '24_16_merged.wav', '24_17_merged.wav', '24_18_merged.wav', '24_19_merged.wav', '24_20_merged.wav', '24_21_merged.wav', '24_22_merged.wav', '24_23_merged.wav', '24_24_merged.wav', '24_25_merged.wav', '24_26_merged.wav', '24_27_merged.wav', '24_28_merged.wav', '24_29_merged.wav', '24_30_merged.wav', '24_31_merged.wav', '24_32_merged.wav', '24_33_merged.wav', '24_34_merged.wav', '24_35_merged.wav', '24_36_merged.wav', '24_37_merged.wav', '24_38_merged.wav', '24_39_merged.wav', '24_40_merged.wav', '24_41_merged.wav', '24_42_merged.wav', '24_43_merged.wav', '24_44_merged.wav', '24_45_merged.wav', '24_46_merged.wav', '24_47_merged.wav', '24_48_merged.wav', '24_49_merged.wav', '24_50_merged.wav', '24_51_merged.wav', '24_52_merged.wav', '24_53_merged.wav', '24_54_merged.wav', '24_55_merged.wav', '24_56_merged.wav', '24_57_merged.wav', '24_58_merged.wav', '24_59_merged.wav', '24_60_merged.wav', '24_61_merged.wav', '24_62_merged.wav', '24_63_merged.wav', '24_64_merged.wav', '24_65_merged.wav', '24_66_merged.wav', '24_67_merged.wav', '24_68_merged.wav', '24_69_merged.wav', '24_70_merged.wav', '24_71_merged.wav', '24_72_merged.wav', '24_73_merged.wav', '24_74_merged.wav', '24_75_merged.wav', '24_76_merged.wav', '24_77_merged.wav', '24_78_merged.wav', '24_79_merged.wav', '24_80_merged.wav', '24_81_merged.wav', '24_82_merged.wav', '24_83_merged.wav', '24_84_merged.wav', '24_85_merged.wav', '24_86_merged.wav', '24_87_merged.wav', '24_88_merged.wav', '24_89_merged.wav', '24_90_merged.wav', '24_91_merged.wav', '24_92_merged.wav', '24_93_merged.wav', '24_94_merged.wav', '24_95_merged.wav', '24_96_merged.wav', '24_97_merged.wav', '25_0_merged.wav', '25_1_merged.wav', '25_2_merged.wav', '25_3_merged.wav', '25_4_merged.wav', '25_5_merged.wav', '25_6_merged.wav', '25_7_merged.wav', '25_8_merged.wav', '25_9_merged.wav', '25_10_merged.wav', '25_11_merged.wav', '25_12_merged.wav', '25_13_merged.wav', '25_14_merged.wav', '25_15_merged.wav', '25_16_merged.wav', '25_17_merged.wav', '25_18_merged.wav', '25_19_merged.wav', '25_20_merged.wav', '25_21_merged.wav', '25_22_merged.wav', '25_23_merged.wav', '25_24_merged.wav', '25_25_merged.wav', '25_26_merged.wav', '25_27_merged.wav', '25_28_merged.wav', '25_29_merged.wav', '25_30_merged.wav', '25_31_merged.wav', '25_32_merged.wav', '25_33_merged.wav', '25_34_merged.wav', '25_35_merged.wav', '25_36_merged.wav', '25_37_merged.wav', '25_38_merged.wav', '25_39_merged.wav', '25_40_merged.wav', '25_41_merged.wav', '25_42_merged.wav', '25_43_merged.wav', '25_44_merged.wav', '25_45_merged.wav', '25_46_merged.wav', '25_47_merged.wav', '25_48_merged.wav', '25_49_merged.wav', '25_50_merged.wav', '25_51_merged.wav', '25_52_merged.wav', '25_53_merged.wav', '26_0_merged.wav', '26_1_merged.wav', '26_2_merged.wav', '26_3_merged.wav', '26_4_merged.wav', '26_5_merged.wav', '26_6_merged.wav', '26_7_merged.wav', '26_8_merged.wav', '26_9_merged.wav', '26_10_merged.wav', '26_11_merged.wav', '26_12_merged.wav', '26_13_merged.wav', '26_14_merged.wav', '26_15_merged.wav', '26_16_merged.wav', '26_17_merged.wav', '26_18_merged.wav', '26_19_merged.wav', '26_20_merged.wav', '26_21_merged.wav', '26_22_merged.wav', '26_23_merged.wav', '26_24_merged.wav', '26_25_merged.wav', '27_0_merged.wav', '27_1_merged.wav', '27_2_merged.wav', '27_3_merged.wav', '27_4_merged.wav', '27_5_merged.wav', '27_6_merged.wav', '27_7_merged.wav', '27_8_merged.wav', '27_9_merged.wav', '27_10_merged.wav', '27_11_merged.wav', '27_12_merged.wav', '27_13_merged.wav', '27_14_merged.wav', '27_15_merged.wav', '27_16_merged.wav', '27_17_merged.wav', '27_18_merged.wav', '27_19_merged.wav', '27_20_merged.wav', '27_21_merged.wav', '27_22_merged.wav', '27_23_merged.wav', '27_24_merged.wav', '27_25_merged.wav', '27_26_merged.wav', '27_27_merged.wav', '27_28_merged.wav', '27_29_merged.wav', '27_30_merged.wav', '27_31_merged.wav', '27_32_merged.wav', '27_33_merged.wav', '27_34_merged.wav', '27_35_merged.wav', '27_36_merged.wav', '27_37_merged.wav', '27_38_merged.wav', '27_39_merged.wav', '27_40_merged.wav', '27_41_merged.wav', '27_42_merged.wav', '27_43_merged.wav', '27_44_merged.wav', '27_45_merged.wav', '27_46_merged.wav', '27_47_merged.wav', '27_48_merged.wav', '28_0_merged.wav', '28_1_merged.wav', '28_2_merged.wav', '28_3_merged.wav', '28_4_merged.wav', '28_5_merged.wav', '28_6_merged.wav', '28_7_merged.wav', '28_8_merged.wav', '28_9_merged.wav', '28_10_merged.wav', '28_11_merged.wav', '28_12_merged.wav', '28_13_merged.wav', '28_14_merged.wav', '28_15_merged.wav', '28_16_merged.wav', '28_17_merged.wav', '28_18_merged.wav', '28_19_merged.wav', '28_20_merged.wav', '28_21_merged.wav', '28_22_merged.wav', '28_23_merged.wav', '28_24_merged.wav', '28_25_merged.wav', '29_0_merged.wav', '29_1_merged.wav', '29_2_merged.wav', '29_3_merged.wav', '29_4_merged.wav', '29_5_merged.wav', '29_6_merged.wav', '29_7_merged.wav', '29_8_merged.wav', '29_9_merged.wav', '29_10_merged.wav', '29_11_merged.wav', '29_12_merged.wav', '29_13_merged.wav', '29_14_merged.wav', '29_15_merged.wav', '29_16_merged.wav', '29_17_merged.wav', '29_18_merged.wav', '29_19_merged.wav', '29_20_merged.wav', '29_21_merged.wav', '30_0_merged.wav', '30_1_merged.wav', '30_2_merged.wav', '30_3_merged.wav', '30_4_merged.wav', '30_5_merged.wav', '30_6_merged.wav', '30_7_merged.wav', '30_8_merged.wav', '30_9_merged.wav', '30_10_merged.wav', '30_11_merged.wav', '30_12_merged.wav', '30_13_merged.wav', '30_14_merged.wav', '30_15_merged.wav', '30_16_merged.wav', '30_17_merged.wav', '30_18_merged.wav', '30_19_merged.wav', '30_20_merged.wav', '30_21_merged.wav', '30_22_merged.wav', '30_23_merged.wav', '30_24_merged.wav', '30_25_merged.wav', '31_0_merged.wav', '31_1_merged.wav', '31_2_merged.wav', '31_3_merged.wav', '31_4_merged.wav', '31_5_merged.wav', '31_6_merged.wav', '31_7_merged.wav', '31_8_merged.wav', '31_9_merged.wav', '31_10_merged.wav', '31_11_merged.wav', '31_12_merged.wav', '31_13_merged.wav', '31_14_merged.wav', '31_15_merged.wav', '31_16_merged.wav', '31_17_merged.wav', '31_18_merged.wav', '31_19_merged.wav', '31_20_merged.wav', '31_21_merged.wav', '31_22_merged.wav', '31_23_merged.wav', '31_24_merged.wav', '31_25_merged.wav', '31_26_merged.wav', '31_27_merged.wav', '31_28_merged.wav', '31_29_merged.wav', '32_0_merged.wav', '32_1_merged.wav', '32_2_merged.wav', '32_3_merged.wav', '32_4_merged.wav', '32_5_merged.wav', '32_6_merged.wav', '32_7_merged.wav', '32_8_merged.wav', '32_9_merged.wav', '32_10_merged.wav', '32_11_merged.wav', '32_12_merged.wav', '32_13_merged.wav', '32_14_merged.wav', '32_15_merged.wav', '32_16_merged.wav', '32_17_merged.wav', '32_18_merged.wav', '32_19_merged.wav', '32_20_merged.wav', '33_0_merged.wav', '33_1_merged.wav', '33_2_merged.wav', '33_3_merged.wav', '33_4_merged.wav', '33_5_merged.wav', '33_6_merged.wav', '33_7_merged.wav', '33_8_merged.wav', '33_9_merged.wav', '33_10_merged.wav', '33_11_merged.wav', '33_12_merged.wav', '33_13_merged.wav', '33_14_merged.wav', '33_15_merged.wav', '33_16_merged.wav', '33_17_merged.wav', '33_18_merged.wav', '33_19_merged.wav', '33_20_merged.wav', '33_21_merged.wav', '33_22_merged.wav', '33_23_merged.wav', '33_24_merged.wav', '33_25_merged.wav', '33_26_merged.wav', '33_27_merged.wav', '33_28_merged.wav', '33_29_merged.wav', '33_30_merged.wav', '33_31_merged.wav', '33_32_merged.wav', '33_33_merged.wav', '33_34_merged.wav', '33_35_merged.wav', '33_36_merged.wav', '33_37_merged.wav', '33_38_merged.wav', '33_39_merged.wav', '33_40_merged.wav', '33_41_merged.wav', '33_42_merged.wav', '33_43_merged.wav', '34_0_merged.wav', '34_1_merged.wav', '34_2_merged.wav', '34_3_merged.wav', '34_4_merged.wav', '34_5_merged.wav', '34_6_merged.wav', '34_7_merged.wav', '34_8_merged.wav', '34_9_merged.wav', '34_10_merged.wav', '34_11_merged.wav', '34_12_merged.wav', '34_13_merged.wav', '34_14_merged.wav', '34_15_merged.wav', '34_16_merged.wav', '34_17_merged.wav', '34_18_merged.wav', '34_19_merged.wav', '34_20_merged.wav', '34_21_merged.wav', '34_22_merged.wav', '34_23_merged.wav', '34_24_merged.wav', '34_25_merged.wav', '34_26_merged.wav', '34_27_merged.wav', '34_28_merged.wav', '34_29_merged.wav', '34_30_merged.wav', '34_31_merged.wav', '34_32_merged.wav', '34_33_merged.wav', '34_34_merged.wav', '34_35_merged.wav', '34_36_merged.wav', '34_37_merged.wav', '34_38_merged.wav', '34_39_merged.wav', '34_40_merged.wav', '34_41_merged.wav', '34_42_merged.wav', '34_43_merged.wav', '34_44_merged.wav', '34_45_merged.wav', '34_46_merged.wav', '34_47_merged.wav', '34_48_merged.wav', '34_49_merged.wav', '34_50_merged.wav', '34_51_merged.wav', '34_52_merged.wav', '34_53_merged.wav', '34_54_merged.wav', '34_55_merged.wav', '34_56_merged.wav', '34_57_merged.wav', '34_58_merged.wav', '34_59_merged.wav', '34_60_merged.wav', '34_61_merged.wav', '34_62_merged.wav', '34_63_merged.wav', '35_0_merged.wav', '35_1_merged.wav', '35_2_merged.wav', '35_3_merged.wav', '35_4_merged.wav', '35_5_merged.wav', '35_6_merged.wav', '35_7_merged.wav', '35_8_merged.wav', '35_9_merged.wav', '35_10_merged.wav', '35_11_merged.wav', '35_12_merged.wav', '35_13_merged.wav', '35_14_merged.wav', '35_15_merged.wav', '35_16_merged.wav', '35_17_merged.wav', '35_18_merged.wav', '35_19_merged.wav', '35_20_merged.wav', '35_21_merged.wav', '35_22_merged.wav', '35_23_merged.wav', '35_24_merged.wav', '35_25_merged.wav', '35_26_merged.wav', '35_27_merged.wav', '35_28_merged.wav', '35_29_merged.wav', '35_30_merged.wav', '35_31_merged.wav', '35_32_merged.wav', '35_33_merged.wav', '35_34_merged.wav', '35_35_merged.wav', '35_36_merged.wav', '36_0_merged.wav', '36_1_merged.wav', '36_2_merged.wav', '36_3_merged.wav', '36_4_merged.wav', '36_5_merged.wav', '36_6_merged.wav', '36_7_merged.wav', '36_8_merged.wav', '36_9_merged.wav', '36_10_merged.wav', '36_11_merged.wav', '36_12_merged.wav', '36_13_merged.wav', '36_14_merged.wav', '36_15_merged.wav', '36_16_merged.wav', '36_17_merged.wav', '36_18_merged.wav', '36_19_merged.wav', '36_20_merged.wav', '36_21_merged.wav', '36_22_merged.wav', '36_23_merged.wav', '36_24_merged.wav', '36_25_merged.wav', '36_26_merged.wav', '36_27_merged.wav', '36_28_merged.wav', '36_29_merged.wav', '36_30_merged.wav', '36_31_merged.wav', '36_32_merged.wav', '36_33_merged.wav', '36_34_merged.wav', '36_35_merged.wav', '36_36_merged.wav', '36_37_merged.wav', '36_38_merged.wav', '36_39_merged.wav', '36_40_merged.wav', '36_41_merged.wav', '36_42_merged.wav', '36_43_merged.wav', '36_44_merged.wav', '36_45_merged.wav', '36_46_merged.wav', '37_0_merged.wav', '37_1_merged.wav', '37_2_merged.wav', '37_3_merged.wav', '37_4_merged.wav', '37_5_merged.wav', '37_6_merged.wav', '37_7_merged.wav', '37_8_merged.wav', '37_9_merged.wav', '37_10_merged.wav', '37_11_merged.wav', '37_12_merged.wav', '37_13_merged.wav', '37_14_merged.wav', '37_15_merged.wav', '37_16_merged.wav', '37_17_merged.wav', '37_18_merged.wav', '37_19_merged.wav', '37_20_merged.wav', '37_21_merged.wav', '37_22_merged.wav', '37_23_merged.wav', '37_24_merged.wav', '37_25_merged.wav', '37_26_merged.wav', '37_27_merged.wav', '37_28_merged.wav', '37_29_merged.wav', '37_30_merged.wav', '37_31_merged.wav', '37_32_merged.wav', '37_33_merged.wav', '37_34_merged.wav', '37_35_merged.wav', '37_36_merged.wav', '37_37_merged.wav', '37_38_merged.wav', '37_39_merged.wav', '37_40_merged.wav', '37_41_merged.wav', '37_42_merged.wav', '37_43_merged.wav', '37_44_merged.wav', '37_45_merged.wav', '37_46_merged.wav', '37_47_merged.wav', '37_48_merged.wav', '37_49_merged.wav', '37_50_merged.wav', '37_51_merged.wav', '37_52_merged.wav', '37_53_merged.wav', '38_0_merged.wav', '38_1_merged.wav', '38_2_merged.wav', '38_3_merged.wav', '38_4_merged.wav', '38_5_merged.wav', '38_6_merged.wav', '38_7_merged.wav', '38_8_merged.wav', '38_9_merged.wav', '38_10_merged.wav', '38_11_merged.wav', '38_12_merged.wav', '38_13_merged.wav', '38_14_merged.wav', '38_15_merged.wav', '38_16_merged.wav', '38_17_merged.wav', '38_18_merged.wav', '38_19_merged.wav', '38_20_merged.wav', '38_21_merged.wav', '38_22_merged.wav', '38_23_merged.wav', '39_0_merged.wav', '39_1_merged.wav', '39_2_merged.wav', '39_3_merged.wav', '39_4_merged.wav', '39_5_merged.wav', '39_6_merged.wav', '39_7_merged.wav', '39_8_merged.wav', '39_9_merged.wav', '39_10_merged.wav', '39_11_merged.wav', '39_12_merged.wav', '39_13_merged.wav', '39_14_merged.wav', '39_15_merged.wav', '39_16_merged.wav', '39_17_merged.wav', '39_18_merged.wav', '39_19_merged.wav', '39_20_merged.wav', '39_21_merged.wav', '39_22_merged.wav', '39_23_merged.wav', '39_24_merged.wav', '39_25_merged.wav', '39_26_merged.wav', '39_27_merged.wav', '39_28_merged.wav', '39_29_merged.wav', '39_30_merged.wav', '39_31_merged.wav', '39_32_merged.wav', '39_33_merged.wav', '39_34_merged.wav', '39_35_merged.wav', '39_36_merged.wav', '39_37_merged.wav', '39_38_merged.wav', '39_39_merged.wav', '39_40_merged.wav', '39_41_merged.wav', '39_42_merged.wav', '39_43_merged.wav', '39_44_merged.wav', '39_45_merged.wav', '39_46_merged.wav', '39_47_merged.wav', '39_48_merged.wav', '39_49_merged.wav', '39_50_merged.wav', '39_51_merged.wav', '39_52_merged.wav', '39_53_merged.wav', '39_54_merged.wav', '39_55_merged.wav', '39_56_merged.wav', '39_57_merged.wav', '39_58_merged.wav', '39_59_merged.wav', '39_60_merged.wav', '39_61_merged.wav', '39_62_merged.wav', '40_0_merged.wav', '40_1_merged.wav', '40_2_merged.wav', '40_3_merged.wav', '40_4_merged.wav', '40_5_merged.wav', '40_6_merged.wav', '40_7_merged.wav', '40_8_merged.wav', '40_9_merged.wav', '40_10_merged.wav', '40_11_merged.wav', '40_12_merged.wav', '40_13_merged.wav', '40_14_merged.wav', '40_15_merged.wav', '40_16_merged.wav', '40_17_merged.wav', '40_18_merged.wav', '40_19_merged.wav', '40_20_merged.wav', '40_21_merged.wav', '40_22_merged.wav', '40_23_merged.wav', '40_24_merged.wav', '40_25_merged.wav', '40_26_merged.wav', '40_27_merged.wav', '40_28_merged.wav', '40_29_merged.wav', '40_30_merged.wav', '41_0_merged.wav', '41_1_merged.wav', '41_2_merged.wav', '41_3_merged.wav', '41_4_merged.wav', '41_5_merged.wav', '41_6_merged.wav', '41_7_merged.wav', '41_8_merged.wav', '41_9_merged.wav', '41_10_merged.wav', '41_11_merged.wav', '41_12_merged.wav', '41_13_merged.wav', '41_14_merged.wav', '41_15_merged.wav', '41_16_merged.wav', '41_17_merged.wav', '41_18_merged.wav', '41_19_merged.wav', '41_20_merged.wav', '41_21_merged.wav', '41_22_merged.wav', '41_23_merged.wav', '41_24_merged.wav', '41_25_merged.wav', '41_26_merged.wav', '41_27_merged.wav', '41_28_merged.wav', '41_29_merged.wav', '41_30_merged.wav', '41_31_merged.wav', '41_32_merged.wav', '41_33_merged.wav', '41_34_merged.wav', '41_35_merged.wav', '41_36_merged.wav', '41_37_merged.wav', '41_38_merged.wav', '41_39_merged.wav', '41_40_merged.wav', '41_41_merged.wav', '41_42_merged.wav', '41_43_merged.wav', '42_0_merged.wav', '42_1_merged.wav', '42_2_merged.wav', '42_3_merged.wav', '42_4_merged.wav', '42_5_merged.wav', '42_6_merged.wav', '42_7_merged.wav', '42_8_merged.wav', '42_9_merged.wav', '42_10_merged.wav', '42_11_merged.wav', '42_12_merged.wav', '42_13_merged.wav', '42_14_merged.wav', '42_15_merged.wav', '42_16_merged.wav', '42_17_merged.wav', '42_18_merged.wav', '42_19_merged.wav', '42_20_merged.wav', '42_21_merged.wav', '42_22_merged.wav', '42_23_merged.wav', '42_24_merged.wav', '42_25_merged.wav', '42_26_merged.wav', '42_27_merged.wav', '42_28_merged.wav', '42_29_merged.wav', '42_30_merged.wav', '42_31_merged.wav', '42_32_merged.wav', '42_33_merged.wav', '42_34_merged.wav', '42_35_merged.wav', '42_36_merged.wav', '42_37_merged.wav', '42_38_merged.wav', '43_0_merged.wav', '43_1_merged.wav', '43_2_merged.wav', '43_3_merged.wav', '43_4_merged.wav', '43_5_merged.wav', '43_6_merged.wav', '43_7_merged.wav', '43_8_merged.wav', '43_9_merged.wav', '43_10_merged.wav', '43_11_merged.wav', '43_12_merged.wav', '43_13_merged.wav', '43_14_merged.wav', '43_15_merged.wav', '43_16_merged.wav', '43_17_merged.wav', '43_18_merged.wav', '43_19_merged.wav', '43_20_merged.wav', '43_21_merged.wav', '43_22_merged.wav', '43_23_merged.wav', '43_24_merged.wav', '43_25_merged.wav', '43_26_merged.wav', '43_27_merged.wav', '43_28_merged.wav', '43_29_merged.wav', '43_30_merged.wav', '43_31_merged.wav', '43_32_merged.wav', '43_33_merged.wav', '43_34_merged.wav', '43_35_merged.wav', '43_36_merged.wav', '43_37_merged.wav', '43_38_merged.wav', '44_0_merged.wav', '44_1_merged.wav', '44_2_merged.wav', '44_3_merged.wav', '44_4_merged.wav', '44_5_merged.wav', '44_6_merged.wav', '44_7_merged.wav', '44_8_merged.wav', '44_9_merged.wav', '44_10_merged.wav', '44_11_merged.wav', '44_12_merged.wav', '44_13_merged.wav', '44_14_merged.wav', '44_15_merged.wav', '44_16_merged.wav', '44_17_merged.wav', '44_18_merged.wav', '44_19_merged.wav', '44_20_merged.wav', '44_21_merged.wav', '44_22_merged.wav', '44_23_merged.wav', '44_24_merged.wav', '44_25_merged.wav', '44_26_merged.wav', '44_27_merged.wav', '44_28_merged.wav', '44_29_merged.wav', '44_30_merged.wav', '44_31_merged.wav', '44_32_merged.wav', '44_33_merged.wav', '44_34_merged.wav', '44_35_merged.wav', '44_36_merged.wav', '44_37_merged.wav', '44_38_merged.wav', '45_0_merged.wav', '45_1_merged.wav', '45_2_merged.wav', '45_3_merged.wav', '45_4_merged.wav', '45_5_merged.wav', '45_6_merged.wav', '45_7_merged.wav', '45_8_merged.wav', '45_9_merged.wav', '45_10_merged.wav', '45_11_merged.wav', '45_12_merged.wav', '45_13_merged.wav', '45_14_merged.wav', '45_15_merged.wav', '45_16_merged.wav', '45_17_merged.wav', '45_18_merged.wav', '45_19_merged.wav', '45_20_merged.wav', '45_21_merged.wav', '45_22_merged.wav', '45_23_merged.wav', '45_24_merged.wav', '45_25_merged.wav', '45_26_merged.wav', '45_27_merged.wav', '45_28_merged.wav', '45_29_merged.wav', '45_30_merged.wav', '45_31_merged.wav', '45_32_merged.wav', '45_33_merged.wav', '45_34_merged.wav', '45_35_merged.wav', '45_36_merged.wav', '45_37_merged.wav', '45_38_merged.wav', '45_39_merged.wav', '45_40_merged.wav', '45_41_merged.wav', '45_42_merged.wav', '45_43_merged.wav', '45_44_merged.wav', '45_45_merged.wav', '45_46_merged.wav', '45_47_merged.wav', '45_48_merged.wav', '45_49_merged.wav', '45_50_merged.wav', '45_51_merged.wav', '46_0_merged.wav', '46_1_merged.wav', '46_2_merged.wav', '46_3_merged.wav', '46_4_merged.wav', '46_5_merged.wav', '46_6_merged.wav', '46_7_merged.wav', '46_8_merged.wav', '46_9_merged.wav', '46_10_merged.wav', '46_11_merged.wav', '46_12_merged.wav', '46_13_merged.wav', '46_14_merged.wav', '46_15_merged.wav', '46_16_merged.wav', '46_17_merged.wav', '46_18_merged.wav', '46_19_merged.wav', '46_20_merged.wav', '46_21_merged.wav', '46_22_merged.wav', '46_23_merged.wav', '46_24_merged.wav', '46_25_merged.wav', '46_26_merged.wav', '46_27_merged.wav', '46_28_merged.wav', '46_29_merged.wav', '46_30_merged.wav', '46_31_merged.wav', '46_32_merged.wav', '46_33_merged.wav', '46_34_merged.wav', '46_35_merged.wav', '46_36_merged.wav', '46_37_merged.wav', '46_38_merged.wav', '46_39_merged.wav', '46_40_merged.wav', '46_41_merged.wav', '46_42_merged.wav', '46_43_merged.wav', '46_44_merged.wav', '46_45_merged.wav', '47_0_merged.wav', '47_1_merged.wav', '47_2_merged.wav', '47_3_merged.wav', '47_4_merged.wav', '47_5_merged.wav', '47_6_merged.wav', '47_7_merged.wav', '47_8_merged.wav', '47_9_merged.wav', '47_10_merged.wav', '47_11_merged.wav', '47_12_merged.wav', '47_13_merged.wav', '47_14_merged.wav', '47_15_merged.wav', '47_16_merged.wav', '47_17_merged.wav', '47_18_merged.wav', '47_19_merged.wav', '47_20_merged.wav', '47_21_merged.wav', '47_22_merged.wav', '47_23_merged.wav', '47_24_merged.wav', '47_25_merged.wav', '47_26_merged.wav', '47_27_merged.wav', '47_28_merged.wav', '47_29_merged.wav', '47_30_merged.wav', '47_31_merged.wav', '47_32_merged.wav', '47_33_merged.wav', '47_34_merged.wav', '47_35_merged.wav', '47_36_merged.wav', '47_37_merged.wav', '47_38_merged.wav', '47_39_merged.wav', '47_40_merged.wav', '47_41_merged.wav', '47_42_merged.wav', '47_43_merged.wav']\n"
          ]
        }
      ]
    },
    {
      "cell_type": "markdown",
      "source": [
        "# Part 2. Get Ground Truth Data for Spoken SQuAD Speech (need to add helper routines to extract QA pairs) "
      ],
      "metadata": {
        "id": "kXDbFDrOpZiq"
      }
    },
    {
      "cell_type": "markdown",
      "source": [
        "Read from json files"
      ],
      "metadata": {
        "id": "UK7M8AviueKV"
      }
    },
    {
      "cell_type": "markdown",
      "source": [
        "Train: https://rajpurkar.github.io/SQuAD-explorer/dataset/train-v1.1.json \\n\n",
        "Validation: https://rajpurkar.github.io/SQuAD-explorer/dataset/dev-v1.1.json"
      ],
      "metadata": {
        "id": "AvJlBRZ8wCI2"
      }
    },
    {
      "cell_type": "code",
      "source": [
        "def get_dev_context(article_idx, para_idx):\n",
        "  f = open('/content/drive/MyDrive/SpokenSQuAD/dev-v1.1.json')\n",
        "  data = json.load(f)\n",
        "  f.close()\n",
        "  return data[\"data\"][article_idx][\"paragraphs\"][para_idx][\"context\"]\n"
      ],
      "metadata": {
        "id": "V2vjIIzcrc0O"
      },
      "execution_count": 22,
      "outputs": []
    },
    {
      "cell_type": "code",
      "source": [
        "get_dev_context(0, 0)"
      ],
      "metadata": {
        "colab": {
          "base_uri": "https://localhost:8080/",
          "height": 122
        },
        "id": "BVK_MWWWsGTj",
        "outputId": "6d256588-3914-4028-e103-d743fd5f5aa0"
      },
      "execution_count": 23,
      "outputs": [
        {
          "output_type": "execute_result",
          "data": {
            "text/plain": [
              "'Super Bowl 50 was an American football game to determine the champion of the National Football League (NFL) for the 2015 season. The American Football Conference (AFC) champion Denver Broncos defeated the National Football Conference (NFC) champion Carolina Panthers 24–10 to earn their third Super Bowl title. The game was played on February 7, 2016, at Levi\\'s Stadium in the San Francisco Bay Area at Santa Clara, California. As this was the 50th Super Bowl, the league emphasized the \"golden anniversary\" with various gold-themed initiatives, as well as temporarily suspending the tradition of naming each Super Bowl game with Roman numerals (under which the game would have been known as \"Super Bowl L\"), so that the logo could prominently feature the Arabic numerals 50.'"
            ],
            "application/vnd.google.colaboratory.intrinsic+json": {
              "type": "string"
            }
          },
          "metadata": {},
          "execution_count": 23
        }
      ]
    },
    {
      "cell_type": "markdown",
      "source": [
        "# Part 3. Convert Speech to Text Whisper"
      ],
      "metadata": {
        "id": "JW8D2Mgs5tSZ"
      }
    },
    {
      "cell_type": "code",
      "source": [
        "import whisper\n",
        "\n",
        "medium_model = whisper.load_model(\"medium\")\n",
        "\n",
        "def transcribe_audio_whisper(whisper_model, audio_pathname):\n",
        "  result = whisper_model.transcribe(audio_pathname)\n",
        "  return result[\"text\"]"
      ],
      "metadata": {
        "id": "sr8Tggi48w1N"
      },
      "execution_count": 34,
      "outputs": []
    },
    {
      "cell_type": "code",
      "source": [
        "whisper_sol_3_54 = transcribe_audio_whisper(medium_model, \"/content/drive/MyDrive/SpokenSQuAD/output_dev_wav_1_4khz_1/3_54_merged.wav\")\n",
        "whisper_sol_3_54"
      ],
      "metadata": {
        "colab": {
          "base_uri": "https://localhost:8080/",
          "height": 87
        },
        "id": "zur6jTrrttMn",
        "outputId": "7cb6dad4-675c-49d6-b2c5-36801f3a36c7"
      },
      "execution_count": 35,
      "outputs": [
        {
          "output_type": "execute_result",
          "data": {
            "text/plain": [
              "\" There have been subsequent claims by Tesla biographers that Edison and Tesla were the original recipients and that neither was given the award because of their animosity toward each other, that OOPS sought to minimize the other's achievements and right to win the award, that both refused ever to accept the award if the other received it first, that both rejected any possibility of sharing it, and even that a wealthy Edison refused it to coup Tesla from getting the $20.00 prize money.\""
            ],
            "application/vnd.google.colaboratory.intrinsic+json": {
              "type": "string"
            }
          },
          "metadata": {},
          "execution_count": 35
        }
      ]
    },
    {
      "cell_type": "code",
      "source": [
        "whisper_sol_2_0 = transcribe_audio_whisper(medium_model, \"/content/drive/MyDrive/SpokenSQuAD/output_dev_wav_1_4khz_1/2_0_merged.wav\")\n",
        "whisper_sol_2_0"
      ],
      "metadata": {
        "colab": {
          "base_uri": "https://localhost:8080/",
          "height": 122
        },
        "id": "Fi7Dv3b2uroR",
        "outputId": "d873ece6-453d-40ae-9e56-254cf9e3be86"
      },
      "execution_count": 36,
      "outputs": [
        {
          "output_type": "execute_result",
          "data": {
            "text/plain": [
              "' The Normans, Norman, Normans, French, Normans, Latin, Normannes, were the people who in the 10th and 11th centuries stood their noon to Normandou. They were descended from Norse. Norman comes from Norsemen. Woters and pirates from Denmark, Iceland and Norway who, under their looter Rolo, agreed to swear filth to King Charles II of West Francia through generations of assimilation and mixing with the native Frankish and Roman Gauls. Populations. Their descendants would gradually merge with the Carolingian-dosed cultures of West Francia. The distinct cultural and ethnic identity of the Normans emerged initially in the first half of the 10th century, and it continued to evolve over the succeeding centuries.'"
            ],
            "application/vnd.google.colaboratory.intrinsic+json": {
              "type": "string"
            }
          },
          "metadata": {},
          "execution_count": 36
        }
      ]
    },
    {
      "cell_type": "markdown",
      "source": [
        "# Part 4. Convert Speech to Text Wav2vec"
      ],
      "metadata": {
        "id": "sy49coMZD8BV"
      }
    },
    {
      "cell_type": "code",
      "source": [
        "!pip install transformers torchaudio"
      ],
      "metadata": {
        "colab": {
          "base_uri": "https://localhost:8080/"
        },
        "id": "h4pluEn1ECkG",
        "outputId": "1ecf0a09-f454-4c66-a300-800259f69fae"
      },
      "execution_count": 12,
      "outputs": [
        {
          "output_type": "stream",
          "name": "stdout",
          "text": [
            "Looking in indexes: https://pypi.org/simple, https://us-python.pkg.dev/colab-wheels/public/simple/\n",
            "Collecting transformers\n",
            "  Downloading transformers-4.28.1-py3-none-any.whl (7.0 MB)\n",
            "\u001b[2K     \u001b[90m━━━━━━━━━━━━━━━━━━━━━━━━━━━━━━━━━━━━━━━━\u001b[0m \u001b[32m7.0/7.0 MB\u001b[0m \u001b[31m36.6 MB/s\u001b[0m eta \u001b[36m0:00:00\u001b[0m\n",
            "\u001b[?25hRequirement already satisfied: torchaudio in /usr/local/lib/python3.9/dist-packages (2.0.1+cu118)\n",
            "Requirement already satisfied: pyyaml>=5.1 in /usr/local/lib/python3.9/dist-packages (from transformers) (6.0)\n",
            "Requirement already satisfied: numpy>=1.17 in /usr/local/lib/python3.9/dist-packages (from transformers) (1.22.4)\n",
            "Requirement already satisfied: requests in /usr/local/lib/python3.9/dist-packages (from transformers) (2.27.1)\n",
            "Collecting huggingface-hub<1.0,>=0.11.0\n",
            "  Downloading huggingface_hub-0.14.0-py3-none-any.whl (224 kB)\n",
            "\u001b[2K     \u001b[90m━━━━━━━━━━━━━━━━━━━━━━━━━━━━━━━━━━━━━━\u001b[0m \u001b[32m224.2/224.2 kB\u001b[0m \u001b[31m28.0 MB/s\u001b[0m eta \u001b[36m0:00:00\u001b[0m\n",
            "\u001b[?25hRequirement already satisfied: packaging>=20.0 in /usr/local/lib/python3.9/dist-packages (from transformers) (23.1)\n",
            "Requirement already satisfied: regex!=2019.12.17 in /usr/local/lib/python3.9/dist-packages (from transformers) (2022.10.31)\n",
            "Collecting tokenizers!=0.11.3,<0.14,>=0.11.1\n",
            "  Downloading tokenizers-0.13.3-cp39-cp39-manylinux_2_17_x86_64.manylinux2014_x86_64.whl (7.8 MB)\n",
            "\u001b[2K     \u001b[90m━━━━━━━━━━━━━━━━━━━━━━━━━━━━━━━━━━━━━━━━\u001b[0m \u001b[32m7.8/7.8 MB\u001b[0m \u001b[31m78.3 MB/s\u001b[0m eta \u001b[36m0:00:00\u001b[0m\n",
            "\u001b[?25hRequirement already satisfied: filelock in /usr/local/lib/python3.9/dist-packages (from transformers) (3.11.0)\n",
            "Requirement already satisfied: tqdm>=4.27 in /usr/local/lib/python3.9/dist-packages (from transformers) (4.65.0)\n",
            "Requirement already satisfied: torch==2.0.0 in /usr/local/lib/python3.9/dist-packages (from torchaudio) (2.0.0+cu118)\n",
            "Requirement already satisfied: triton==2.0.0 in /usr/local/lib/python3.9/dist-packages (from torch==2.0.0->torchaudio) (2.0.0)\n",
            "Requirement already satisfied: sympy in /usr/local/lib/python3.9/dist-packages (from torch==2.0.0->torchaudio) (1.11.1)\n",
            "Requirement already satisfied: networkx in /usr/local/lib/python3.9/dist-packages (from torch==2.0.0->torchaudio) (3.1)\n",
            "Requirement already satisfied: jinja2 in /usr/local/lib/python3.9/dist-packages (from torch==2.0.0->torchaudio) (3.1.2)\n",
            "Requirement already satisfied: typing-extensions in /usr/local/lib/python3.9/dist-packages (from torch==2.0.0->torchaudio) (4.5.0)\n",
            "Requirement already satisfied: lit in /usr/local/lib/python3.9/dist-packages (from triton==2.0.0->torch==2.0.0->torchaudio) (16.0.1)\n",
            "Requirement already satisfied: cmake in /usr/local/lib/python3.9/dist-packages (from triton==2.0.0->torch==2.0.0->torchaudio) (3.25.2)\n",
            "Requirement already satisfied: fsspec in /usr/local/lib/python3.9/dist-packages (from huggingface-hub<1.0,>=0.11.0->transformers) (2023.4.0)\n",
            "Requirement already satisfied: charset-normalizer~=2.0.0 in /usr/local/lib/python3.9/dist-packages (from requests->transformers) (2.0.12)\n",
            "Requirement already satisfied: certifi>=2017.4.17 in /usr/local/lib/python3.9/dist-packages (from requests->transformers) (2022.12.7)\n",
            "Requirement already satisfied: urllib3<1.27,>=1.21.1 in /usr/local/lib/python3.9/dist-packages (from requests->transformers) (1.26.15)\n",
            "Requirement already satisfied: idna<4,>=2.5 in /usr/local/lib/python3.9/dist-packages (from requests->transformers) (3.4)\n",
            "Requirement already satisfied: MarkupSafe>=2.0 in /usr/local/lib/python3.9/dist-packages (from jinja2->torch==2.0.0->torchaudio) (2.1.2)\n",
            "Requirement already satisfied: mpmath>=0.19 in /usr/local/lib/python3.9/dist-packages (from sympy->torch==2.0.0->torchaudio) (1.3.0)\n",
            "Installing collected packages: tokenizers, huggingface-hub, transformers\n",
            "Successfully installed huggingface-hub-0.14.0 tokenizers-0.13.3 transformers-4.28.1\n"
          ]
        }
      ]
    },
    {
      "cell_type": "code",
      "source": [
        "import torch\n",
        "import torchaudio\n",
        "import warnings\n",
        "from transformers import Wav2Vec2ForCTC, Wav2Vec2Processor\n",
        "\n",
        "# Filter out warning messages\n",
        "warnings.filterwarnings(\"ignore\", module=\"torchaudio\")\n",
        "\n",
        "# Load the pre-trained Wav2Vec2 model and the processor\n",
        "model_name = \"facebook/wav2vec2-base-960h\"\n",
        "processor = Wav2Vec2Processor.from_pretrained(model_name)\n",
        "model = Wav2Vec2ForCTC.from_pretrained(model_name)\n",
        "\n",
        "def transcribe_audio_wav2vec(audio_pathname):\n",
        "    # Load the audio file\n",
        "    audio_input, sample_rate = torchaudio.load(audio_pathname)\n",
        "\n",
        "    # Check if the audio has the correct sample rate (16 kHz for the wav2vec2-base-960h model)\n",
        "    if sample_rate != 16000:\n",
        "        audio_input = torchaudio.transforms.Resample(sample_rate, 16000)(audio_input)\n",
        "    \n",
        "    # Preprocess the audio data\n",
        "    input_values = processor(audio_input.squeeze().numpy(), return_tensors=\"pt\", sampling_rate=16000).input_values\n",
        "\n",
        "    # Perform zero-shot prediction with the Wav2Vec2 model\n",
        "    with torch.no_grad():\n",
        "        logits = model(input_values).logits\n",
        "\n",
        "    # Decode the logits into text\n",
        "    predicted_ids = torch.argmax(logits, dim=-1)\n",
        "    transcription = processor.batch_decode(predicted_ids)[0]\n",
        "\n",
        "    return transcription\n"
      ],
      "metadata": {
        "colab": {
          "base_uri": "https://localhost:8080/"
        },
        "id": "9-JDMo8gEC9V",
        "outputId": "96ceba75-3d34-4ce3-fcd5-5ffd72c8b9da"
      },
      "execution_count": 19,
      "outputs": [
        {
          "output_type": "stream",
          "name": "stderr",
          "text": [
            "Some weights of Wav2Vec2ForCTC were not initialized from the model checkpoint at facebook/wav2vec2-base-960h and are newly initialized: ['wav2vec2.masked_spec_embed']\n",
            "You should probably TRAIN this model on a down-stream task to be able to use it for predictions and inference.\n"
          ]
        }
      ]
    },
    {
      "cell_type": "code",
      "source": [
        "# Transcribe the audio file\n",
        "file_path = \"/content/drive/MyDrive/SpokenSQuAD/output_dev_wav_1_44.1khz_2/3_54_merged.wav\"\n",
        "transcription_output = transcribe_audio_wav2vec(file_path)\n",
        "\n",
        "print(transcription_output)"
      ],
      "metadata": {
        "colab": {
          "base_uri": "https://localhost:8080/"
        },
        "id": "7-9W_0dGFBt5",
        "outputId": "245b45d8-d1d8-4f86-aecb-e275c6cda39e"
      },
      "execution_count": 20,
      "outputs": [
        {
          "output_type": "stream",
          "name": "stdout",
          "text": [
            "THERE HAVE BEEN SUBSEQUENT CLAIMS BY TESTLA BIOGRAPHERS THAT EDISON AND TESTLA WERE THE ORIGINAL RECIPIENTS AND THAT NEITHER WAS GIVEN THE AWARD BECAUSE OF THEIR ANIMOSITY TOWARD EACH OTHER THAT EACH SOUGHT TO MINIMIZE THE OTHER'S ACHIEVEMENTS AND RIGHT TO WIN THE AWARD THAT BOTH REFUSED EVER TO ACCEPT THE AWARD IF THE OTHER RECEIVED IT FIRST THAT BOTH REJECTED ANY POSSIBILITY OF SHARING IT AND EVEN THAT A WEALTHY EDISON REFUSED IT TO KEEP TESTLA FROM GETTING THE TWENTY DOLLARS OH O O PRIZE MONEY TWO HUNDRED FORTY FIVE\n"
          ]
        }
      ]
    },
    {
      "cell_type": "markdown",
      "source": [
        "# Part 5. Google Speech2Text Conversion"
      ],
      "metadata": {
        "id": "wd7Ku-9uN4Xg"
      }
    },
    {
      "cell_type": "code",
      "source": [
        "!pip install google-cloud-speech\n",
        "!pip install google-auth google-auth-oauthlib google-auth-httplib2"
      ],
      "metadata": {
        "id": "Sq6OkuA5N3sl"
      },
      "execution_count": null,
      "outputs": []
    },
    {
      "cell_type": "code",
      "source": [
        "import io\n",
        "import os\n",
        "from google.cloud import speech_v1p1beta1 as speech\n",
        "from google.oauth2 import service_account\n",
        "\n",
        "def google_transcribe_audio_file(audio_file_path, credentials_file_path):\n",
        "    # Set up the client using the service account key\n",
        "    credentials = service_account.Credentials.from_service_account_file(credentials_file_path)\n",
        "    client = speech.SpeechClient(credentials=credentials)\n",
        "\n",
        "    # Read the audio file\n",
        "    with io.open(audio_file_path, \"rb\") as audio_file:\n",
        "        content = audio_file.read()\n",
        "\n",
        "    audio = speech.RecognitionAudio(content=content)\n",
        "\n",
        "    # Set up the configuration\n",
        "    config = speech.RecognitionConfig(\n",
        "        encoding=speech.RecognitionConfig.AudioEncoding.LINEAR16,\n",
        "        sample_rate_hertz=44100,\n",
        "        language_code=\"en-US\",\n",
        "    )\n",
        "\n",
        "    # Make the API request\n",
        "    response = client.recognize(config=config, audio=audio)\n",
        "\n",
        "    # Combine the transcriptions\n",
        "    transcript = \" \".join([result.alternatives[0].transcript for result in response.results])\n",
        "\n",
        "    return transcript"
      ],
      "metadata": {
        "id": "5MXK3hC9C-i5"
      },
      "execution_count": 9,
      "outputs": []
    },
    {
      "cell_type": "code",
      "source": [
        "# Replace these paths with the path to your audio file and your service account key JSON file\n",
        "audio_file_path = \"/content/drive/MyDrive/SpokenSQuAD/output_dev_wav_1_44.1khz_2/3_54_merged.wav\"\n",
        "credentials_file_path = \"/content/drive/MyDrive/SpokenSQuAD/neatscribe-384719-800219ebfd62.json\"\n",
        "\n",
        "transcript = google_transcribe_audio_file(audio_file_path, credentials_file_path)\n",
        "print(\"Transcript:\", transcript)"
      ],
      "metadata": {
        "id": "8ALKtQ83NTrK",
        "colab": {
          "base_uri": "https://localhost:8080/"
        },
        "outputId": "c6e8c6c3-bf1d-4801-eca3-cdbdad11d505"
      },
      "execution_count": 11,
      "outputs": [
        {
          "output_type": "stream",
          "name": "stdout",
          "text": [
            "Transcript: there have been subsequent claims by Tesla biographers that Edison and Tesla where the original recipients and that neither was given the award because of their animosity toward each other that each. To minimize the others achieve mints and write to win the award that both refused ever to accept the award if the other received it first don't reject it any possibility of sharing it and not a wealthy Edison refused it to keep Tesla from getting the $20 Olo prize money 245\n"
          ]
        }
      ]
    },
    {
      "cell_type": "markdown",
      "source": [
        "# Part 6. Evaluate WER on transcripts"
      ],
      "metadata": {
        "id": "aEi4mhd5xEPC"
      }
    },
    {
      "cell_type": "code",
      "source": [
        "ref_sol_3_54 = get_dev_context(3, 54)\n",
        "ref_sol_3_54"
      ],
      "metadata": {
        "colab": {
          "base_uri": "https://localhost:8080/",
          "height": 87
        },
        "id": "juB6Fden9PSl",
        "outputId": "15cb51e7-c9ab-411e-b2b5-90512a47150b"
      },
      "execution_count": 27,
      "outputs": [
        {
          "output_type": "execute_result",
          "data": {
            "text/plain": [
              "\"There have been subsequent claims by Tesla biographers that Edison and Tesla were the original recipients and that neither was given the award because of their animosity toward each other; that each sought to minimize the other's achievements and right to win the award; that both refused ever to accept the award if the other received it first; that both rejected any possibility of sharing it; and even that a wealthy Edison refused it to keep Tesla from getting the $20,000 prize money.:245\""
            ],
            "application/vnd.google.colaboratory.intrinsic+json": {
              "type": "string"
            }
          },
          "metadata": {},
          "execution_count": 27
        }
      ]
    },
    {
      "cell_type": "code",
      "source": [
        "ref_sol_2_0 = get_dev_context(2, 0)\n",
        "ref_sol_2_0"
      ],
      "metadata": {
        "colab": {
          "base_uri": "https://localhost:8080/",
          "height": 122
        },
        "id": "DcX0vsKOSee5",
        "outputId": "3d2e3cb6-170c-4c79-c5a5-e9d961f429ee"
      },
      "execution_count": 28,
      "outputs": [
        {
          "output_type": "execute_result",
          "data": {
            "text/plain": [
              "'The Normans (Norman: Nourmands; French: Normands; Latin: Normanni) were the people who in the 10th and 11th centuries gave their name to Normandy, a region in France. They were descended from Norse (\"Norman\" comes from \"Norseman\") raiders and pirates from Denmark, Iceland and Norway who, under their leader Rollo, agreed to swear fealty to King Charles III of West Francia. Through generations of assimilation and mixing with the native Frankish and Roman-Gaulish populations, their descendants would gradually merge with the Carolingian-based cultures of West Francia. The distinct cultural and ethnic identity of the Normans emerged initially in the first half of the 10th century, and it continued to evolve over the succeeding centuries.'"
            ],
            "application/vnd.google.colaboratory.intrinsic+json": {
              "type": "string"
            }
          },
          "metadata": {},
          "execution_count": 28
        }
      ]
    },
    {
      "cell_type": "markdown",
      "source": [
        "This WER evaluation scripts were adapted from the Whisper official website!"
      ],
      "metadata": {
        "id": "35NivSwA8TbM"
      }
    },
    {
      "cell_type": "code",
      "source": [
        "import jiwer\n",
        "from whisper.normalizers import EnglishTextNormalizer\n",
        "\n",
        "normalizer = EnglishTextNormalizer()"
      ],
      "metadata": {
        "id": "a8gGdOq2yCG9"
      },
      "execution_count": 26,
      "outputs": []
    },
    {
      "cell_type": "code",
      "source": [
        "def wer_eval(gen_t, ref_t):\n",
        "  return jiwer.wer(normalizer(gen_t), normalizer(ref_t))"
      ],
      "metadata": {
        "id": "kMDrVtEPyK1z"
      },
      "execution_count": 29,
      "outputs": []
    },
    {
      "cell_type": "code",
      "source": [
        "wer_eval(whisper_sol_3_54, ref_sol_3_54)"
      ],
      "metadata": {
        "colab": {
          "base_uri": "https://localhost:8080/"
        },
        "id": "nVzTzGP09NVe",
        "outputId": "5a47aa19-8fde-473e-a957-f8a95d5b9b25"
      },
      "execution_count": 37,
      "outputs": [
        {
          "output_type": "execute_result",
          "data": {
            "text/plain": [
              "0.047619047619047616"
            ]
          },
          "metadata": {},
          "execution_count": 37
        }
      ]
    },
    {
      "cell_type": "code",
      "source": [
        "wer_eval(whisper_sol_2_0, ref_sol_2_0)"
      ],
      "metadata": {
        "colab": {
          "base_uri": "https://localhost:8080/"
        },
        "id": "rLYf0Nam9UT8",
        "outputId": "62602c0e-cc71-4cc2-d616-383019d55ca1"
      },
      "execution_count": 38,
      "outputs": [
        {
          "output_type": "execute_result",
          "data": {
            "text/plain": [
              "0.21621621621621623"
            ]
          },
          "metadata": {},
          "execution_count": 38
        }
      ]
    },
    {
      "cell_type": "code",
      "source": [
        "wav2vec_sol_2_0_high = transcribe_audio_wav2vec(\"/content/drive/MyDrive/SpokenSQuAD/output_dev_wav_1_44.1khz_2/2_0_merged.wav\")"
      ],
      "metadata": {
        "id": "N3cKWakbHxCb"
      },
      "execution_count": 24,
      "outputs": []
    },
    {
      "cell_type": "code",
      "source": [
        "wav2vec_sol_2_0_low = transcribe_audio_wav2vec(\"/content/drive/MyDrive/SpokenSQuAD/output_dev_wav_1_4khz_1/2_0_merged.wav\")"
      ],
      "metadata": {
        "id": "AvjmfGOvI-Jm"
      },
      "execution_count": 32,
      "outputs": []
    },
    {
      "cell_type": "code",
      "source": [
        "wav2vec_sol_2_0_low"
      ],
      "metadata": {
        "colab": {
          "base_uri": "https://localhost:8080/",
          "height": 105
        },
        "id": "6fWJDxOEJu0e",
        "outputId": "1c16dbb8-3311-4c05-ef98-1f549020fd1e"
      },
      "execution_count": 39,
      "outputs": [
        {
          "output_type": "execute_result",
          "data": {
            "text/plain": [
              "'THE NORMAN NORMAN NORMAN FREN NORMAN LATAN NORMAMON WERE THE POVAL WHOIN THE CENTAND ELEVEN SENTE TO THE NON TO NORMANDO A RUDEN AND FRAN THE WERE DESCNDED FROM NORTH NORMAN COM FROM NORTHMAN WEODERS AND PIRATE FROM DENMARK ISLAN AND NORWA VO UNDER THEIR LDER ROLO A GRU DEWARE ILLTDO THE TON FALLVOM THEF WES FANA THROG DENALOSANS OF THE SIMILOSIN AND NITON WITH THE NOTOF SENTETS AND NORMAN GALE POPULOTAN TERE DESENDANTS WIT GRATUE MURGS WITH THE SEROLANSAN TOS CALTERS OF WEST FANTA THE DEFOCULTRA AND ETNET IDENDEDOF THE NORMANS THE MURDS THE NISILY IN THE FIRT HALFOF TU SEN SENTERU UNTHE CONTOSWHO VALL OVER TE OF FUDUM CENTRU'"
            ],
            "application/vnd.google.colaboratory.intrinsic+json": {
              "type": "string"
            }
          },
          "metadata": {},
          "execution_count": 39
        }
      ]
    },
    {
      "cell_type": "code",
      "source": [
        "wer_eval(normalizer(wav2vec_sol_2_0_low), normalizer(ref_sol_2_0))"
      ],
      "metadata": {
        "colab": {
          "base_uri": "https://localhost:8080/"
        },
        "id": "s5Mzd924XLVk",
        "outputId": "7a068ec9-9485-45a1-af2e-b6ab2830ac2c"
      },
      "execution_count": 33,
      "outputs": [
        {
          "output_type": "execute_result",
          "data": {
            "text/plain": [
              "0.7927927927927928"
            ]
          },
          "metadata": {},
          "execution_count": 33
        }
      ]
    },
    {
      "cell_type": "code",
      "source": [
        "wer_eval(normalizer(wav2vec_sol_2_0_high), normalizer(ref_sol_2_0))"
      ],
      "metadata": {
        "colab": {
          "base_uri": "https://localhost:8080/"
        },
        "id": "OFER51tlIbEY",
        "outputId": "e61372b6-c128-4b6b-d8c2-851ee5b788c8"
      },
      "execution_count": 30,
      "outputs": [
        {
          "output_type": "execute_result",
          "data": {
            "text/plain": [
              "0.15789473684210525"
            ]
          },
          "metadata": {},
          "execution_count": 30
        }
      ]
    },
    {
      "cell_type": "markdown",
      "source": [
        "# Part 7. Convert Transcripts and Evaluate WER for each articleIdx_paraIdx (ongoing)"
      ],
      "metadata": {
        "id": "WtRuDlPqJ9N7"
      }
    },
    {
      "cell_type": "code",
      "source": [],
      "metadata": {
        "id": "kgzQZcKbJ8RP"
      },
      "execution_count": null,
      "outputs": []
    },
    {
      "cell_type": "markdown",
      "source": [
        "# Scratch Block"
      ],
      "metadata": {
        "id": "kIHdWVqi-OEs"
      }
    },
    {
      "cell_type": "code",
      "source": [
        "import re\n",
        "from jiwer import wer\n",
        "\n",
        "def normalize_contractions(transcript):\n",
        "    contractions_dict = {\n",
        "        \"won't\": \"will not\",\n",
        "        \"can't\": \"cannot\",\n",
        "        \"I'm\" : \"I am\",\n",
        "        \"i'm\" : \"i am\",\n",
        "        \"You're\": \"You are\",\n",
        "        \"you're\": \"you are\"\n",
        "        # Add more contractions and their normalized forms as needed\n",
        "    }\n",
        "    \n",
        "    for contraction, normalized_form in contractions_dict.items():\n",
        "        transcript = transcript.replace(contraction, normalized_form)\n",
        "        \n",
        "    return transcript\n",
        "\n",
        "def preprocess_transcript(transcript):\n",
        "    # Remove special characters, except for apostrophes (since contractions have them)\n",
        "    transcript = re.sub(r\"[^a-zA-Z\\s']\", \"\", transcript)\n",
        "\n",
        "    # Normalize contractions\n",
        "    transcript = normalize_contractions(transcript)\n",
        "\n",
        "    # Remove filler words (you can add more filler words to the list as needed)\n",
        "    filler_words = [\"um\", \"uh\", \"like\"]\n",
        "    words = transcript.split()\n",
        "    words = [word for word in words if word.lower() not in filler_words]\n",
        "    transcript = ' '.join(words)\n",
        "\n",
        "    # Remove numbers (keep the text representation of numbers)\n",
        "    transcript = re.sub(r'\\d+', '', transcript)\n",
        "\n",
        "    # Lowercase and return the preprocessed transcript\n",
        "    return transcript.lower()\n",
        "\n",
        "def compute_wer(true_transcript, predicted_transcript):\n",
        "    # Preprocess the transcripts\n",
        "    true_transcript = preprocess_transcript(true_transcript)\n",
        "    predicted_transcript = preprocess_transcript(predicted_transcript)\n",
        "\n",
        "    return wer(true_transcript, predicted_transcript)\n"
      ],
      "metadata": {
        "id": "SNk6cZS4A-EZ"
      },
      "execution_count": null,
      "outputs": []
    },
    {
      "cell_type": "code",
      "source": [
        "import openai\n",
        "import tensorflow_datasets as tfds\n",
        "from jiwer import wer\n",
        "import numpy as np\n",
        "import requests\n",
        "\n",
        "# Load the TED-LIUM dataset\n",
        "tedlium_dataset = tfds.load('tedlium')\n",
        "test_data = tedlium_dataset['test']\n",
        "\n",
        "# Initialize the OpenAI API\n",
        "openai.api_key = \"your_openai_api_key\"\n",
        "\n",
        "# Set up the Whisper ASR API endpoint\n",
        "whisper_url = \"https://api.openai.com/v1/whisper/asr\"\n",
        "\n",
        "# Function to transcribe audio using the Whisper ASR API\n",
        "def transcribe_audio(audio):\n",
        "    response = requests.post(\n",
        "        whisper_url,\n",
        "        headers={\"Authorization\": f\"Bearer {openai.api_key}\"},\n",
        "        files={\"file\": audio},\n",
        "    )\n",
        "    response.raise_for_status()\n",
        "    return response.json()[\"transcript\"]\n",
        "\n",
        "# Function to compute Word Error Rate\n",
        "def compute_wer(true_transcript, predicted_transcript):\n",
        "    return wer(true_transcript, predicted_transcript)\n",
        "\n",
        "# Set up variables for WER calculation\n",
        "num_samples = 100  # You can adjust this number as needed\n",
        "wer_values = []\n",
        "\n",
        "# Iterate through the test dataset and compute WER\n",
        "for i, sample in enumerate(test_data.take(num_samples)):\n",
        "    audio = sample['audio'].numpy().tobytes()\n",
        "    true_transcript = sample['transcript'].numpy().decode('utf-8')\n",
        "    \n",
        "    try:\n",
        "        predicted_transcript = transcribe_audio(audio)\n",
        "        sample_wer = compute_wer(true_transcript, predicted_transcript)\n",
        "        wer_values.append(sample_wer)\n",
        "        print(f\"Sample {i + 1}: WER = {sample_wer:.2f}\")\n",
        "    except Exception as e:\n",
        "        print(f\"Error in sample {i + 1}: {e}\")\n",
        "\n",
        "# Calculate the average WER for the test dataset\n",
        "average_wer = np.mean(wer_values)\n",
        "print(f\"Average WER for {num_samples} samples: {average_wer:.2f}\")"
      ],
      "metadata": {
        "id": "BqBXfkAw0isU"
      },
      "execution_count": null,
      "outputs": []
    },
    {
      "cell_type": "code",
      "source": [
        "import subprocess\n",
        "\n",
        "# The command to transcribe the audio using the whisper ASR tool without timestamps\n",
        "cmd = \"whisper /content/3_54_merged.wav --model medium.en --no-timestamps\"\n",
        "\n",
        "# Run the command and capture the output\n",
        "transcription_output = subprocess.check_output(cmd, shell=True, text=True)\n",
        "\n",
        "# The transcribed text without time annotations is now stored in the transcription_output variable\n",
        "print(transcription_output)"
      ],
      "metadata": {
        "id": "PZNOuV2z50GC"
      },
      "execution_count": null,
      "outputs": []
    },
    {
      "cell_type": "code",
      "source": [
        "# This hasn't really run due to long running time!\n",
        "\n",
        "# # Input folder containing the WAV files\n",
        "# input_folder = \"dev_wav\"\n",
        "\n",
        "# # Output folder where the merged WAV files will be saved\n",
        "# output_folder_higher = \"/content/drive/MyDrive/SpokenSQuAD/output_wav_2_48khz_3\"\n",
        "\n",
        "# target_format_higher = {\n",
        "#     \"channels\": 2,        # Stereo\n",
        "#     \"frame_rate\": 48000,  # 48 kHz\n",
        "#     \"sample_width\": 3     # 24 bits per sample\n",
        "# }\n",
        "\n",
        "# # Merge the sentences in the paragraphs and save the results to the output folder\n",
        "# merge_sentences_in_paragraphs(input_folder, output_folder_higher, target_format_higher)"
      ],
      "metadata": {
        "id": "IHVrHKSTMllo"
      },
      "execution_count": null,
      "outputs": []
    },
    {
      "cell_type": "markdown",
      "source": [
        "Use Tensorflow libraries"
      ],
      "metadata": {
        "id": "dc9skUDNua3H"
      }
    },
    {
      "cell_type": "code",
      "source": [
        "!pip install datasets"
      ],
      "metadata": {
        "colab": {
          "base_uri": "https://localhost:8080/"
        },
        "id": "UOfVchWZnxlf",
        "outputId": "c6584feb-91df-469f-c8c5-1e4baa26cad1"
      },
      "execution_count": null,
      "outputs": [
        {
          "output_type": "stream",
          "name": "stdout",
          "text": [
            "Looking in indexes: https://pypi.org/simple, https://us-python.pkg.dev/colab-wheels/public/simple/\n",
            "Collecting datasets\n",
            "  Downloading datasets-2.11.0-py3-none-any.whl (468 kB)\n",
            "\u001b[2K     \u001b[90m━━━━━━━━━━━━━━━━━━━━━━━━━━━━━━━━━━━━━━━\u001b[0m \u001b[32m468.7/468.7 kB\u001b[0m \u001b[31m9.0 MB/s\u001b[0m eta \u001b[36m0:00:00\u001b[0m\n",
            "\u001b[?25hRequirement already satisfied: pandas in /usr/local/lib/python3.9/dist-packages (from datasets) (1.5.3)\n",
            "Requirement already satisfied: packaging in /usr/local/lib/python3.9/dist-packages (from datasets) (23.1)\n",
            "Collecting dill<0.3.7,>=0.3.0\n",
            "  Downloading dill-0.3.6-py3-none-any.whl (110 kB)\n",
            "\u001b[2K     \u001b[90m━━━━━━━━━━━━━━━━━━━━━━━━━━━━━━━━━━━━━━\u001b[0m \u001b[32m110.5/110.5 kB\u001b[0m \u001b[31m12.8 MB/s\u001b[0m eta \u001b[36m0:00:00\u001b[0m\n",
            "\u001b[?25hCollecting aiohttp\n",
            "  Downloading aiohttp-3.8.4-cp39-cp39-manylinux_2_17_x86_64.manylinux2014_x86_64.whl (1.0 MB)\n",
            "\u001b[2K     \u001b[90m━━━━━━━━━━━━━━━━━━━━━━━━━━━━━━━━━━━━━━━━\u001b[0m \u001b[32m1.0/1.0 MB\u001b[0m \u001b[31m31.4 MB/s\u001b[0m eta \u001b[36m0:00:00\u001b[0m\n",
            "\u001b[?25hRequirement already satisfied: requests>=2.19.0 in /usr/local/lib/python3.9/dist-packages (from datasets) (2.27.1)\n",
            "Requirement already satisfied: numpy>=1.17 in /usr/local/lib/python3.9/dist-packages (from datasets) (1.22.4)\n",
            "Requirement already satisfied: tqdm>=4.62.1 in /usr/local/lib/python3.9/dist-packages (from datasets) (4.65.0)\n",
            "Requirement already satisfied: pyarrow>=8.0.0 in /usr/local/lib/python3.9/dist-packages (from datasets) (9.0.0)\n",
            "Collecting multiprocess\n",
            "  Downloading multiprocess-0.70.14-py39-none-any.whl (132 kB)\n",
            "\u001b[2K     \u001b[90m━━━━━━━━━━━━━━━━━━━━━━━━━━━━━━━━━━━━━━\u001b[0m \u001b[32m132.9/132.9 kB\u001b[0m \u001b[31m14.9 MB/s\u001b[0m eta \u001b[36m0:00:00\u001b[0m\n",
            "\u001b[?25hRequirement already satisfied: fsspec[http]>=2021.11.1 in /usr/local/lib/python3.9/dist-packages (from datasets) (2023.4.0)\n",
            "Requirement already satisfied: pyyaml>=5.1 in /usr/local/lib/python3.9/dist-packages (from datasets) (6.0)\n",
            "Collecting xxhash\n",
            "  Downloading xxhash-3.2.0-cp39-cp39-manylinux_2_17_x86_64.manylinux2014_x86_64.whl (212 kB)\n",
            "\u001b[2K     \u001b[90m━━━━━━━━━━━━━━━━━━━━━━━━━━━━━━━━━━━━━━\u001b[0m \u001b[32m212.2/212.2 kB\u001b[0m \u001b[31m18.9 MB/s\u001b[0m eta \u001b[36m0:00:00\u001b[0m\n",
            "\u001b[?25hCollecting huggingface-hub<1.0.0,>=0.11.0\n",
            "  Downloading huggingface_hub-0.13.4-py3-none-any.whl (200 kB)\n",
            "\u001b[2K     \u001b[90m━━━━━━━━━━━━━━━━━━━━━━━━━━━━━━━━━━━━━━\u001b[0m \u001b[32m200.1/200.1 kB\u001b[0m \u001b[31m18.7 MB/s\u001b[0m eta \u001b[36m0:00:00\u001b[0m\n",
            "\u001b[?25hCollecting responses<0.19\n",
            "  Downloading responses-0.18.0-py3-none-any.whl (38 kB)\n",
            "Requirement already satisfied: charset-normalizer<4.0,>=2.0 in /usr/local/lib/python3.9/dist-packages (from aiohttp->datasets) (2.0.12)\n",
            "Collecting multidict<7.0,>=4.5\n",
            "  Downloading multidict-6.0.4-cp39-cp39-manylinux_2_17_x86_64.manylinux2014_x86_64.whl (114 kB)\n",
            "\u001b[2K     \u001b[90m━━━━━━━━━━━━━━━━━━━━━━━━━━━━━━━━━━━━━━\u001b[0m \u001b[32m114.2/114.2 kB\u001b[0m \u001b[31m11.2 MB/s\u001b[0m eta \u001b[36m0:00:00\u001b[0m\n",
            "\u001b[?25hRequirement already satisfied: attrs>=17.3.0 in /usr/local/lib/python3.9/dist-packages (from aiohttp->datasets) (23.1.0)\n",
            "Collecting async-timeout<5.0,>=4.0.0a3\n",
            "  Downloading async_timeout-4.0.2-py3-none-any.whl (5.8 kB)\n",
            "Collecting frozenlist>=1.1.1\n",
            "  Downloading frozenlist-1.3.3-cp39-cp39-manylinux_2_5_x86_64.manylinux1_x86_64.manylinux_2_17_x86_64.manylinux2014_x86_64.whl (158 kB)\n",
            "\u001b[2K     \u001b[90m━━━━━━━━━━━━━━━━━━━━━━━━━━━━━━━━━━━━━━\u001b[0m \u001b[32m158.8/158.8 kB\u001b[0m \u001b[31m15.8 MB/s\u001b[0m eta \u001b[36m0:00:00\u001b[0m\n",
            "\u001b[?25hCollecting yarl<2.0,>=1.0\n",
            "  Downloading yarl-1.9.1-cp39-cp39-manylinux_2_17_x86_64.manylinux2014_x86_64.whl (269 kB)\n",
            "\u001b[2K     \u001b[90m━━━━━━━━━━━━━━━━━━━━━━━━━━━━━━━━━━━━━━\u001b[0m \u001b[32m269.3/269.3 kB\u001b[0m \u001b[31m24.0 MB/s\u001b[0m eta \u001b[36m0:00:00\u001b[0m\n",
            "\u001b[?25hCollecting aiosignal>=1.1.2\n",
            "  Downloading aiosignal-1.3.1-py3-none-any.whl (7.6 kB)\n",
            "Requirement already satisfied: typing-extensions>=3.7.4.3 in /usr/local/lib/python3.9/dist-packages (from huggingface-hub<1.0.0,>=0.11.0->datasets) (4.5.0)\n",
            "Requirement already satisfied: filelock in /usr/local/lib/python3.9/dist-packages (from huggingface-hub<1.0.0,>=0.11.0->datasets) (3.11.0)\n",
            "Requirement already satisfied: urllib3<1.27,>=1.21.1 in /usr/local/lib/python3.9/dist-packages (from requests>=2.19.0->datasets) (1.26.15)\n",
            "Requirement already satisfied: certifi>=2017.4.17 in /usr/local/lib/python3.9/dist-packages (from requests>=2.19.0->datasets) (2022.12.7)\n",
            "Requirement already satisfied: idna<4,>=2.5 in /usr/local/lib/python3.9/dist-packages (from requests>=2.19.0->datasets) (3.4)\n",
            "Requirement already satisfied: python-dateutil>=2.8.1 in /usr/local/lib/python3.9/dist-packages (from pandas->datasets) (2.8.2)\n",
            "Requirement already satisfied: pytz>=2020.1 in /usr/local/lib/python3.9/dist-packages (from pandas->datasets) (2022.7.1)\n",
            "Requirement already satisfied: six>=1.5 in /usr/local/lib/python3.9/dist-packages (from python-dateutil>=2.8.1->pandas->datasets) (1.16.0)\n",
            "Installing collected packages: xxhash, multidict, frozenlist, dill, async-timeout, yarl, responses, multiprocess, huggingface-hub, aiosignal, aiohttp, datasets\n",
            "Successfully installed aiohttp-3.8.4 aiosignal-1.3.1 async-timeout-4.0.2 datasets-2.11.0 dill-0.3.6 frozenlist-1.3.3 huggingface-hub-0.13.4 multidict-6.0.4 multiprocess-0.70.14 responses-0.18.0 xxhash-3.2.0 yarl-1.9.1\n"
          ]
        }
      ]
    },
    {
      "cell_type": "code",
      "source": [
        "!pip install tensorflow-datasets"
      ],
      "metadata": {
        "colab": {
          "base_uri": "https://localhost:8080/"
        },
        "id": "gZQr2rh5rNj9",
        "outputId": "da051168-32b0-4367-e8d0-6bdb19a4a544"
      },
      "execution_count": null,
      "outputs": [
        {
          "output_type": "stream",
          "name": "stdout",
          "text": [
            "Looking in indexes: https://pypi.org/simple, https://us-python.pkg.dev/colab-wheels/public/simple/\n",
            "Requirement already satisfied: tensorflow-datasets in /usr/local/lib/python3.9/dist-packages (4.8.3)\n",
            "Requirement already satisfied: etils[enp,epath]>=0.9.0 in /usr/local/lib/python3.9/dist-packages (from tensorflow-datasets) (1.2.0)\n",
            "Requirement already satisfied: termcolor in /usr/local/lib/python3.9/dist-packages (from tensorflow-datasets) (2.2.0)\n",
            "Requirement already satisfied: absl-py in /usr/local/lib/python3.9/dist-packages (from tensorflow-datasets) (1.4.0)\n",
            "Requirement already satisfied: click in /usr/local/lib/python3.9/dist-packages (from tensorflow-datasets) (8.1.3)\n",
            "Requirement already satisfied: protobuf>=3.12.2 in /usr/local/lib/python3.9/dist-packages (from tensorflow-datasets) (3.20.3)\n",
            "Requirement already satisfied: dm-tree in /usr/local/lib/python3.9/dist-packages (from tensorflow-datasets) (0.1.8)\n",
            "Requirement already satisfied: tensorflow-metadata in /usr/local/lib/python3.9/dist-packages (from tensorflow-datasets) (1.13.1)\n",
            "Requirement already satisfied: wrapt in /usr/local/lib/python3.9/dist-packages (from tensorflow-datasets) (1.14.1)\n",
            "Requirement already satisfied: numpy in /usr/local/lib/python3.9/dist-packages (from tensorflow-datasets) (1.22.4)\n",
            "Requirement already satisfied: promise in /usr/local/lib/python3.9/dist-packages (from tensorflow-datasets) (2.3)\n",
            "Requirement already satisfied: toml in /usr/local/lib/python3.9/dist-packages (from tensorflow-datasets) (0.10.2)\n",
            "Requirement already satisfied: requests>=2.19.0 in /usr/local/lib/python3.9/dist-packages (from tensorflow-datasets) (2.27.1)\n",
            "Requirement already satisfied: psutil in /usr/local/lib/python3.9/dist-packages (from tensorflow-datasets) (5.9.5)\n",
            "Requirement already satisfied: tqdm in /usr/local/lib/python3.9/dist-packages (from tensorflow-datasets) (4.65.0)\n",
            "Requirement already satisfied: importlib_resources in /usr/local/lib/python3.9/dist-packages (from etils[enp,epath]>=0.9.0->tensorflow-datasets) (5.12.0)\n",
            "Requirement already satisfied: typing_extensions in /usr/local/lib/python3.9/dist-packages (from etils[enp,epath]>=0.9.0->tensorflow-datasets) (4.5.0)\n",
            "Requirement already satisfied: zipp in /usr/local/lib/python3.9/dist-packages (from etils[enp,epath]>=0.9.0->tensorflow-datasets) (3.15.0)\n",
            "Requirement already satisfied: urllib3<1.27,>=1.21.1 in /usr/local/lib/python3.9/dist-packages (from requests>=2.19.0->tensorflow-datasets) (1.26.15)\n",
            "Requirement already satisfied: idna<4,>=2.5 in /usr/local/lib/python3.9/dist-packages (from requests>=2.19.0->tensorflow-datasets) (3.4)\n",
            "Requirement already satisfied: charset-normalizer~=2.0.0 in /usr/local/lib/python3.9/dist-packages (from requests>=2.19.0->tensorflow-datasets) (2.0.12)\n",
            "Requirement already satisfied: certifi>=2017.4.17 in /usr/local/lib/python3.9/dist-packages (from requests>=2.19.0->tensorflow-datasets) (2022.12.7)\n",
            "Requirement already satisfied: six in /usr/local/lib/python3.9/dist-packages (from promise->tensorflow-datasets) (1.16.0)\n",
            "Requirement already satisfied: googleapis-common-protos<2,>=1.52.0 in /usr/local/lib/python3.9/dist-packages (from tensorflow-metadata->tensorflow-datasets) (1.59.0)\n"
          ]
        }
      ]
    },
    {
      "cell_type": "code",
      "source": [
        "import tensorflow_datasets as tfds\n",
        "\n",
        "squad_v1, info = tfds.load(\"squad/v1.1\", with_info=True, split=[\"train\", \"validation\"])\n",
        "\n",
        "train_data, validation_data = squad_v1"
      ],
      "metadata": {
        "colab": {
          "base_uri": "https://localhost:8080/",
          "height": 237,
          "referenced_widgets": [
            "5737093906c14592816b5d958b83286b",
            "0ba902d92a7c4e3a84f1a6d6cfc6a465",
            "4c99a51dc8ee434c9a307c7081b18f07",
            "491ca1402b8c4bddaf41f1963d044fd6",
            "84cdc95791ba40d485d32409b8f99740",
            "3e32736da1c44243a7d88d087f72f79f",
            "9f1b2be2dc6b480c83f00b0fbe07dd33",
            "2c99ea4b8b98411bb31e3ee5f2830ed9",
            "4f2a7dd3a18e4d049aa989579afa4f66",
            "d41304fce3f8434a81825d465b8806c2",
            "b6439fc046c1477190fd2be5bc821068",
            "28f78241fe1b470ba71d7bb21022c119",
            "469c150d141d48b081f4d5232299017b",
            "d3daea09e85e442fae2db5c973e0533e",
            "51fa8f68ae7447c096f4ea67b2b6e936",
            "015a9fb129f64589a5c89711283457df",
            "3aff31d8232e45d493580fe2b0608fe1",
            "2c35f6e9a72b4d86ac39d9e7cbd641c3",
            "08bd5083110a4fdb869020f807189dab",
            "43e79c31d66d49e8941d09213a9e6d97",
            "97ed4bc6398d46bba6204a61448e84ac",
            "a84c69c505a44256af5f3f50e86ba0d5",
            "9a2371f4ffa34d67b9e6b9f224a678b2",
            "4d97673be3f04641852d236a8c70cbfc",
            "ef027ab4dfe34b6998bb7757dc612cdc",
            "fdfe425033a94b7983c9e12c95b6ee6b",
            "1e965446830d45cc90683be73a4ed0fd",
            "162abe10bf154508a8cc631409cfe436",
            "aeca2257b11f45549690978bbf2f868b",
            "0f4524a36240479a80cb7dc7efd9690e",
            "9789ac86e32e4a75a78c6aba8001931a",
            "272341e989e34c97ba57eadd1f9daf5a",
            "c784496a9b0f4950b722b52657cad564",
            "b1d8970469d64eff95ba32af11fa7f53",
            "2a651274dde54188a15a66304b9f8da6",
            "7a468f713a824ac38d4a0847544ab53f",
            "4266a3283bb54db5ac62c319536a42eb",
            "2f5d7c76e4fc40ef98529c3d58e3c3a1",
            "7fd30865e8b44f4cb657926da843e660",
            "15055051b5244a979bb7e5ae77525346",
            "6905bbb236e44f2f9a5806406dcb3390",
            "9c89da9bffe9420aab75646553ed2d75",
            "63df494be27c4d3bb62de1d9b386a512",
            "64682275129946fa8db6d70bdebbefec",
            "4574d9a48e7b40c7b7f40407e878a360",
            "3c738af84b08466baaa5b3a84f413230",
            "437ff416e648404ba377cb0e3a343f30",
            "1f01ad0599664fa48d8281f50c5b5b1f",
            "b600ecefc0bb448699f85fedb297565f",
            "bf65f5db137441a98da755c711d08da8",
            "869fab35c5804f82b08389588ddcca41",
            "825fe93a286641b18815b23da596f4ea",
            "2cc0de5f830347e9990be13717fcf13b",
            "5eb4bd17fc094771925a6f41d280ce5b",
            "bbb40000116f4633a94a63223207e7bd",
            "991e9b3b132e4a4dabf43414847c6894",
            "f0f1bdf46088430cb04a9e9632a42070",
            "aa250bfaf1f245769a2f1bde1a261fe8",
            "2af585f2f4854a7b916d8d2a1f8ef1d7",
            "3158ea4f15de4dee82890be49d577c2b",
            "6ec12ce017a048f08e51ce791ac1edce",
            "23ad4862c53c4f4a8189eb0db3dba47d",
            "f172c0d2987e4a449d3d6b0d5675a9ae",
            "169e515dfc31488eb5552a6aecc95ad4",
            "fa4e916581744e15828ded116e5cee63",
            "c762ec3cd1dc416fae87c8e856c544d9",
            "6182131990204ed59f29e94279aaac95",
            "b419274e5a424f7ca77bd9a0c3ec046e",
            "19e2cb443b474070a65f63454f437c53",
            "9e257b1e10b143b1a2439662f6c6e40e",
            "ed62f9d5708f4bcdb30abb75e92f0813",
            "578555bc604e4cde96016c7f2f05b5cd",
            "6b2e1ccc673245d6875bd99a94291c56",
            "559d78062b174b4db89816d4dcce3b28",
            "103af62e2c6141028bb9cd695400ed63",
            "d628634a678747c794947abdf353838a",
            "1761859015e3451b8b56b7b7b46a1ea3",
            "1a2fba91ed1a45f2bcae2c13339dc745",
            "7ec4d61fd9ac4f829633e638b8ca22f4",
            "92d597b4ddd04d5e8cfbb64420ad6ed4",
            "4498b61c6a994b37a0d394a139b39df3",
            "5d8d23f932b0453c8b82b2ea58653b92",
            "68f5da3a5ab8427babd102172164843c",
            "c7c1544f14774061a20ab4cff38f9b90",
            "c0da1124217f4a9da32b814c7ae9021e",
            "9490703342a543689426ebb2f57cd03d",
            "ad75dca714614d5b807fba551d2c8d04",
            "65ca09d84dca4f72b70f5223037a3364"
          ]
        },
        "id": "cUk2G7g-rKuT",
        "outputId": "05e95224-e472-4f9d-8e07-856b77f4711c"
      },
      "execution_count": null,
      "outputs": [
        {
          "output_type": "stream",
          "name": "stdout",
          "text": [
            "Downloading and preparing dataset Unknown size (download: Unknown size, generated: Unknown size, total: Unknown size) to /root/tensorflow_datasets/squad/v1.1/3.0.0...\n"
          ]
        },
        {
          "output_type": "display_data",
          "data": {
            "text/plain": [
              "Dl Completed...: 0 url [00:00, ? url/s]"
            ],
            "application/vnd.jupyter.widget-view+json": {
              "version_major": 2,
              "version_minor": 0,
              "model_id": "5737093906c14592816b5d958b83286b"
            }
          },
          "metadata": {}
        },
        {
          "output_type": "display_data",
          "data": {
            "text/plain": [
              "Dl Size...: 0 MiB [00:00, ? MiB/s]"
            ],
            "application/vnd.jupyter.widget-view+json": {
              "version_major": 2,
              "version_minor": 0,
              "model_id": "28f78241fe1b470ba71d7bb21022c119"
            }
          },
          "metadata": {}
        },
        {
          "output_type": "display_data",
          "data": {
            "text/plain": [
              "Extraction completed...: 0 file [00:00, ? file/s]"
            ],
            "application/vnd.jupyter.widget-view+json": {
              "version_major": 2,
              "version_minor": 0,
              "model_id": "9a2371f4ffa34d67b9e6b9f224a678b2"
            }
          },
          "metadata": {}
        },
        {
          "output_type": "display_data",
          "data": {
            "text/plain": [
              "Generating splits...:   0%|          | 0/2 [00:00<?, ? splits/s]"
            ],
            "application/vnd.jupyter.widget-view+json": {
              "version_major": 2,
              "version_minor": 0,
              "model_id": "b1d8970469d64eff95ba32af11fa7f53"
            }
          },
          "metadata": {}
        },
        {
          "output_type": "stream",
          "name": "stderr",
          "text": [
            "WARNING:absl:`TensorInfo.dtype` is deprecated. Please change your code to use NumPy with the field `TensorInfo.np_dtype` or use TensorFlow with the field `TensorInfo.tf_dtype`.\n",
            "WARNING:absl:You use TensorFlow DType <dtype: 'int32'> in tfds.features This will soon be deprecated in favor of NumPy DTypes. In the meantime it was converted to int32.\n",
            "WARNING:absl:`TensorInfo.dtype` is deprecated. Please change your code to use NumPy with the field `TensorInfo.np_dtype` or use TensorFlow with the field `TensorInfo.tf_dtype`.\n",
            "WARNING:absl:You use TensorFlow DType <dtype: 'string'> in tfds.features This will soon be deprecated in favor of NumPy DTypes. In the meantime it was converted to object.\n"
          ]
        },
        {
          "output_type": "display_data",
          "data": {
            "text/plain": [
              "Generating train examples...: 0 examples [00:00, ? examples/s]"
            ],
            "application/vnd.jupyter.widget-view+json": {
              "version_major": 2,
              "version_minor": 0,
              "model_id": "4574d9a48e7b40c7b7f40407e878a360"
            }
          },
          "metadata": {}
        },
        {
          "output_type": "display_data",
          "data": {
            "text/plain": [
              "Shuffling /root/tensorflow_datasets/squad/v1.1/3.0.0.incompleteWJD629/squad-train.tfrecord*...:   0%|         …"
            ],
            "application/vnd.jupyter.widget-view+json": {
              "version_major": 2,
              "version_minor": 0,
              "model_id": "991e9b3b132e4a4dabf43414847c6894"
            }
          },
          "metadata": {}
        },
        {
          "output_type": "display_data",
          "data": {
            "text/plain": [
              "Generating validation examples...: 0 examples [00:00, ? examples/s]"
            ],
            "application/vnd.jupyter.widget-view+json": {
              "version_major": 2,
              "version_minor": 0,
              "model_id": "6182131990204ed59f29e94279aaac95"
            }
          },
          "metadata": {}
        },
        {
          "output_type": "display_data",
          "data": {
            "text/plain": [
              "Shuffling /root/tensorflow_datasets/squad/v1.1/3.0.0.incompleteWJD629/squad-validation.tfrecord*...:   0%|    …"
            ],
            "application/vnd.jupyter.widget-view+json": {
              "version_major": 2,
              "version_minor": 0,
              "model_id": "1a2fba91ed1a45f2bcae2c13339dc745"
            }
          },
          "metadata": {}
        },
        {
          "output_type": "stream",
          "name": "stdout",
          "text": [
            "Dataset squad downloaded and prepared to /root/tensorflow_datasets/squad/v1.1/3.0.0. Subsequent calls will reuse this data.\n"
          ]
        }
      ]
    },
    {
      "cell_type": "code",
      "source": [
        "train_data"
      ],
      "metadata": {
        "colab": {
          "base_uri": "https://localhost:8080/"
        },
        "id": "3mazF-a-rqOk",
        "outputId": "95605b9c-6c9d-4299-a1ea-10b45ddf3037"
      },
      "execution_count": null,
      "outputs": [
        {
          "output_type": "execute_result",
          "data": {
            "text/plain": [
              "<_PrefetchDataset element_spec={'answers': {'answer_start': TensorSpec(shape=(None,), dtype=tf.int32, name=None), 'text': TensorSpec(shape=(None,), dtype=tf.string, name=None)}, 'context': TensorSpec(shape=(), dtype=tf.string, name=None), 'id': TensorSpec(shape=(), dtype=tf.string, name=None), 'question': TensorSpec(shape=(), dtype=tf.string, name=None), 'title': TensorSpec(shape=(), dtype=tf.string, name=None)}>"
            ]
          },
          "metadata": {},
          "execution_count": 31
        }
      ]
    },
    {
      "cell_type": "code",
      "source": [
        "# Iterate over the validation_data\n",
        "counter = 0\n",
        "for example in validation_data:\n",
        "    id = example[\"id\"].numpy().decode('utf-8')\n",
        "    context = example[\"context\"].numpy().decode(\"utf-8\")\n",
        "    question = example[\"question\"].numpy().decode(\"utf-8\")\n",
        "    answer_text = example[\"answers\"][\"text\"][0].numpy().decode(\"utf-8\")\n",
        "    answer_start = example[\"answers\"][\"answer_start\"][0].numpy()\n",
        "    \n",
        "    print(\"id:\", id)\n",
        "    print(\"Context:\", context)\n",
        "    print(\"Question:\", question)\n",
        "    print(\"Answer:\", answer_text)\n",
        "    print(\"Answer Start Position:\", answer_start)\n",
        "    print(\"\\n---\\n\")\n",
        "    counter += 1\n",
        "    if counter > 100:\n",
        "      break"
      ],
      "metadata": {
        "id": "Dc2oY85KsDgq"
      },
      "execution_count": null,
      "outputs": []
    },
    {
      "cell_type": "code",
      "source": [
        "!wget https://rajpurkar.github.io/SQuAD-explorer/dataset/train-v1.1.json"
      ],
      "metadata": {
        "colab": {
          "base_uri": "https://localhost:8080/"
        },
        "id": "5ALUdQ8FuEOW",
        "outputId": "04a39a85-4a37-414f-9c27-251e6b96804d"
      },
      "execution_count": null,
      "outputs": [
        {
          "output_type": "stream",
          "name": "stdout",
          "text": [
            "--2023-04-23 20:05:11--  https://rajpurkar.github.io/SQuAD-explorer/dataset/train-v1.1.json\n",
            "Resolving rajpurkar.github.io (rajpurkar.github.io)... 185.199.108.153, 185.199.109.153, 185.199.110.153, ...\n",
            "Connecting to rajpurkar.github.io (rajpurkar.github.io)|185.199.108.153|:443... connected.\n",
            "HTTP request sent, awaiting response... 200 OK\n",
            "Length: 30288272 (29M) [application/json]\n",
            "Saving to: ‘train-v1.1.json’\n",
            "\n",
            "train-v1.1.json     100%[===================>]  28.88M   147MB/s    in 0.2s    \n",
            "\n",
            "2023-04-23 20:05:13 (147 MB/s) - ‘train-v1.1.json’ saved [30288272/30288272]\n",
            "\n"
          ]
        }
      ]
    },
    {
      "cell_type": "code",
      "source": [
        "!wget https://rajpurkar.github.io/SQuAD-explorer/dataset/dev-v1.1.json"
      ],
      "metadata": {
        "colab": {
          "base_uri": "https://localhost:8080/"
        },
        "id": "APczygeVuIiy",
        "outputId": "7b8ac425-454a-4846-c071-22314abb9c19"
      },
      "execution_count": null,
      "outputs": [
        {
          "output_type": "stream",
          "name": "stdout",
          "text": [
            "--2023-04-23 20:05:48--  https://rajpurkar.github.io/SQuAD-explorer/dataset/dev-v1.1.json\n",
            "Resolving rajpurkar.github.io (rajpurkar.github.io)... 185.199.109.153, 185.199.108.153, 185.199.111.153, ...\n",
            "Connecting to rajpurkar.github.io (rajpurkar.github.io)|185.199.109.153|:443... connected.\n",
            "HTTP request sent, awaiting response... 200 OK\n",
            "Length: 4854279 (4.6M) [application/json]\n",
            "Saving to: ‘dev-v1.1.json’\n",
            "\n",
            "dev-v1.1.json       100%[===================>]   4.63M  --.-KB/s    in 0.09s   \n",
            "\n",
            "2023-04-23 20:05:50 (53.4 MB/s) - ‘dev-v1.1.json’ saved [4854279/4854279]\n",
            "\n"
          ]
        }
      ]
    },
    {
      "cell_type": "code",
      "source": [
        "train_data"
      ],
      "metadata": {
        "id": "0qSi_e_-qwsC"
      },
      "execution_count": null,
      "outputs": []
    },
    {
      "cell_type": "code",
      "source": [
        "from pydub import AudioSegment\n",
        "import os\n",
        "\n",
        "def convert_frame_rate(input_folder, output_folder, target_frame_rate):\n",
        "    # Create the output folder if it doesn't exist\n",
        "    if not os.path.exists(output_folder):\n",
        "        os.makedirs(output_folder)\n",
        "\n",
        "    # Iterate through the input files\n",
        "    for file_name in os.listdir(input_folder):\n",
        "        # Check if the file is a WAV file\n",
        "        if file_name.endswith(\".wav\"):\n",
        "            # Load the input file\n",
        "            file_path = os.path.join(input_folder, file_name)\n",
        "            input_audio = AudioSegment.from_wav(file_path)\n",
        "\n",
        "            # Convert the frame rate\n",
        "            converted_audio = input_audio.set_frame_rate(target_frame_rate)\n",
        "\n",
        "            # Save the converted audio to the output folder\n",
        "            output_file_path = os.path.join(output_folder, file_name)\n",
        "            converted_audio.export(output_file_path, format=\"wav\")\n",
        "\n",
        "# Source folder containing the 44.1 kHz merged WAV files\n",
        "source_folder = \"output_wav_44_1\"\n",
        "\n",
        "# Destination folder where the 48 kHz converted WAV files will be saved\n",
        "destination_folder = \"output_wav_48\"\n",
        "\n",
        "# Target frame rate (48 kHz)\n",
        "target_frame_rate = 48000\n",
        "\n",
        "# Convert the frame rate of the merged files and save the results to the destination folder\n",
        "convert_frame_rate(source_folder, destination_folder, target_frame_rate)"
      ],
      "metadata": {
        "id": "e_rmrdfBJqjt"
      },
      "execution_count": null,
      "outputs": []
    },
    {
      "cell_type": "code",
      "source": [
        "!pip install git+https://github.com/openai/whisper.git\n",
        "!sudo apt update && sudo apt install ffmpeg"
      ],
      "metadata": {
        "colab": {
          "base_uri": "https://localhost:8080/"
        },
        "id": "BI73FIU7HtNN",
        "outputId": "520dc581-ee24-4ca7-f290-7d4b8be94327"
      },
      "execution_count": null,
      "outputs": [
        {
          "output_type": "stream",
          "name": "stdout",
          "text": [
            "Looking in indexes: https://pypi.org/simple, https://us-python.pkg.dev/colab-wheels/public/simple/\n",
            "Collecting git+https://github.com/openai/whisper.git\n",
            "  Cloning https://github.com/openai/whisper.git to /tmp/pip-req-build-sdvbfj5w\n",
            "  Running command git clone --filter=blob:none --quiet https://github.com/openai/whisper.git /tmp/pip-req-build-sdvbfj5w\n",
            "  Resolved https://github.com/openai/whisper.git to commit c09a7ae299c4c34c5839a76380ae407e7d785914\n",
            "  Installing build dependencies ... \u001b[?25l\u001b[?25hdone\n",
            "  Getting requirements to build wheel ... \u001b[?25l\u001b[?25hdone\n",
            "  Preparing metadata (pyproject.toml) ... \u001b[?25l\u001b[?25hdone\n",
            "Requirement already satisfied: more-itertools in /usr/local/lib/python3.9/dist-packages (from openai-whisper==20230314) (9.1.0)\n",
            "Collecting ffmpeg-python==0.2.0\n",
            "  Downloading ffmpeg_python-0.2.0-py3-none-any.whl (25 kB)\n",
            "Requirement already satisfied: triton==2.0.0 in /usr/local/lib/python3.9/dist-packages (from openai-whisper==20230314) (2.0.0)\n",
            "Requirement already satisfied: numba in /usr/local/lib/python3.9/dist-packages (from openai-whisper==20230314) (0.56.4)\n",
            "Requirement already satisfied: torch in /usr/local/lib/python3.9/dist-packages (from openai-whisper==20230314) (2.0.0+cu118)\n",
            "Requirement already satisfied: tqdm in /usr/local/lib/python3.9/dist-packages (from openai-whisper==20230314) (4.65.0)\n",
            "Requirement already satisfied: numpy in /usr/local/lib/python3.9/dist-packages (from openai-whisper==20230314) (1.22.4)\n",
            "Collecting tiktoken==0.3.1\n",
            "  Downloading tiktoken-0.3.1-cp39-cp39-manylinux_2_17_x86_64.manylinux2014_x86_64.whl (1.7 MB)\n",
            "\u001b[2K     \u001b[90m━━━━━━━━━━━━━━━━━━━━━━━━━━━━━━━━━━━━━━━━\u001b[0m \u001b[32m1.7/1.7 MB\u001b[0m \u001b[31m22.8 MB/s\u001b[0m eta \u001b[36m0:00:00\u001b[0m\n",
            "\u001b[?25hRequirement already satisfied: future in /usr/local/lib/python3.9/dist-packages (from ffmpeg-python==0.2.0->openai-whisper==20230314) (0.18.3)\n",
            "Requirement already satisfied: requests>=2.26.0 in /usr/local/lib/python3.9/dist-packages (from tiktoken==0.3.1->openai-whisper==20230314) (2.27.1)\n",
            "Requirement already satisfied: regex>=2022.1.18 in /usr/local/lib/python3.9/dist-packages (from tiktoken==0.3.1->openai-whisper==20230314) (2022.10.31)\n",
            "Requirement already satisfied: cmake in /usr/local/lib/python3.9/dist-packages (from triton==2.0.0->openai-whisper==20230314) (3.25.2)\n",
            "Requirement already satisfied: filelock in /usr/local/lib/python3.9/dist-packages (from triton==2.0.0->openai-whisper==20230314) (3.11.0)\n",
            "Requirement already satisfied: lit in /usr/local/lib/python3.9/dist-packages (from triton==2.0.0->openai-whisper==20230314) (16.0.1)\n",
            "Requirement already satisfied: llvmlite<0.40,>=0.39.0dev0 in /usr/local/lib/python3.9/dist-packages (from numba->openai-whisper==20230314) (0.39.1)\n",
            "Requirement already satisfied: setuptools in /usr/local/lib/python3.9/dist-packages (from numba->openai-whisper==20230314) (67.6.1)\n",
            "Requirement already satisfied: sympy in /usr/local/lib/python3.9/dist-packages (from torch->openai-whisper==20230314) (1.11.1)\n",
            "Requirement already satisfied: typing-extensions in /usr/local/lib/python3.9/dist-packages (from torch->openai-whisper==20230314) (4.5.0)\n",
            "Requirement already satisfied: jinja2 in /usr/local/lib/python3.9/dist-packages (from torch->openai-whisper==20230314) (3.1.2)\n",
            "Requirement already satisfied: networkx in /usr/local/lib/python3.9/dist-packages (from torch->openai-whisper==20230314) (3.1)\n",
            "Requirement already satisfied: certifi>=2017.4.17 in /usr/local/lib/python3.9/dist-packages (from requests>=2.26.0->tiktoken==0.3.1->openai-whisper==20230314) (2022.12.7)\n",
            "Requirement already satisfied: charset-normalizer~=2.0.0 in /usr/local/lib/python3.9/dist-packages (from requests>=2.26.0->tiktoken==0.3.1->openai-whisper==20230314) (2.0.12)\n",
            "Requirement already satisfied: idna<4,>=2.5 in /usr/local/lib/python3.9/dist-packages (from requests>=2.26.0->tiktoken==0.3.1->openai-whisper==20230314) (3.4)\n",
            "Requirement already satisfied: urllib3<1.27,>=1.21.1 in /usr/local/lib/python3.9/dist-packages (from requests>=2.26.0->tiktoken==0.3.1->openai-whisper==20230314) (1.26.15)\n",
            "Requirement already satisfied: MarkupSafe>=2.0 in /usr/local/lib/python3.9/dist-packages (from jinja2->torch->openai-whisper==20230314) (2.1.2)\n",
            "Requirement already satisfied: mpmath>=0.19 in /usr/local/lib/python3.9/dist-packages (from sympy->torch->openai-whisper==20230314) (1.3.0)\n",
            "Building wheels for collected packages: openai-whisper\n",
            "  Building wheel for openai-whisper (pyproject.toml) ... \u001b[?25l\u001b[?25hdone\n",
            "  Created wheel for openai-whisper: filename=openai_whisper-20230314-py3-none-any.whl size=798038 sha256=85fca8d3349c1e6f1783c908fb87d083205b6ff33e4a3836f36a70b18fa1aaf2\n",
            "  Stored in directory: /tmp/pip-ephem-wheel-cache-jh5x63m3/wheels/fe/03/29/e7919208d11b4ab32972cb448bb84a9a675d92cd52c9a48341\n",
            "Successfully built openai-whisper\n",
            "Installing collected packages: ffmpeg-python, tiktoken, openai-whisper\n",
            "Successfully installed ffmpeg-python-0.2.0 openai-whisper-20230314 tiktoken-0.3.1\n",
            "Get:1 https://cloud.r-project.org/bin/linux/ubuntu focal-cran40/ InRelease [3,622 B]\n",
            "Get:2 https://developer.download.nvidia.com/compute/cuda/repos/ubuntu2004/x86_64  InRelease [1,581 B]\n",
            "Get:3 https://cloud.r-project.org/bin/linux/ubuntu focal-cran40/ Packages [76.4 kB]\n",
            "Get:4 https://developer.download.nvidia.com/compute/cuda/repos/ubuntu2004/x86_64  Packages [993 kB]\n",
            "Get:5 http://security.ubuntu.com/ubuntu focal-security InRelease [114 kB]\n",
            "Get:6 http://ppa.launchpad.net/c2d4u.team/c2d4u4.0+/ubuntu focal InRelease [18.1 kB]\n",
            "Hit:7 http://archive.ubuntu.com/ubuntu focal InRelease\n",
            "Get:8 http://archive.ubuntu.com/ubuntu focal-updates InRelease [114 kB]\n",
            "Hit:9 http://ppa.launchpad.net/cran/libgit2/ubuntu focal InRelease\n",
            "Get:10 http://security.ubuntu.com/ubuntu focal-security/universe amd64 Packages [1,033 kB]\n",
            "Hit:11 http://ppa.launchpad.net/deadsnakes/ppa/ubuntu focal InRelease\n",
            "Get:12 http://archive.ubuntu.com/ubuntu focal-backports InRelease [108 kB]\n",
            "Hit:13 http://ppa.launchpad.net/graphics-drivers/ppa/ubuntu focal InRelease\n",
            "Get:14 http://security.ubuntu.com/ubuntu focal-security/main amd64 Packages [2,629 kB]\n",
            "Get:15 http://archive.ubuntu.com/ubuntu focal-updates/universe amd64 Packages [1,329 kB]\n",
            "Hit:16 http://ppa.launchpad.net/ubuntugis/ppa/ubuntu focal InRelease\n",
            "Get:17 http://ppa.launchpad.net/c2d4u.team/c2d4u4.0+/ubuntu focal/main Sources [2,430 kB]\n",
            "Get:18 http://archive.ubuntu.com/ubuntu focal-updates/multiverse amd64 Packages [31.2 kB]\n",
            "Get:19 http://archive.ubuntu.com/ubuntu focal-updates/restricted amd64 Packages [2,277 kB]\n",
            "Get:20 http://archive.ubuntu.com/ubuntu focal-updates/main amd64 Packages [3,111 kB]\n",
            "Get:21 http://ppa.launchpad.net/c2d4u.team/c2d4u4.0+/ubuntu focal/main amd64 Packages [1,150 kB]\n",
            "Fetched 15.4 MB in 6s (2,425 kB/s)\n",
            "Reading package lists... Done\n",
            "Building dependency tree       \n",
            "Reading state information... Done\n",
            "32 packages can be upgraded. Run 'apt list --upgradable' to see them.\n",
            "Reading package lists... Done\n",
            "Building dependency tree       \n",
            "Reading state information... Done\n",
            "ffmpeg is already the newest version (7:4.2.7-0ubuntu0.1).\n",
            "0 upgraded, 0 newly installed, 0 to remove and 32 not upgraded.\n"
          ]
        }
      ]
    },
    {
      "cell_type": "code",
      "source": [
        "!whisper \"/content/3_54_merged.wav\" --model medium.en"
      ],
      "metadata": {
        "colab": {
          "base_uri": "https://localhost:8080/"
        },
        "id": "XLz8MiasH1Xr",
        "outputId": "98734625-93ad-49ad-d0f0-2c8c5efa47a9"
      },
      "execution_count": null,
      "outputs": [
        {
          "output_type": "stream",
          "name": "stdout",
          "text": [
            "100%|█████████████████████████████████████| 1.42G/1.42G [01:09<00:00, 22.0MiB/s]\n",
            "/usr/local/lib/python3.9/dist-packages/whisper/transcribe.py:114: UserWarning: FP16 is not supported on CPU; using FP32 instead\n",
            "  warnings.warn(\"FP16 is not supported on CPU; using FP32 instead\")\n",
            "Traceback (most recent call last):\n",
            "  File \"/usr/local/bin/whisper\", line 8, in <module>\n",
            "    sys.exit(cli())\n",
            "  File \"/usr/local/lib/python3.9/dist-packages/whisper/transcribe.py\", line 448, in cli\n",
            "    result = transcribe(model, audio_path, temperature=temperature, **args)\n",
            "  File \"/usr/local/lib/python3.9/dist-packages/whisper/transcribe.py\", line 229, in transcribe\n",
            "    result: DecodingResult = decode_with_fallback(mel_segment)\n",
            "  File \"/usr/local/lib/python3.9/dist-packages/whisper/transcribe.py\", line 164, in decode_with_fallback\n",
            "    decode_result = model.decode(segment, options)\n",
            "  File \"/usr/local/lib/python3.9/dist-packages/torch/utils/_contextlib.py\", line 115, in decorate_context\n",
            "    return func(*args, **kwargs)\n",
            "  File \"/usr/local/lib/python3.9/dist-packages/whisper/decoding.py\", line 816, in decode\n",
            "    result = DecodingTask(model, options).run(mel)\n",
            "  File \"/usr/local/lib/python3.9/dist-packages/torch/utils/_contextlib.py\", line 115, in decorate_context\n",
            "    return func(*args, **kwargs)\n",
            "  File \"/usr/local/lib/python3.9/dist-packages/whisper/decoding.py\", line 709, in run\n",
            "    audio_features: Tensor = self._get_audio_features(mel)  # encoder forward pass\n",
            "  File \"/usr/local/lib/python3.9/dist-packages/whisper/decoding.py\", line 645, in _get_audio_features\n",
            "    audio_features = self.model.encoder(mel)\n",
            "  File \"/usr/local/lib/python3.9/dist-packages/torch/nn/modules/module.py\", line 1501, in _call_impl\n",
            "    return forward_call(*args, **kwargs)\n",
            "  File \"/usr/local/lib/python3.9/dist-packages/whisper/model.py\", line 170, in forward\n",
            "    x = block(x)\n",
            "  File \"/usr/local/lib/python3.9/dist-packages/torch/nn/modules/module.py\", line 1501, in _call_impl\n",
            "    return forward_call(*args, **kwargs)\n",
            "  File \"/usr/local/lib/python3.9/dist-packages/whisper/model.py\", line 139, in forward\n",
            "    x = x + self.mlp(self.mlp_ln(x))\n",
            "  File \"/usr/local/lib/python3.9/dist-packages/torch/nn/modules/module.py\", line 1501, in _call_impl\n",
            "    return forward_call(*args, **kwargs)\n",
            "  File \"/usr/local/lib/python3.9/dist-packages/torch/nn/modules/container.py\", line 217, in forward\n",
            "    input = module(input)\n",
            "  File \"/usr/local/lib/python3.9/dist-packages/torch/nn/modules/module.py\", line 1501, in _call_impl\n",
            "    return forward_call(*args, **kwargs)\n",
            "  File \"/usr/local/lib/python3.9/dist-packages/whisper/model.py\", line 37, in forward\n",
            "    return F.linear(\n",
            "KeyboardInterrupt\n",
            "^C\n"
          ]
        }
      ]
    },
    {
      "cell_type": "code",
      "source": [
        "!wget -P /content/drive/MyDrive/ http://speech.ee.ntu.edu.tw/~chiahsuan/Spoken-SQuAD/Spoken-SQuAD_audio.zip"
      ],
      "metadata": {
        "id": "oxwk4y3EK_-p",
        "colab": {
          "base_uri": "https://localhost:8080/"
        },
        "outputId": "32e531f0-efd5-4bc8-f8b0-d8e8d4e49ce8"
      },
      "execution_count": null,
      "outputs": [
        {
          "output_type": "stream",
          "name": "stdout",
          "text": [
            "--2023-04-22 22:08:29--  http://speech.ee.ntu.edu.tw/~chiahsuan/Spoken-SQuAD/Spoken-SQuAD_audio.zip\n",
            "Resolving speech.ee.ntu.edu.tw (speech.ee.ntu.edu.tw)... 140.112.21.8\n",
            "Connecting to speech.ee.ntu.edu.tw (speech.ee.ntu.edu.tw)|140.112.21.8|:80... connected.\n",
            "HTTP request sent, awaiting response... 200 OK\n",
            "Length: 46069259699 (43G) [application/zip]\n",
            "Saving to: ‘/content/drive/MyDrive/Spoken-SQuAD_audio.zip’\n",
            "\n",
            "Spoken-SQuAD_audio. 100%[===================>]  42.91G  12.0MB/s    in 66m 11s \n",
            "\n",
            "2023-04-22 23:14:41 (11.1 MB/s) - ‘/content/drive/MyDrive/Spoken-SQuAD_audio.zip’ saved [46069259699/46069259699]\n",
            "\n"
          ]
        }
      ]
    },
    {
      "cell_type": "code",
      "source": [
        "!unzip /content/drive/MyDrive/SpokenSQuAD/Spoken-SQuAD_audio.zip"
      ],
      "metadata": {
        "colab": {
          "base_uri": "https://localhost:8080/"
        },
        "id": "HDQMFPzyRSWC",
        "outputId": "a581958e-cb61-4133-9708-2a4cf056849d"
      },
      "execution_count": null,
      "outputs": [
        {
          "output_type": "stream",
          "name": "stdout",
          "text": [
            "Archive:  /content/drive/MyDrive/SpokenSQuAD/Spoken-SQuAD_audio.zip\n",
            "   creating: Spoken-SQuAD_audio/\n",
            " extracting: Spoken-SQuAD_audio/dev_wav.zip  \n",
            " extracting: Spoken-SQuAD_audio/train_wav.zip  \n"
          ]
        }
      ]
    },
    {
      "cell_type": "code",
      "source": [
        "!rm -rf /content/speech.ee.ntu.edu.tw"
      ],
      "metadata": {
        "id": "MiqM5rts6gZ2"
      },
      "execution_count": null,
      "outputs": []
    },
    {
      "cell_type": "code",
      "source": [
        "print(1)"
      ],
      "metadata": {
        "colab": {
          "base_uri": "https://localhost:8080/"
        },
        "id": "pouwdbUfn8If",
        "outputId": "388b6cea-1241-42be-ad8c-ddf5ca72a026"
      },
      "execution_count": null,
      "outputs": [
        {
          "output_type": "stream",
          "name": "stdout",
          "text": [
            "1\n"
          ]
        }
      ]
    },
    {
      "cell_type": "code",
      "source": [
        "!ls /content/drive/MyDrive/SpokenSQuAD"
      ],
      "metadata": {
        "colab": {
          "base_uri": "https://localhost:8080/"
        },
        "id": "5WUIffL3rlQM",
        "outputId": "3da83402-f0fc-4336-ab4c-3b0b5d5d9036"
      },
      "execution_count": null,
      "outputs": [
        {
          "output_type": "stream",
          "name": "stdout",
          "text": [
            "dev_wav.zip  Spoken-SQuAD_audio.zip  train_wav.zip\n"
          ]
        }
      ]
    },
    {
      "cell_type": "code",
      "source": [
        "!unzip /content/Spoken-SQuAD_audio/dev_wav.zip"
      ],
      "metadata": {
        "colab": {
          "base_uri": "https://localhost:8080/"
        },
        "id": "4UXjXEzqrvMQ",
        "outputId": "46c6333e-ed18-4415-a9e9-be4df1d6bfc6"
      },
      "execution_count": null,
      "outputs": [
        {
          "output_type": "stream",
          "name": "stdout",
          "text": [
            "unzip:  cannot find or open /content/Spoken-SQuAD_audio/dev_wav.zip, /content/Spoken-SQuAD_audio/dev_wav.zip.zip or /content/Spoken-SQuAD_audio/dev_wav.zip.ZIP.\n"
          ]
        }
      ]
    },
    {
      "cell_type": "code",
      "source": [
        "!unzip /content/drive/MyDrive/SpokenSQuAD/dev_wav.zip"
      ],
      "metadata": {
        "id": "C4GEan9pr1lc"
      },
      "execution_count": null,
      "outputs": []
    },
    {
      "cell_type": "code",
      "source": [
        "!ls !unzip /content/dev_wav"
      ],
      "metadata": {
        "id": "k6e1k2exs-xj"
      },
      "execution_count": null,
      "outputs": []
    },
    {
      "cell_type": "code",
      "source": [
        "!unzip /content/drive/MyDrive/SpokenSQuAD/train_wav.zip"
      ],
      "metadata": {
        "id": "Q1Kj1zMttY7Y"
      },
      "execution_count": null,
      "outputs": []
    },
    {
      "cell_type": "code",
      "source": [
        "!ls /content/train_wav | head -n 50"
      ],
      "metadata": {
        "id": "O2sCpkGNxXl5"
      },
      "execution_count": null,
      "outputs": []
    },
    {
      "cell_type": "code",
      "source": [
        "! ls -1 /content/dev_wav | wc -l"
      ],
      "metadata": {
        "colab": {
          "base_uri": "https://localhost:8080/"
        },
        "id": "Z2C495w41xrT",
        "outputId": "dd64f932-25fb-4906-dcd2-578efa112b4e"
      },
      "execution_count": null,
      "outputs": [
        {
          "output_type": "stream",
          "name": "stdout",
          "text": [
            "10578\n"
          ]
        }
      ]
    },
    {
      "cell_type": "code",
      "source": [
        "! ls -1 /content/train_wav | wc -l"
      ],
      "metadata": {
        "id": "dRV4BWS62Ceg",
        "outputId": "02565561-3ac4-4a10-f9fa-5fbada04b7b3",
        "colab": {
          "base_uri": "https://localhost:8080/"
        }
      },
      "execution_count": null,
      "outputs": [
        {
          "output_type": "stream",
          "name": "stdout",
          "text": [
            "94253\n"
          ]
        }
      ]
    }
  ]
}